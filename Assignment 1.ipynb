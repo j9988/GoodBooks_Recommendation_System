{
 "cells": [
  {
   "cell_type": "markdown",
   "metadata": {},
   "source": [
    "# Libraries Importing"
   ]
  },
  {
   "cell_type": "code",
   "execution_count": 1,
   "metadata": {},
   "outputs": [],
   "source": [
    "# import libraries\n",
    "import re\n",
    "import numpy as np\n",
    "import pandas as pd\n",
    "import seaborn as sns\n",
    "import requests\n",
    "import matplotlib.pyplot as plt\n",
    "from bs4 import BeautifulSoup\n",
    "from difflib import get_close_matches\n",
    "from scipy.sparse import csr_matrix\n",
    "from IPython.display import Image, display\n",
    "from sklearn.preprocessing import OrdinalEncoder\n",
    "from sklearn.metrics.pairwise import cosine_similarity"
   ]
  },
  {
   "cell_type": "markdown",
   "metadata": {},
   "source": [
    "# Data Importing"
   ]
  },
  {
   "cell_type": "markdown",
   "metadata": {},
   "source": [
    "## Books Dataset"
   ]
  },
  {
   "cell_type": "code",
   "execution_count": 2,
   "metadata": {},
   "outputs": [
    {
     "data": {
      "text/html": [
       "<div>\n",
       "<style scoped>\n",
       "    .dataframe tbody tr th:only-of-type {\n",
       "        vertical-align: middle;\n",
       "    }\n",
       "\n",
       "    .dataframe tbody tr th {\n",
       "        vertical-align: top;\n",
       "    }\n",
       "\n",
       "    .dataframe thead th {\n",
       "        text-align: right;\n",
       "    }\n",
       "</style>\n",
       "<table border=\"1\" class=\"dataframe\">\n",
       "  <thead>\n",
       "    <tr style=\"text-align: right;\">\n",
       "      <th></th>\n",
       "      <th>book_id</th>\n",
       "      <th>goodreads_book_id</th>\n",
       "      <th>best_book_id</th>\n",
       "      <th>work_id</th>\n",
       "      <th>books_count</th>\n",
       "      <th>isbn</th>\n",
       "      <th>isbn13</th>\n",
       "      <th>authors</th>\n",
       "      <th>original_publication_year</th>\n",
       "      <th>original_title</th>\n",
       "      <th>...</th>\n",
       "      <th>ratings_count</th>\n",
       "      <th>work_ratings_count</th>\n",
       "      <th>work_text_reviews_count</th>\n",
       "      <th>ratings_1</th>\n",
       "      <th>ratings_2</th>\n",
       "      <th>ratings_3</th>\n",
       "      <th>ratings_4</th>\n",
       "      <th>ratings_5</th>\n",
       "      <th>image_url</th>\n",
       "      <th>small_image_url</th>\n",
       "    </tr>\n",
       "  </thead>\n",
       "  <tbody>\n",
       "    <tr>\n",
       "      <th>0</th>\n",
       "      <td>1</td>\n",
       "      <td>2767052</td>\n",
       "      <td>2767052</td>\n",
       "      <td>2792775</td>\n",
       "      <td>272</td>\n",
       "      <td>439023483</td>\n",
       "      <td>9.780439e+12</td>\n",
       "      <td>Suzanne Collins</td>\n",
       "      <td>2008.0</td>\n",
       "      <td>The Hunger Games</td>\n",
       "      <td>...</td>\n",
       "      <td>4780653</td>\n",
       "      <td>4942365</td>\n",
       "      <td>155254</td>\n",
       "      <td>66715</td>\n",
       "      <td>127936</td>\n",
       "      <td>560092</td>\n",
       "      <td>1481305</td>\n",
       "      <td>2706317</td>\n",
       "      <td>https://images.gr-assets.com/books/1447303603m...</td>\n",
       "      <td>https://images.gr-assets.com/books/1447303603s...</td>\n",
       "    </tr>\n",
       "    <tr>\n",
       "      <th>1</th>\n",
       "      <td>2</td>\n",
       "      <td>3</td>\n",
       "      <td>3</td>\n",
       "      <td>4640799</td>\n",
       "      <td>491</td>\n",
       "      <td>439554934</td>\n",
       "      <td>9.780440e+12</td>\n",
       "      <td>J.K. Rowling, Mary GrandPré</td>\n",
       "      <td>1997.0</td>\n",
       "      <td>Harry Potter and the Philosopher's Stone</td>\n",
       "      <td>...</td>\n",
       "      <td>4602479</td>\n",
       "      <td>4800065</td>\n",
       "      <td>75867</td>\n",
       "      <td>75504</td>\n",
       "      <td>101676</td>\n",
       "      <td>455024</td>\n",
       "      <td>1156318</td>\n",
       "      <td>3011543</td>\n",
       "      <td>https://images.gr-assets.com/books/1474154022m...</td>\n",
       "      <td>https://images.gr-assets.com/books/1474154022s...</td>\n",
       "    </tr>\n",
       "    <tr>\n",
       "      <th>2</th>\n",
       "      <td>3</td>\n",
       "      <td>41865</td>\n",
       "      <td>41865</td>\n",
       "      <td>3212258</td>\n",
       "      <td>226</td>\n",
       "      <td>316015849</td>\n",
       "      <td>9.780316e+12</td>\n",
       "      <td>Stephenie Meyer</td>\n",
       "      <td>2005.0</td>\n",
       "      <td>Twilight</td>\n",
       "      <td>...</td>\n",
       "      <td>3866839</td>\n",
       "      <td>3916824</td>\n",
       "      <td>95009</td>\n",
       "      <td>456191</td>\n",
       "      <td>436802</td>\n",
       "      <td>793319</td>\n",
       "      <td>875073</td>\n",
       "      <td>1355439</td>\n",
       "      <td>https://images.gr-assets.com/books/1361039443m...</td>\n",
       "      <td>https://images.gr-assets.com/books/1361039443s...</td>\n",
       "    </tr>\n",
       "    <tr>\n",
       "      <th>3</th>\n",
       "      <td>4</td>\n",
       "      <td>2657</td>\n",
       "      <td>2657</td>\n",
       "      <td>3275794</td>\n",
       "      <td>487</td>\n",
       "      <td>61120081</td>\n",
       "      <td>9.780061e+12</td>\n",
       "      <td>Harper Lee</td>\n",
       "      <td>1960.0</td>\n",
       "      <td>To Kill a Mockingbird</td>\n",
       "      <td>...</td>\n",
       "      <td>3198671</td>\n",
       "      <td>3340896</td>\n",
       "      <td>72586</td>\n",
       "      <td>60427</td>\n",
       "      <td>117415</td>\n",
       "      <td>446835</td>\n",
       "      <td>1001952</td>\n",
       "      <td>1714267</td>\n",
       "      <td>https://images.gr-assets.com/books/1361975680m...</td>\n",
       "      <td>https://images.gr-assets.com/books/1361975680s...</td>\n",
       "    </tr>\n",
       "    <tr>\n",
       "      <th>4</th>\n",
       "      <td>5</td>\n",
       "      <td>4671</td>\n",
       "      <td>4671</td>\n",
       "      <td>245494</td>\n",
       "      <td>1356</td>\n",
       "      <td>743273567</td>\n",
       "      <td>9.780743e+12</td>\n",
       "      <td>F. Scott Fitzgerald</td>\n",
       "      <td>1925.0</td>\n",
       "      <td>The Great Gatsby</td>\n",
       "      <td>...</td>\n",
       "      <td>2683664</td>\n",
       "      <td>2773745</td>\n",
       "      <td>51992</td>\n",
       "      <td>86236</td>\n",
       "      <td>197621</td>\n",
       "      <td>606158</td>\n",
       "      <td>936012</td>\n",
       "      <td>947718</td>\n",
       "      <td>https://images.gr-assets.com/books/1490528560m...</td>\n",
       "      <td>https://images.gr-assets.com/books/1490528560s...</td>\n",
       "    </tr>\n",
       "  </tbody>\n",
       "</table>\n",
       "<p>5 rows × 23 columns</p>\n",
       "</div>"
      ],
      "text/plain": [
       "   book_id  goodreads_book_id  best_book_id  work_id  books_count       isbn  \\\n",
       "0        1            2767052       2767052  2792775          272  439023483   \n",
       "1        2                  3             3  4640799          491  439554934   \n",
       "2        3              41865         41865  3212258          226  316015849   \n",
       "3        4               2657          2657  3275794          487   61120081   \n",
       "4        5               4671          4671   245494         1356  743273567   \n",
       "\n",
       "         isbn13                      authors  original_publication_year  \\\n",
       "0  9.780439e+12              Suzanne Collins                     2008.0   \n",
       "1  9.780440e+12  J.K. Rowling, Mary GrandPré                     1997.0   \n",
       "2  9.780316e+12              Stephenie Meyer                     2005.0   \n",
       "3  9.780061e+12                   Harper Lee                     1960.0   \n",
       "4  9.780743e+12          F. Scott Fitzgerald                     1925.0   \n",
       "\n",
       "                             original_title  ... ratings_count  \\\n",
       "0                          The Hunger Games  ...       4780653   \n",
       "1  Harry Potter and the Philosopher's Stone  ...       4602479   \n",
       "2                                  Twilight  ...       3866839   \n",
       "3                     To Kill a Mockingbird  ...       3198671   \n",
       "4                          The Great Gatsby  ...       2683664   \n",
       "\n",
       "  work_ratings_count  work_text_reviews_count  ratings_1  ratings_2  \\\n",
       "0            4942365                   155254      66715     127936   \n",
       "1            4800065                    75867      75504     101676   \n",
       "2            3916824                    95009     456191     436802   \n",
       "3            3340896                    72586      60427     117415   \n",
       "4            2773745                    51992      86236     197621   \n",
       "\n",
       "   ratings_3  ratings_4  ratings_5  \\\n",
       "0     560092    1481305    2706317   \n",
       "1     455024    1156318    3011543   \n",
       "2     793319     875073    1355439   \n",
       "3     446835    1001952    1714267   \n",
       "4     606158     936012     947718   \n",
       "\n",
       "                                           image_url  \\\n",
       "0  https://images.gr-assets.com/books/1447303603m...   \n",
       "1  https://images.gr-assets.com/books/1474154022m...   \n",
       "2  https://images.gr-assets.com/books/1361039443m...   \n",
       "3  https://images.gr-assets.com/books/1361975680m...   \n",
       "4  https://images.gr-assets.com/books/1490528560m...   \n",
       "\n",
       "                                     small_image_url  \n",
       "0  https://images.gr-assets.com/books/1447303603s...  \n",
       "1  https://images.gr-assets.com/books/1474154022s...  \n",
       "2  https://images.gr-assets.com/books/1361039443s...  \n",
       "3  https://images.gr-assets.com/books/1361975680s...  \n",
       "4  https://images.gr-assets.com/books/1490528560s...  \n",
       "\n",
       "[5 rows x 23 columns]"
      ]
     },
     "execution_count": 2,
     "metadata": {},
     "output_type": "execute_result"
    }
   ],
   "source": [
    "df_books =  pd.read_csv(\"D:/hp/Documents/CDS513/Assignment/goodbooks-10k-master/books.csv\")\n",
    "df_books.head()"
   ]
  },
  {
   "cell_type": "markdown",
   "metadata": {},
   "source": [
    "## Tags Dataset"
   ]
  },
  {
   "cell_type": "code",
   "execution_count": 3,
   "metadata": {},
   "outputs": [
    {
     "data": {
      "text/html": [
       "<div>\n",
       "<style scoped>\n",
       "    .dataframe tbody tr th:only-of-type {\n",
       "        vertical-align: middle;\n",
       "    }\n",
       "\n",
       "    .dataframe tbody tr th {\n",
       "        vertical-align: top;\n",
       "    }\n",
       "\n",
       "    .dataframe thead th {\n",
       "        text-align: right;\n",
       "    }\n",
       "</style>\n",
       "<table border=\"1\" class=\"dataframe\">\n",
       "  <thead>\n",
       "    <tr style=\"text-align: right;\">\n",
       "      <th></th>\n",
       "      <th>tag_id</th>\n",
       "      <th>tag_name</th>\n",
       "    </tr>\n",
       "  </thead>\n",
       "  <tbody>\n",
       "    <tr>\n",
       "      <th>0</th>\n",
       "      <td>0</td>\n",
       "      <td>-</td>\n",
       "    </tr>\n",
       "    <tr>\n",
       "      <th>1</th>\n",
       "      <td>1</td>\n",
       "      <td>--1-</td>\n",
       "    </tr>\n",
       "    <tr>\n",
       "      <th>2</th>\n",
       "      <td>2</td>\n",
       "      <td>--10-</td>\n",
       "    </tr>\n",
       "    <tr>\n",
       "      <th>3</th>\n",
       "      <td>3</td>\n",
       "      <td>--12-</td>\n",
       "    </tr>\n",
       "    <tr>\n",
       "      <th>4</th>\n",
       "      <td>4</td>\n",
       "      <td>--122-</td>\n",
       "    </tr>\n",
       "  </tbody>\n",
       "</table>\n",
       "</div>"
      ],
      "text/plain": [
       "   tag_id tag_name\n",
       "0       0        -\n",
       "1       1     --1-\n",
       "2       2    --10-\n",
       "3       3    --12-\n",
       "4       4   --122-"
      ]
     },
     "execution_count": 3,
     "metadata": {},
     "output_type": "execute_result"
    }
   ],
   "source": [
    "df_tags =  pd.read_csv(\"D:/hp/Documents/CDS513/Assignment/goodbooks-10k-master/tags.csv\")\n",
    "df_tags.head()"
   ]
  },
  {
   "cell_type": "markdown",
   "metadata": {},
   "source": [
    "## Ratings Dataset"
   ]
  },
  {
   "cell_type": "code",
   "execution_count": 4,
   "metadata": {},
   "outputs": [
    {
     "data": {
      "text/html": [
       "<div>\n",
       "<style scoped>\n",
       "    .dataframe tbody tr th:only-of-type {\n",
       "        vertical-align: middle;\n",
       "    }\n",
       "\n",
       "    .dataframe tbody tr th {\n",
       "        vertical-align: top;\n",
       "    }\n",
       "\n",
       "    .dataframe thead th {\n",
       "        text-align: right;\n",
       "    }\n",
       "</style>\n",
       "<table border=\"1\" class=\"dataframe\">\n",
       "  <thead>\n",
       "    <tr style=\"text-align: right;\">\n",
       "      <th></th>\n",
       "      <th>user_id</th>\n",
       "      <th>book_id</th>\n",
       "      <th>rating</th>\n",
       "    </tr>\n",
       "  </thead>\n",
       "  <tbody>\n",
       "    <tr>\n",
       "      <th>0</th>\n",
       "      <td>1</td>\n",
       "      <td>258</td>\n",
       "      <td>5</td>\n",
       "    </tr>\n",
       "    <tr>\n",
       "      <th>1</th>\n",
       "      <td>2</td>\n",
       "      <td>4081</td>\n",
       "      <td>4</td>\n",
       "    </tr>\n",
       "    <tr>\n",
       "      <th>2</th>\n",
       "      <td>2</td>\n",
       "      <td>260</td>\n",
       "      <td>5</td>\n",
       "    </tr>\n",
       "    <tr>\n",
       "      <th>3</th>\n",
       "      <td>2</td>\n",
       "      <td>9296</td>\n",
       "      <td>5</td>\n",
       "    </tr>\n",
       "    <tr>\n",
       "      <th>4</th>\n",
       "      <td>2</td>\n",
       "      <td>2318</td>\n",
       "      <td>3</td>\n",
       "    </tr>\n",
       "  </tbody>\n",
       "</table>\n",
       "</div>"
      ],
      "text/plain": [
       "   user_id  book_id  rating\n",
       "0        1      258       5\n",
       "1        2     4081       4\n",
       "2        2      260       5\n",
       "3        2     9296       5\n",
       "4        2     2318       3"
      ]
     },
     "execution_count": 4,
     "metadata": {},
     "output_type": "execute_result"
    }
   ],
   "source": [
    "df_ratings =  pd.read_csv(\"D:/hp/Documents/CDS513/Assignment/goodbooks-10k-master/ratings.csv\")\n",
    "df_ratings.head()"
   ]
  },
  {
   "cell_type": "markdown",
   "metadata": {},
   "source": [
    "## To Read Dataset"
   ]
  },
  {
   "cell_type": "code",
   "execution_count": 5,
   "metadata": {},
   "outputs": [
    {
     "data": {
      "text/html": [
       "<div>\n",
       "<style scoped>\n",
       "    .dataframe tbody tr th:only-of-type {\n",
       "        vertical-align: middle;\n",
       "    }\n",
       "\n",
       "    .dataframe tbody tr th {\n",
       "        vertical-align: top;\n",
       "    }\n",
       "\n",
       "    .dataframe thead th {\n",
       "        text-align: right;\n",
       "    }\n",
       "</style>\n",
       "<table border=\"1\" class=\"dataframe\">\n",
       "  <thead>\n",
       "    <tr style=\"text-align: right;\">\n",
       "      <th></th>\n",
       "      <th>user_id</th>\n",
       "      <th>book_id</th>\n",
       "    </tr>\n",
       "  </thead>\n",
       "  <tbody>\n",
       "    <tr>\n",
       "      <th>0</th>\n",
       "      <td>9</td>\n",
       "      <td>8</td>\n",
       "    </tr>\n",
       "    <tr>\n",
       "      <th>1</th>\n",
       "      <td>15</td>\n",
       "      <td>398</td>\n",
       "    </tr>\n",
       "    <tr>\n",
       "      <th>2</th>\n",
       "      <td>15</td>\n",
       "      <td>275</td>\n",
       "    </tr>\n",
       "    <tr>\n",
       "      <th>3</th>\n",
       "      <td>37</td>\n",
       "      <td>7173</td>\n",
       "    </tr>\n",
       "    <tr>\n",
       "      <th>4</th>\n",
       "      <td>34</td>\n",
       "      <td>380</td>\n",
       "    </tr>\n",
       "  </tbody>\n",
       "</table>\n",
       "</div>"
      ],
      "text/plain": [
       "   user_id  book_id\n",
       "0        9        8\n",
       "1       15      398\n",
       "2       15      275\n",
       "3       37     7173\n",
       "4       34      380"
      ]
     },
     "execution_count": 5,
     "metadata": {},
     "output_type": "execute_result"
    }
   ],
   "source": [
    "df_to_read =  pd.read_csv(\"D:/hp/Documents/CDS513/Assignment/goodbooks-10k-master/to_read.csv\")\n",
    "df_to_read.head()"
   ]
  },
  {
   "cell_type": "markdown",
   "metadata": {},
   "source": [
    "## Book Tags Dataset"
   ]
  },
  {
   "cell_type": "code",
   "execution_count": 6,
   "metadata": {},
   "outputs": [
    {
     "data": {
      "text/html": [
       "<div>\n",
       "<style scoped>\n",
       "    .dataframe tbody tr th:only-of-type {\n",
       "        vertical-align: middle;\n",
       "    }\n",
       "\n",
       "    .dataframe tbody tr th {\n",
       "        vertical-align: top;\n",
       "    }\n",
       "\n",
       "    .dataframe thead th {\n",
       "        text-align: right;\n",
       "    }\n",
       "</style>\n",
       "<table border=\"1\" class=\"dataframe\">\n",
       "  <thead>\n",
       "    <tr style=\"text-align: right;\">\n",
       "      <th></th>\n",
       "      <th>goodreads_book_id</th>\n",
       "      <th>tag_id</th>\n",
       "      <th>count</th>\n",
       "    </tr>\n",
       "  </thead>\n",
       "  <tbody>\n",
       "    <tr>\n",
       "      <th>0</th>\n",
       "      <td>1</td>\n",
       "      <td>30574</td>\n",
       "      <td>167697</td>\n",
       "    </tr>\n",
       "    <tr>\n",
       "      <th>1</th>\n",
       "      <td>1</td>\n",
       "      <td>11305</td>\n",
       "      <td>37174</td>\n",
       "    </tr>\n",
       "    <tr>\n",
       "      <th>2</th>\n",
       "      <td>1</td>\n",
       "      <td>11557</td>\n",
       "      <td>34173</td>\n",
       "    </tr>\n",
       "    <tr>\n",
       "      <th>3</th>\n",
       "      <td>1</td>\n",
       "      <td>8717</td>\n",
       "      <td>12986</td>\n",
       "    </tr>\n",
       "    <tr>\n",
       "      <th>4</th>\n",
       "      <td>1</td>\n",
       "      <td>33114</td>\n",
       "      <td>12716</td>\n",
       "    </tr>\n",
       "  </tbody>\n",
       "</table>\n",
       "</div>"
      ],
      "text/plain": [
       "   goodreads_book_id  tag_id   count\n",
       "0                  1   30574  167697\n",
       "1                  1   11305   37174\n",
       "2                  1   11557   34173\n",
       "3                  1    8717   12986\n",
       "4                  1   33114   12716"
      ]
     },
     "execution_count": 6,
     "metadata": {},
     "output_type": "execute_result"
    }
   ],
   "source": [
    "df_book_tags =  pd.read_csv(\"D:/hp/Documents/CDS513/Assignment/goodbooks-10k-master/book_tags.csv\")\n",
    "df_book_tags.head()"
   ]
  },
  {
   "cell_type": "markdown",
   "metadata": {},
   "source": [
    "## Entity Relationship Diagram"
   ]
  },
  {
   "cell_type": "markdown",
   "metadata": {},
   "source": [
    "In order to view the relationship between each table, an entity relationship diagram is being drawn. "
   ]
  },
  {
   "cell_type": "markdown",
   "metadata": {},
   "source": [
    "![img](ERD.png)"
   ]
  },
  {
   "cell_type": "markdown",
   "metadata": {},
   "source": [
    "## Dataset Merging"
   ]
  },
  {
   "cell_type": "code",
   "execution_count": 7,
   "metadata": {},
   "outputs": [
    {
     "data": {
      "text/html": [
       "<div>\n",
       "<style scoped>\n",
       "    .dataframe tbody tr th:only-of-type {\n",
       "        vertical-align: middle;\n",
       "    }\n",
       "\n",
       "    .dataframe tbody tr th {\n",
       "        vertical-align: top;\n",
       "    }\n",
       "\n",
       "    .dataframe thead th {\n",
       "        text-align: right;\n",
       "    }\n",
       "</style>\n",
       "<table border=\"1\" class=\"dataframe\">\n",
       "  <thead>\n",
       "    <tr style=\"text-align: right;\">\n",
       "      <th></th>\n",
       "      <th>goodreads_book_id</th>\n",
       "      <th>tag_id</th>\n",
       "      <th>count</th>\n",
       "      <th>tag_name</th>\n",
       "    </tr>\n",
       "  </thead>\n",
       "  <tbody>\n",
       "    <tr>\n",
       "      <th>0</th>\n",
       "      <td>1</td>\n",
       "      <td>30574</td>\n",
       "      <td>167697</td>\n",
       "      <td>to-read</td>\n",
       "    </tr>\n",
       "    <tr>\n",
       "      <th>1</th>\n",
       "      <td>1</td>\n",
       "      <td>11305</td>\n",
       "      <td>37174</td>\n",
       "      <td>fantasy</td>\n",
       "    </tr>\n",
       "    <tr>\n",
       "      <th>2</th>\n",
       "      <td>1</td>\n",
       "      <td>11557</td>\n",
       "      <td>34173</td>\n",
       "      <td>favorites</td>\n",
       "    </tr>\n",
       "    <tr>\n",
       "      <th>3</th>\n",
       "      <td>1</td>\n",
       "      <td>8717</td>\n",
       "      <td>12986</td>\n",
       "      <td>currently-reading</td>\n",
       "    </tr>\n",
       "    <tr>\n",
       "      <th>4</th>\n",
       "      <td>1</td>\n",
       "      <td>33114</td>\n",
       "      <td>12716</td>\n",
       "      <td>young-adult</td>\n",
       "    </tr>\n",
       "  </tbody>\n",
       "</table>\n",
       "</div>"
      ],
      "text/plain": [
       "   goodreads_book_id  tag_id   count           tag_name\n",
       "0                  1   30574  167697            to-read\n",
       "1                  1   11305   37174            fantasy\n",
       "2                  1   11557   34173          favorites\n",
       "3                  1    8717   12986  currently-reading\n",
       "4                  1   33114   12716        young-adult"
      ]
     },
     "execution_count": 7,
     "metadata": {},
     "output_type": "execute_result"
    }
   ],
   "source": [
    "# Merges the `df_book_tags` and `df_tags` DataFrames based on the 'tag_id' column.\n",
    "# This combines the book IDs with their corresponding tag names.\n",
    "df_book_tags_merged = pd.merge(df_book_tags, df_tags, how = 'left', left_on = 'tag_id'\n",
    "                               , right_on = 'tag_id')\n",
    "df_book_tags_merged.head()"
   ]
  },
  {
   "cell_type": "code",
   "execution_count": 8,
   "metadata": {},
   "outputs": [
    {
     "name": "stdout",
     "output_type": "stream",
     "text": [
      "Null values in Book Tags Merged DataFrame: \n",
      " goodreads_book_id    0\n",
      "tag_id               0\n",
      "count                0\n",
      "tag_name             0\n",
      "dtype: int64\n"
     ]
    }
   ],
   "source": [
    "# Checks for null values in the merged DataFrame and prints the results.\n",
    "print(\"Null values in Book Tags Merged DataFrame: \\n\", df_book_tags_merged.isnull().sum())"
   ]
  },
  {
   "cell_type": "markdown",
   "metadata": {},
   "source": [
    "# Exploratory Data Analysis"
   ]
  },
  {
   "cell_type": "code",
   "execution_count": 9,
   "metadata": {},
   "outputs": [
    {
     "name": "stdout",
     "output_type": "stream",
     "text": [
      "Books DataFrame shape    :  (10000, 23)\n",
      "Tags DataFrame shape     :  (34252, 2)\n",
      "Ratings DataFrame shape  :  (5976479, 3)\n",
      "To Read DataFrame shape  :  (912705, 2)\n",
      "Book Tags DataFrame shape:  (999912, 3)\n"
     ]
    }
   ],
   "source": [
    "# Prints the shape (number of rows and columns) of each DataFrame.\n",
    "print(\"Books DataFrame shape    : \", df_books.shape)\n",
    "print(\"Tags DataFrame shape     : \", df_tags.shape)\n",
    "print(\"Ratings DataFrame shape  : \", df_ratings.shape)\n",
    "print(\"To Read DataFrame shape  : \", df_to_read.shape)\n",
    "print(\"Book Tags DataFrame shape: \", df_book_tags.shape)"
   ]
  },
  {
   "cell_type": "code",
   "execution_count": 10,
   "metadata": {},
   "outputs": [
    {
     "name": "stdout",
     "output_type": "stream",
     "text": [
      "Null values in Books DataFrame:  2975\n",
      "Null values in Tags DataFrame:  0\n",
      "Null values in Ratings DataFrame:  0\n",
      "Null values in To Read DataFrame:  0\n",
      "Null values in Book Tags DataFrame:  0\n"
     ]
    }
   ],
   "source": [
    "# Prints the total number of null values in each DataFrame\n",
    "print(\"Null values in Books DataFrame: \", df_books.isnull().sum().sum())\n",
    "print(\"Null values in Tags DataFrame: \", df_tags.isnull().sum().sum())\n",
    "print(\"Null values in Ratings DataFrame: \", df_ratings.isnull().sum().sum())\n",
    "print(\"Null values in To Read DataFrame: \", df_to_read.isnull().sum().sum())\n",
    "print(\"Null values in Book Tags DataFrame: \", df_book_tags.isnull().sum().sum())"
   ]
  },
  {
   "cell_type": "markdown",
   "metadata": {},
   "source": [
    "## Books Dataset"
   ]
  },
  {
   "cell_type": "code",
   "execution_count": 11,
   "metadata": {},
   "outputs": [
    {
     "data": {
      "text/plain": [
       "book_id                        int64\n",
       "goodreads_book_id              int64\n",
       "best_book_id                   int64\n",
       "work_id                        int64\n",
       "books_count                    int64\n",
       "isbn                          object\n",
       "isbn13                       float64\n",
       "authors                       object\n",
       "original_publication_year    float64\n",
       "original_title                object\n",
       "title                         object\n",
       "language_code                 object\n",
       "average_rating               float64\n",
       "ratings_count                  int64\n",
       "work_ratings_count             int64\n",
       "work_text_reviews_count        int64\n",
       "ratings_1                      int64\n",
       "ratings_2                      int64\n",
       "ratings_3                      int64\n",
       "ratings_4                      int64\n",
       "ratings_5                      int64\n",
       "image_url                     object\n",
       "small_image_url               object\n",
       "dtype: object"
      ]
     },
     "execution_count": 11,
     "metadata": {},
     "output_type": "execute_result"
    }
   ],
   "source": [
    "# Displays the data types of each column in the Books DataFrame.\n",
    "df_books.dtypes"
   ]
  },
  {
   "cell_type": "code",
   "execution_count": 12,
   "metadata": {},
   "outputs": [],
   "source": [
    "# Converts specific columns in the Books DataFrame to string type.\n",
    "df_books['isbn']            = df_books['isbn'].astype('str')\n",
    "df_books['title']           = df_books['title'].astype('str')\n",
    "df_books['authors']         = df_books['authors'].astype('str')\n",
    "df_books['image_url']       = df_books['image_url'].astype('str')\n",
    "df_books['language_code']   = df_books['language_code'].astype('str')\n",
    "df_books['original_title']  = df_books['original_title'].astype('str')\n",
    "df_books['small_image_url'] = df_books['small_image_url'].astype('str')"
   ]
  },
  {
   "cell_type": "code",
   "execution_count": 13,
   "metadata": {},
   "outputs": [
    {
     "name": "stdout",
     "output_type": "stream",
     "text": [
      "The number of values for feature book_id :10000\n",
      "The number of values for feature goodreads_book_id :10000\n",
      "The number of values for feature best_book_id :10000\n",
      "The number of values for feature work_id :10000\n",
      "The number of values for feature books_count :597\n",
      "The number of values for feature isbn :9301\n",
      "The number of values for feature isbn13 :9154\n",
      "The number of values for feature authors :4664\n",
      "The number of values for feature original_publication_year :294\n",
      "The number of values for feature original_title :9275\n",
      "The number of values for feature title :9964\n",
      "The number of values for feature language_code :26 -- ['ara' 'dan' 'en' 'en-CA' 'en-GB' 'en-US' 'eng' 'fil' 'fre' 'ger' 'ind'\n",
      " 'ita' 'jpn' 'mul' 'nan' 'nl' 'nor' 'per' 'pol' 'por' 'rum' 'rus' 'spa'\n",
      " 'swe' 'tur' 'vie']\n",
      "The number of values for feature average_rating :184\n",
      "The number of values for feature ratings_count :9003\n",
      "The number of values for feature work_ratings_count :9053\n",
      "The number of values for feature work_text_reviews_count :4581\n",
      "The number of values for feature ratings_1 :2630\n",
      "The number of values for feature ratings_2 :4117\n",
      "The number of values for feature ratings_3 :6972\n",
      "The number of values for feature ratings_4 :7762\n",
      "The number of values for feature ratings_5 :8103\n",
      "The number of values for feature image_url :6669\n",
      "The number of values for feature small_image_url :6669\n"
     ]
    }
   ],
   "source": [
    "# Iterates through each column of the Books DataFrame and prints the number of unique values.\n",
    "for column in df_books:\n",
    "  unique_vals = np.unique(df_books[column])\n",
    "  nr_values = len(unique_vals)\n",
    "  if nr_values < 36:\n",
    "    print('The number of values for feature {} :{} -- {}'.format(column, nr_values, unique_vals))\n",
    "  else:\n",
    "    print('The number of values for feature {} :{}'.format(column, nr_values))"
   ]
  },
  {
   "cell_type": "markdown",
   "metadata": {},
   "source": [
    "### Histograms of Average Rating"
   ]
  },
  {
   "cell_type": "code",
   "execution_count": 14,
   "metadata": {},
   "outputs": [
    {
     "data": {
      "image/png": "[encoded data removed]",
      "text/plain": [
       "<Figure size 1000x500 with 1 Axes>"
      ]
     },
     "metadata": {},
     "output_type": "display_data"
    }
   ],
   "source": [
    "plt.figure(figsize=(10, 5))\n",
    "sns.histplot(data = df_books, x='average_rating', bins=5, color='#bae1ff') \n",
    "plt.title(\"Histograms of Average Rating\")\n",
    "plt.xlabel(\"Average Rating\")\n",
    "plt.grid(True, linestyle='--', alpha=0.5)\n",
    "plt.show()"
   ]
  },
  {
   "cell_type": "markdown",
   "metadata": {},
   "source": [
    "### Correlation Matrix"
   ]
  },
  {
   "cell_type": "code",
   "execution_count": 15,
   "metadata": {},
   "outputs": [
    {
     "data": {
      "image/png": "[encoded data removed]",
      "text/plain": [
       "<Figure size 1500x900 with 2 Axes>"
      ]
     },
     "metadata": {},
     "output_type": "display_data"
    }
   ],
   "source": [
    "numerical_cols_books = df_books.select_dtypes(include=np.number).columns\n",
    "plt.figure(figsize=(15, 9))\n",
    "sns.heatmap(df_books[numerical_cols_books].corr(), annot=True, cmap='Purples')\n",
    "plt.title('Correlation Matrix for Books Dataset')\n",
    "plt.show()"
   ]
  },
  {
   "cell_type": "markdown",
   "metadata": {},
   "source": [
    "## Ratings Dataset"
   ]
  },
  {
   "cell_type": "code",
   "execution_count": 16,
   "metadata": {},
   "outputs": [
    {
     "data": {
      "text/plain": [
       "user_id    int64\n",
       "book_id    int64\n",
       "rating     int64\n",
       "dtype: object"
      ]
     },
     "execution_count": 16,
     "metadata": {},
     "output_type": "execute_result"
    }
   ],
   "source": [
    "# Displays the data types of each column in the Ratings DataFrame.\n",
    "df_ratings.dtypes"
   ]
  },
  {
   "cell_type": "code",
   "execution_count": 17,
   "metadata": {},
   "outputs": [
    {
     "name": "stdout",
     "output_type": "stream",
     "text": [
      "The number of values for feature user_id :53424\n",
      "The number of values for feature book_id :10000\n",
      "The number of values for feature rating :5 -- [1 2 3 4 5]\n"
     ]
    }
   ],
   "source": [
    "# Iterates through each column of the Ratings DataFrame and prints the number of unique values.\n",
    "for column in df_ratings:\n",
    "  unique_vals = np.unique(df_ratings[column])\n",
    "  nr_values = len(unique_vals)\n",
    "  if nr_values < 36:\n",
    "    print('The number of values for feature {} :{} -- {}'.format(column, nr_values, unique_vals))\n",
    "  else:\n",
    "    print('The number of values for feature {} :{}'.format(column, nr_values))"
   ]
  },
  {
   "cell_type": "markdown",
   "metadata": {},
   "source": [
    "### Distribution of Ratings"
   ]
  },
  {
   "cell_type": "code",
   "execution_count": 18,
   "metadata": {},
   "outputs": [
    {
     "data": {
      "image/png": "[encoded data removed]",
      "text/plain": [
       "<Figure size 1000x500 with 1 Axes>"
      ]
     },
     "metadata": {},
     "output_type": "display_data"
    }
   ],
   "source": [
    "plt.figure(figsize=(10, 5))\n",
    "sns.histplot(df_ratings['rating'], bins=5, color=\"#bae1ff\")\n",
    "plt.title('Distribution of Ratings')\n",
    "plt.xlabel('Rating')\n",
    "plt.ylabel('Frequency')\n",
    "plt.show()"
   ]
  },
  {
   "cell_type": "markdown",
   "metadata": {},
   "source": [
    "### Correlation Matrix"
   ]
  },
  {
   "cell_type": "code",
   "execution_count": 19,
   "metadata": {},
   "outputs": [
    {
     "data": {
      "image/png": "[encoded data removed]",
      "text/plain": [
       "<Figure size 300x200 with 2 Axes>"
      ]
     },
     "metadata": {},
     "output_type": "display_data"
    }
   ],
   "source": [
    "numerical_cols_ratings = df_ratings.select_dtypes(include=np.number).columns\n",
    "plt.figure(figsize=(3, 2))\n",
    "sns.heatmap(df_ratings[numerical_cols_ratings].corr(), annot=True, cmap='Purples')\n",
    "plt.title('Correlation Matrix for Ratings Dataset')\n",
    "plt.show()"
   ]
  },
  {
   "cell_type": "markdown",
   "metadata": {},
   "source": [
    "## To Read Dataset"
   ]
  },
  {
   "cell_type": "code",
   "execution_count": 20,
   "metadata": {},
   "outputs": [
    {
     "data": {
      "text/plain": [
       "user_id    int64\n",
       "book_id    int64\n",
       "dtype: object"
      ]
     },
     "execution_count": 20,
     "metadata": {},
     "output_type": "execute_result"
    }
   ],
   "source": [
    "# Displays the data types of each column in the To Read DataFrame.\n",
    "df_to_read.dtypes"
   ]
  },
  {
   "cell_type": "code",
   "execution_count": 21,
   "metadata": {},
   "outputs": [
    {
     "name": "stdout",
     "output_type": "stream",
     "text": [
      "The number of values for feature user_id :48871\n",
      "The number of values for feature book_id :9986\n"
     ]
    }
   ],
   "source": [
    "# Iterates through each column of the To Read DataFrame and prints the number of unique values.\n",
    "for column in df_to_read:\n",
    "  unique_vals = np.unique(df_to_read[column])\n",
    "  nr_values = len(unique_vals)\n",
    "  if nr_values < 36:\n",
    "    print('The number of values for feature {} :{} -- {}'.format(column, nr_values, unique_vals))\n",
    "  else:\n",
    "    print('The number of values for feature {} :{}'.format(column, nr_values))"
   ]
  },
  {
   "cell_type": "markdown",
   "metadata": {},
   "source": [
    "### Correlation Matrix"
   ]
  },
  {
   "cell_type": "code",
   "execution_count": 22,
   "metadata": {},
   "outputs": [
    {
     "data": {
      "image/png": "[encoded data removed]",
      "text/plain": [
       "<Figure size 300x200 with 2 Axes>"
      ]
     },
     "metadata": {},
     "output_type": "display_data"
    }
   ],
   "source": [
    "numerical_cols_to_read = df_to_read.select_dtypes(include=np.number).columns\n",
    "plt.figure(figsize=(3, 2))\n",
    "sns.heatmap(df_to_read[numerical_cols_to_read].corr(), annot=True, cmap='Purples')\n",
    "plt.title('Correlation Matrix for To Read Dataset')\n",
    "plt.show()"
   ]
  },
  {
   "cell_type": "markdown",
   "metadata": {},
   "source": [
    "Use this dataset for evaluation. "
   ]
  },
  {
   "cell_type": "markdown",
   "metadata": {},
   "source": [
    "## Book Tags (Merged) Dataset"
   ]
  },
  {
   "cell_type": "code",
   "execution_count": 23,
   "metadata": {},
   "outputs": [
    {
     "data": {
      "text/plain": [
       "goodreads_book_id     int64\n",
       "tag_id                int64\n",
       "count                 int64\n",
       "tag_name             object\n",
       "dtype: object"
      ]
     },
     "execution_count": 23,
     "metadata": {},
     "output_type": "execute_result"
    }
   ],
   "source": [
    "# Displays the data types of each column in the Book Tags Merged DataFrame.\n",
    "df_book_tags_merged.dtypes"
   ]
  },
  {
   "cell_type": "code",
   "execution_count": 24,
   "metadata": {},
   "outputs": [
    {
     "name": "stdout",
     "output_type": "stream",
     "text": [
      "The number of values for feature goodreads_book_id :10000\n",
      "The number of values for feature tag_id :34252\n",
      "The number of values for feature count :9401\n",
      "The number of values for feature tag_name :34252\n"
     ]
    }
   ],
   "source": [
    "# Iterates through each column of the Book Tags Merged DataFrame and prints the number of unique values.\n",
    "for column in df_book_tags_merged:\n",
    "  unique_vals = np.unique(df_book_tags_merged[column])\n",
    "  nr_values = len(unique_vals)\n",
    "  if nr_values < 36:\n",
    "    print('The number of values for feature {} :{} -- {}'.format(column, nr_values, unique_vals))\n",
    "  else:\n",
    "    print('The number of values for feature {} :{}'.format(column, nr_values))"
   ]
  },
  {
   "cell_type": "markdown",
   "metadata": {},
   "source": [
    "### Top 10 Most Frequent Tags"
   ]
  },
  {
   "cell_type": "code",
   "execution_count": 25,
   "metadata": {},
   "outputs": [
    {
     "data": {
      "image/png": "[encoded data removed]",
      "text/plain": [
       "<Figure size 1000x500 with 1 Axes>"
      ]
     },
     "metadata": {},
     "output_type": "display_data"
    }
   ],
   "source": [
    "top_10_tags = df_book_tags_merged['tag_name'].value_counts().head(10)\n",
    "\n",
    "plt.figure(figsize=(10, 5))\n",
    "sns.barplot(x=top_10_tags.index, y=top_10_tags.values, palette=\"pastel\", hue=top_10_tags.index)\n",
    "plt.title(\"Top 10 Most Frequent Tags\", fontsize=16)\n",
    "plt.xlabel(\"Tag Name\", fontsize=12)\n",
    "plt.ylabel(\"Frequency\", fontsize=12)\n",
    "plt.xticks(rotation=45, ha='right', fontsize=10)\n",
    "plt.tight_layout()\n",
    "plt.show()"
   ]
  },
  {
   "cell_type": "markdown",
   "metadata": {},
   "source": [
    "### Correlation Matrix"
   ]
  },
  {
   "cell_type": "code",
   "execution_count": 26,
   "metadata": {},
   "outputs": [
    {
     "data": {
      "image/png": "[encoded data removed]",
      "text/plain": [
       "<Figure size 500x400 with 2 Axes>"
      ]
     },
     "metadata": {},
     "output_type": "display_data"
    }
   ],
   "source": [
    "numerical_cols_book_tags = df_book_tags_merged.select_dtypes(include=np.number).columns\n",
    "\n",
    "plt.figure(figsize=(5, 4))\n",
    "sns.heatmap(df_book_tags_merged[numerical_cols_book_tags].corr(), annot=True, cmap='Purples')\n",
    "plt.title('Correlation Matrix for Book Tags Dataset')\n",
    "plt.show()"
   ]
  },
  {
   "cell_type": "markdown",
   "metadata": {},
   "source": [
    "# Data Cleaning"
   ]
  },
  {
   "cell_type": "markdown",
   "metadata": {},
   "source": [
    "## Keep Related and Hot Tag Names"
   ]
  },
  {
   "cell_type": "markdown",
   "metadata": {},
   "source": [
    "### Removing Punctuation and Numbers"
   ]
  },
  {
   "cell_type": "code",
   "execution_count": 27,
   "metadata": {},
   "outputs": [],
   "source": [
    "# Defines a function to remove punctuation and numbers from a given text string.\n",
    "def remove_punctuation_numbers(text):\n",
    "  text = re.sub(r'[^\\w]', '', text)\n",
    "  text = re.sub(r'\\d+', '', text)\n",
    "  return text.lower()"
   ]
  },
  {
   "cell_type": "code",
   "execution_count": 28,
   "metadata": {},
   "outputs": [],
   "source": [
    "# Applies the `remove_punctuation_numbers` function to the 'tag_name' column of the Book Tags Merged DataFrame.\n",
    "df_book_tags_merged['tag_name'] = df_book_tags_merged['tag_name'].apply(remove_punctuation_numbers)"
   ]
  },
  {
   "cell_type": "code",
   "execution_count": 29,
   "metadata": {},
   "outputs": [
    {
     "data": {
      "text/html": [
       "<div>\n",
       "<style scoped>\n",
       "    .dataframe tbody tr th:only-of-type {\n",
       "        vertical-align: middle;\n",
       "    }\n",
       "\n",
       "    .dataframe tbody tr th {\n",
       "        vertical-align: top;\n",
       "    }\n",
       "\n",
       "    .dataframe thead th {\n",
       "        text-align: right;\n",
       "    }\n",
       "</style>\n",
       "<table border=\"1\" class=\"dataframe\">\n",
       "  <thead>\n",
       "    <tr style=\"text-align: right;\">\n",
       "      <th></th>\n",
       "      <th>goodreads_book_id</th>\n",
       "      <th>tag_id</th>\n",
       "      <th>count</th>\n",
       "      <th>tag_name</th>\n",
       "    </tr>\n",
       "  </thead>\n",
       "  <tbody>\n",
       "    <tr>\n",
       "      <th>0</th>\n",
       "      <td>1</td>\n",
       "      <td>30574</td>\n",
       "      <td>167697</td>\n",
       "      <td>toread</td>\n",
       "    </tr>\n",
       "    <tr>\n",
       "      <th>1</th>\n",
       "      <td>1</td>\n",
       "      <td>11305</td>\n",
       "      <td>37174</td>\n",
       "      <td>fantasy</td>\n",
       "    </tr>\n",
       "    <tr>\n",
       "      <th>2</th>\n",
       "      <td>1</td>\n",
       "      <td>11557</td>\n",
       "      <td>34173</td>\n",
       "      <td>favorites</td>\n",
       "    </tr>\n",
       "    <tr>\n",
       "      <th>3</th>\n",
       "      <td>1</td>\n",
       "      <td>8717</td>\n",
       "      <td>12986</td>\n",
       "      <td>currentlyreading</td>\n",
       "    </tr>\n",
       "    <tr>\n",
       "      <th>4</th>\n",
       "      <td>1</td>\n",
       "      <td>33114</td>\n",
       "      <td>12716</td>\n",
       "      <td>youngadult</td>\n",
       "    </tr>\n",
       "  </tbody>\n",
       "</table>\n",
       "</div>"
      ],
      "text/plain": [
       "   goodreads_book_id  tag_id   count          tag_name\n",
       "0                  1   30574  167697            toread\n",
       "1                  1   11305   37174           fantasy\n",
       "2                  1   11557   34173         favorites\n",
       "3                  1    8717   12986  currentlyreading\n",
       "4                  1   33114   12716        youngadult"
      ]
     },
     "execution_count": 29,
     "metadata": {},
     "output_type": "execute_result"
    }
   ],
   "source": [
    "df_book_tags_merged.head()"
   ]
  },
  {
   "cell_type": "markdown",
   "metadata": {},
   "source": [
    "### Retrieve Common Genres from GoodReads using BeautifulSoup"
   ]
  },
  {
   "cell_type": "markdown",
   "metadata": {},
   "source": [
    "Retrieve common genres from https://www.goodreads.com/genres?ref=nav_brws_genres"
   ]
  },
  {
   "cell_type": "code",
   "execution_count": 30,
   "metadata": {},
   "outputs": [
    {
     "name": "stdout",
     "output_type": "stream",
     "text": [
      "['Art', 'Biography', 'Business', 'Chick Lit', \"Children's\", 'Christian', 'Classics', 'Comics', 'Contemporary', 'Cookbooks', 'Crime', 'Ebooks', 'Fantasy', 'Fiction', 'Gay and Lesbian', 'Graphic Novels', 'Historical Fiction', 'History', 'Horror', 'Humor and Comedy', 'Manga', 'Memoir', 'Music', 'Mystery', 'Nonfiction', 'Paranormal', 'Philosophy', 'Poetry', 'Psychology', 'Religion', 'Romance', 'Science', 'Science Fiction', 'Self Help', 'Suspense', 'Spirituality', 'Sports', 'Thriller', 'Travel', 'Young Adult']\n"
     ]
    }
   ],
   "source": [
    "# Retrieve common genres from https://www.goodreads.com/genres?ref=nav_brws_genres\n",
    "url = \"https://www.goodreads.com/genres?ref=nav_brws_genres\"\n",
    "# Set up headers to mimic a browser request\n",
    "# This is important to avoid being blocked by the server for making automated requests.\n",
    "headers = {'User-Agent': 'Mozilla/5.0 (Windows NT 10.0; Win64; x64) AppleWebKit/537.36 (KHTML, like Gecko) Chrome/108.0.0.0 Safari/537.36'}  # Add User-Agent header to mimic a browser request\n",
    "# Pass the headers to the request\n",
    "response = requests.get(url, headers=headers)  \n",
    "# Raise an exception for bad status codes\n",
    "response.raise_for_status()  \n",
    "\n",
    "# Parse the HTML content using BeautifulSoup\n",
    "soup = BeautifulSoup(response.content, \"html.parser\")\n",
    "# Find all genre links in the HTML content\n",
    "# The CSS selector is used to find all anchor tags within the specified div structure.\n",
    "genre_links = soup.select(\"div.bigBoxContent > div.left a.gr-hyperlink\")\n",
    "# Extract the text from each link and strip any leading/trailing whitespace\n",
    "genres = [link.text.strip() for link in genre_links]\n",
    "\n",
    "print(genres)"
   ]
  },
  {
   "cell_type": "code",
   "execution_count": 31,
   "metadata": {},
   "outputs": [
    {
     "name": "stdout",
     "output_type": "stream",
     "text": [
      "{'gayandlesbian', 'spirituality', 'thriller', 'horror', 'christian', 'history', 'memoir', 'romance', 'historicalfiction', 'humorandcomedy', 'science', 'travel', 'paranormal', 'crime', 'ebooks', 'cookbooks', 'art', 'comics', 'manga', 'fantasy', 'religion', 'contemporary', 'graphicnovels', 'philosophy', 'fiction', 'psychology', 'sciencefiction', 'suspense', 'biography', 'classics', 'nonfiction', 'music', 'childrens', 'poetry', 'business', 'selfhelp', 'sports', 'youngadult', 'chicklit', 'mystery'}\n"
     ]
    }
   ],
   "source": [
    "genre_lexicon = set(genres)\n",
    "genre_lexicon = {remove_punctuation_numbers(genre) for genre in genre_lexicon}\n",
    "print(genre_lexicon)"
   ]
  },
  {
   "cell_type": "markdown",
   "metadata": {},
   "source": [
    "### Keep Tags that is in the Retrieved List "
   ]
  },
  {
   "cell_type": "code",
   "execution_count": 32,
   "metadata": {},
   "outputs": [],
   "source": [
    "# Filters the Book Tags Merged DataFrame to keep only the tags that are present in the retrieved genre list.\n",
    "df_book_tags_cleaned = df_book_tags_merged[df_book_tags_merged['tag_name'].isin([genre for genre in genre_lexicon])]\n"
   ]
  },
  {
   "cell_type": "code",
   "execution_count": 33,
   "metadata": {},
   "outputs": [
    {
     "data": {
      "text/html": [
       "<div>\n",
       "<style scoped>\n",
       "    .dataframe tbody tr th:only-of-type {\n",
       "        vertical-align: middle;\n",
       "    }\n",
       "\n",
       "    .dataframe tbody tr th {\n",
       "        vertical-align: top;\n",
       "    }\n",
       "\n",
       "    .dataframe thead th {\n",
       "        text-align: right;\n",
       "    }\n",
       "</style>\n",
       "<table border=\"1\" class=\"dataframe\">\n",
       "  <thead>\n",
       "    <tr style=\"text-align: right;\">\n",
       "      <th></th>\n",
       "      <th>goodreads_book_id</th>\n",
       "      <th>tag_id</th>\n",
       "      <th>count</th>\n",
       "      <th>tag_name</th>\n",
       "    </tr>\n",
       "  </thead>\n",
       "  <tbody>\n",
       "    <tr>\n",
       "      <th>1</th>\n",
       "      <td>1</td>\n",
       "      <td>11305</td>\n",
       "      <td>37174</td>\n",
       "      <td>fantasy</td>\n",
       "    </tr>\n",
       "    <tr>\n",
       "      <th>4</th>\n",
       "      <td>1</td>\n",
       "      <td>33114</td>\n",
       "      <td>12716</td>\n",
       "      <td>youngadult</td>\n",
       "    </tr>\n",
       "    <tr>\n",
       "      <th>5</th>\n",
       "      <td>1</td>\n",
       "      <td>11743</td>\n",
       "      <td>9954</td>\n",
       "      <td>fiction</td>\n",
       "    </tr>\n",
       "    <tr>\n",
       "      <th>13</th>\n",
       "      <td>1</td>\n",
       "      <td>6953</td>\n",
       "      <td>2408</td>\n",
       "      <td>childrens</td>\n",
       "    </tr>\n",
       "    <tr>\n",
       "      <th>19</th>\n",
       "      <td>1</td>\n",
       "      <td>6888</td>\n",
       "      <td>1095</td>\n",
       "      <td>childrens</td>\n",
       "    </tr>\n",
       "  </tbody>\n",
       "</table>\n",
       "</div>"
      ],
      "text/plain": [
       "    goodreads_book_id  tag_id  count    tag_name\n",
       "1                   1   11305  37174     fantasy\n",
       "4                   1   33114  12716  youngadult\n",
       "5                   1   11743   9954     fiction\n",
       "13                  1    6953   2408   childrens\n",
       "19                  1    6888   1095   childrens"
      ]
     },
     "execution_count": 33,
     "metadata": {},
     "output_type": "execute_result"
    }
   ],
   "source": [
    "df_book_tags_cleaned.head()"
   ]
  },
  {
   "cell_type": "code",
   "execution_count": 34,
   "metadata": {},
   "outputs": [
    {
     "name": "stdout",
     "output_type": "stream",
     "text": [
      "Number of unique goodreads_book_id in books dataset: 10000\n"
     ]
    }
   ],
   "source": [
    "# Checks if unique goodreads_book_id count in books dataset is as expected\n",
    "unique_goodreads_book_ids = df_books['goodreads_book_id'].nunique()\n",
    "print(f\"Number of unique goodreads_book_id in books dataset: {unique_goodreads_book_ids}\")"
   ]
  },
  {
   "cell_type": "code",
   "execution_count": 35,
   "metadata": {},
   "outputs": [
    {
     "name": "stdout",
     "output_type": "stream",
     "text": [
      "Number of unique goodreads_book_id in cleaned books tags dataset: 10000\n"
     ]
    }
   ],
   "source": [
    "unique_goodreads_book_ids = df_book_tags_cleaned['goodreads_book_id'].nunique()\n",
    "print(f\"Number of unique goodreads_book_id in cleaned books tags dataset: {unique_goodreads_book_ids}\")"
   ]
  },
  {
   "cell_type": "markdown",
   "metadata": {},
   "source": [
    "## Replace goodreads_book_id with book_id"
   ]
  },
  {
   "cell_type": "code",
   "execution_count": 36,
   "metadata": {},
   "outputs": [
    {
     "data": {
      "text/html": [
       "<div>\n",
       "<style scoped>\n",
       "    .dataframe tbody tr th:only-of-type {\n",
       "        vertical-align: middle;\n",
       "    }\n",
       "\n",
       "    .dataframe tbody tr th {\n",
       "        vertical-align: top;\n",
       "    }\n",
       "\n",
       "    .dataframe thead th {\n",
       "        text-align: right;\n",
       "    }\n",
       "</style>\n",
       "<table border=\"1\" class=\"dataframe\">\n",
       "  <thead>\n",
       "    <tr style=\"text-align: right;\">\n",
       "      <th></th>\n",
       "      <th>tag_id</th>\n",
       "      <th>count</th>\n",
       "      <th>tag_name</th>\n",
       "      <th>book_id</th>\n",
       "    </tr>\n",
       "  </thead>\n",
       "  <tbody>\n",
       "    <tr>\n",
       "      <th>0</th>\n",
       "      <td>11305</td>\n",
       "      <td>37174</td>\n",
       "      <td>fantasy</td>\n",
       "      <td>27</td>\n",
       "    </tr>\n",
       "    <tr>\n",
       "      <th>1</th>\n",
       "      <td>33114</td>\n",
       "      <td>12716</td>\n",
       "      <td>youngadult</td>\n",
       "      <td>27</td>\n",
       "    </tr>\n",
       "    <tr>\n",
       "      <th>2</th>\n",
       "      <td>11743</td>\n",
       "      <td>9954</td>\n",
       "      <td>fiction</td>\n",
       "      <td>27</td>\n",
       "    </tr>\n",
       "    <tr>\n",
       "      <th>3</th>\n",
       "      <td>6953</td>\n",
       "      <td>2408</td>\n",
       "      <td>childrens</td>\n",
       "      <td>27</td>\n",
       "    </tr>\n",
       "    <tr>\n",
       "      <th>4</th>\n",
       "      <td>6888</td>\n",
       "      <td>1095</td>\n",
       "      <td>childrens</td>\n",
       "      <td>27</td>\n",
       "    </tr>\n",
       "  </tbody>\n",
       "</table>\n",
       "</div>"
      ],
      "text/plain": [
       "   tag_id  count    tag_name  book_id\n",
       "0   11305  37174     fantasy       27\n",
       "1   33114  12716  youngadult       27\n",
       "2   11743   9954     fiction       27\n",
       "3    6953   2408   childrens       27\n",
       "4    6888   1095   childrens       27"
      ]
     },
     "execution_count": 36,
     "metadata": {},
     "output_type": "execute_result"
    }
   ],
   "source": [
    "# Merges the cleaned Book Tags DataFrame with the Books DataFrame to replace 'goodreads_book_id' with 'book_id'.\n",
    "df_book_tags = pd.merge(df_book_tags_cleaned, df_books[['book_id', 'goodreads_book_id']], on='goodreads_book_id', how='left')\n",
    "df_book_tags.drop(columns=['goodreads_book_id'], inplace=True)\n",
    "df_book_tags.head()"
   ]
  },
  {
   "cell_type": "code",
   "execution_count": 37,
   "metadata": {},
   "outputs": [],
   "source": [
    "df_book_tags.to_csv(\"df_book_tags.csv\", index=False)"
   ]
  },
  {
   "cell_type": "markdown",
   "metadata": {},
   "source": [
    "## Remove Non-Unique original_title Features in Books Dataset"
   ]
  },
  {
   "cell_type": "code",
   "execution_count": 38,
   "metadata": {},
   "outputs": [
    {
     "data": {
      "text/html": [
       "<div>\n",
       "<style scoped>\n",
       "    .dataframe tbody tr th:only-of-type {\n",
       "        vertical-align: middle;\n",
       "    }\n",
       "\n",
       "    .dataframe tbody tr th {\n",
       "        vertical-align: top;\n",
       "    }\n",
       "\n",
       "    .dataframe thead th {\n",
       "        text-align: right;\n",
       "    }\n",
       "</style>\n",
       "<table border=\"1\" class=\"dataframe\">\n",
       "  <thead>\n",
       "    <tr style=\"text-align: right;\">\n",
       "      <th></th>\n",
       "      <th>book_id</th>\n",
       "      <th>goodreads_book_id</th>\n",
       "      <th>best_book_id</th>\n",
       "      <th>work_id</th>\n",
       "      <th>books_count</th>\n",
       "      <th>isbn</th>\n",
       "      <th>isbn13</th>\n",
       "      <th>authors</th>\n",
       "      <th>original_publication_year</th>\n",
       "      <th>original_title</th>\n",
       "      <th>...</th>\n",
       "      <th>ratings_count</th>\n",
       "      <th>work_ratings_count</th>\n",
       "      <th>work_text_reviews_count</th>\n",
       "      <th>ratings_1</th>\n",
       "      <th>ratings_2</th>\n",
       "      <th>ratings_3</th>\n",
       "      <th>ratings_4</th>\n",
       "      <th>ratings_5</th>\n",
       "      <th>image_url</th>\n",
       "      <th>small_image_url</th>\n",
       "    </tr>\n",
       "  </thead>\n",
       "  <tbody>\n",
       "    <tr>\n",
       "      <th>0</th>\n",
       "      <td>1</td>\n",
       "      <td>2767052</td>\n",
       "      <td>2767052</td>\n",
       "      <td>2792775</td>\n",
       "      <td>272</td>\n",
       "      <td>439023483</td>\n",
       "      <td>9.780439e+12</td>\n",
       "      <td>Suzanne Collins</td>\n",
       "      <td>2008.0</td>\n",
       "      <td>The Hunger Games</td>\n",
       "      <td>...</td>\n",
       "      <td>4780653</td>\n",
       "      <td>4942365</td>\n",
       "      <td>155254</td>\n",
       "      <td>66715</td>\n",
       "      <td>127936</td>\n",
       "      <td>560092</td>\n",
       "      <td>1481305</td>\n",
       "      <td>2706317</td>\n",
       "      <td>https://images.gr-assets.com/books/1447303603m...</td>\n",
       "      <td>https://images.gr-assets.com/books/1447303603s...</td>\n",
       "    </tr>\n",
       "    <tr>\n",
       "      <th>1</th>\n",
       "      <td>2</td>\n",
       "      <td>3</td>\n",
       "      <td>3</td>\n",
       "      <td>4640799</td>\n",
       "      <td>491</td>\n",
       "      <td>439554934</td>\n",
       "      <td>9.780440e+12</td>\n",
       "      <td>J.K. Rowling, Mary GrandPré</td>\n",
       "      <td>1997.0</td>\n",
       "      <td>Harry Potter and the Philosopher's Stone</td>\n",
       "      <td>...</td>\n",
       "      <td>4602479</td>\n",
       "      <td>4800065</td>\n",
       "      <td>75867</td>\n",
       "      <td>75504</td>\n",
       "      <td>101676</td>\n",
       "      <td>455024</td>\n",
       "      <td>1156318</td>\n",
       "      <td>3011543</td>\n",
       "      <td>https://images.gr-assets.com/books/1474154022m...</td>\n",
       "      <td>https://images.gr-assets.com/books/1474154022s...</td>\n",
       "    </tr>\n",
       "    <tr>\n",
       "      <th>3</th>\n",
       "      <td>4</td>\n",
       "      <td>2657</td>\n",
       "      <td>2657</td>\n",
       "      <td>3275794</td>\n",
       "      <td>487</td>\n",
       "      <td>61120081</td>\n",
       "      <td>9.780061e+12</td>\n",
       "      <td>Harper Lee</td>\n",
       "      <td>1960.0</td>\n",
       "      <td>To Kill a Mockingbird</td>\n",
       "      <td>...</td>\n",
       "      <td>3198671</td>\n",
       "      <td>3340896</td>\n",
       "      <td>72586</td>\n",
       "      <td>60427</td>\n",
       "      <td>117415</td>\n",
       "      <td>446835</td>\n",
       "      <td>1001952</td>\n",
       "      <td>1714267</td>\n",
       "      <td>https://images.gr-assets.com/books/1361975680m...</td>\n",
       "      <td>https://images.gr-assets.com/books/1361975680s...</td>\n",
       "    </tr>\n",
       "    <tr>\n",
       "      <th>4</th>\n",
       "      <td>5</td>\n",
       "      <td>4671</td>\n",
       "      <td>4671</td>\n",
       "      <td>245494</td>\n",
       "      <td>1356</td>\n",
       "      <td>743273567</td>\n",
       "      <td>9.780743e+12</td>\n",
       "      <td>F. Scott Fitzgerald</td>\n",
       "      <td>1925.0</td>\n",
       "      <td>The Great Gatsby</td>\n",
       "      <td>...</td>\n",
       "      <td>2683664</td>\n",
       "      <td>2773745</td>\n",
       "      <td>51992</td>\n",
       "      <td>86236</td>\n",
       "      <td>197621</td>\n",
       "      <td>606158</td>\n",
       "      <td>936012</td>\n",
       "      <td>947718</td>\n",
       "      <td>https://images.gr-assets.com/books/1490528560m...</td>\n",
       "      <td>https://images.gr-assets.com/books/1490528560s...</td>\n",
       "    </tr>\n",
       "    <tr>\n",
       "      <th>5</th>\n",
       "      <td>6</td>\n",
       "      <td>11870085</td>\n",
       "      <td>11870085</td>\n",
       "      <td>16827462</td>\n",
       "      <td>226</td>\n",
       "      <td>525478817</td>\n",
       "      <td>9.780525e+12</td>\n",
       "      <td>John Green</td>\n",
       "      <td>2012.0</td>\n",
       "      <td>The Fault in Our Stars</td>\n",
       "      <td>...</td>\n",
       "      <td>2346404</td>\n",
       "      <td>2478609</td>\n",
       "      <td>140739</td>\n",
       "      <td>47994</td>\n",
       "      <td>92723</td>\n",
       "      <td>327550</td>\n",
       "      <td>698471</td>\n",
       "      <td>1311871</td>\n",
       "      <td>https://images.gr-assets.com/books/1360206420m...</td>\n",
       "      <td>https://images.gr-assets.com/books/1360206420s...</td>\n",
       "    </tr>\n",
       "  </tbody>\n",
       "</table>\n",
       "<p>5 rows × 23 columns</p>\n",
       "</div>"
      ],
      "text/plain": [
       "   book_id  goodreads_book_id  best_book_id   work_id  books_count       isbn  \\\n",
       "0        1            2767052       2767052   2792775          272  439023483   \n",
       "1        2                  3             3   4640799          491  439554934   \n",
       "3        4               2657          2657   3275794          487   61120081   \n",
       "4        5               4671          4671    245494         1356  743273567   \n",
       "5        6           11870085      11870085  16827462          226  525478817   \n",
       "\n",
       "         isbn13                      authors  original_publication_year  \\\n",
       "0  9.780439e+12              Suzanne Collins                     2008.0   \n",
       "1  9.780440e+12  J.K. Rowling, Mary GrandPré                     1997.0   \n",
       "3  9.780061e+12                   Harper Lee                     1960.0   \n",
       "4  9.780743e+12          F. Scott Fitzgerald                     1925.0   \n",
       "5  9.780525e+12                   John Green                     2012.0   \n",
       "\n",
       "                             original_title  ... ratings_count  \\\n",
       "0                          The Hunger Games  ...       4780653   \n",
       "1  Harry Potter and the Philosopher's Stone  ...       4602479   \n",
       "3                     To Kill a Mockingbird  ...       3198671   \n",
       "4                          The Great Gatsby  ...       2683664   \n",
       "5                    The Fault in Our Stars  ...       2346404   \n",
       "\n",
       "  work_ratings_count  work_text_reviews_count  ratings_1  ratings_2  \\\n",
       "0            4942365                   155254      66715     127936   \n",
       "1            4800065                    75867      75504     101676   \n",
       "3            3340896                    72586      60427     117415   \n",
       "4            2773745                    51992      86236     197621   \n",
       "5            2478609                   140739      47994      92723   \n",
       "\n",
       "   ratings_3  ratings_4  ratings_5  \\\n",
       "0     560092    1481305    2706317   \n",
       "1     455024    1156318    3011543   \n",
       "3     446835    1001952    1714267   \n",
       "4     606158     936012     947718   \n",
       "5     327550     698471    1311871   \n",
       "\n",
       "                                           image_url  \\\n",
       "0  https://images.gr-assets.com/books/1447303603m...   \n",
       "1  https://images.gr-assets.com/books/1474154022m...   \n",
       "3  https://images.gr-assets.com/books/1361975680m...   \n",
       "4  https://images.gr-assets.com/books/1490528560m...   \n",
       "5  https://images.gr-assets.com/books/1360206420m...   \n",
       "\n",
       "                                     small_image_url  \n",
       "0  https://images.gr-assets.com/books/1447303603s...  \n",
       "1  https://images.gr-assets.com/books/1474154022s...  \n",
       "3  https://images.gr-assets.com/books/1361975680s...  \n",
       "4  https://images.gr-assets.com/books/1490528560s...  \n",
       "5  https://images.gr-assets.com/books/1360206420s...  \n",
       "\n",
       "[5 rows x 23 columns]"
      ]
     },
     "execution_count": 38,
     "metadata": {},
     "output_type": "execute_result"
    }
   ],
   "source": [
    "# Removes duplicate entries of the \"original_title\" from the Books DataFrame.\n",
    "df_books = df_books[df_books['original_title'].duplicated(keep=False) == False]\n",
    "df_books.head()"
   ]
  },
  {
   "cell_type": "code",
   "execution_count": 39,
   "metadata": {
    "vscode": {
     "languageId": "ruby"
    }
   },
   "outputs": [
    {
     "name": "stdout",
     "output_type": "stream",
     "text": [
      "9151\n"
     ]
    }
   ],
   "source": [
    "print(len(df_books))"
   ]
  },
  {
   "cell_type": "markdown",
   "metadata": {},
   "source": [
    "## Remove Books_id that Unexist in Books Dataset from df_book_tags"
   ]
  },
  {
   "cell_type": "code",
   "execution_count": 40,
   "metadata": {},
   "outputs": [
    {
     "data": {
      "text/html": [
       "<div>\n",
       "<style scoped>\n",
       "    .dataframe tbody tr th:only-of-type {\n",
       "        vertical-align: middle;\n",
       "    }\n",
       "\n",
       "    .dataframe tbody tr th {\n",
       "        vertical-align: top;\n",
       "    }\n",
       "\n",
       "    .dataframe thead th {\n",
       "        text-align: right;\n",
       "    }\n",
       "</style>\n",
       "<table border=\"1\" class=\"dataframe\">\n",
       "  <thead>\n",
       "    <tr style=\"text-align: right;\">\n",
       "      <th></th>\n",
       "      <th>tag_id</th>\n",
       "      <th>count</th>\n",
       "      <th>tag_name</th>\n",
       "      <th>book_id</th>\n",
       "    </tr>\n",
       "  </thead>\n",
       "  <tbody>\n",
       "    <tr>\n",
       "      <th>0</th>\n",
       "      <td>11305</td>\n",
       "      <td>37174</td>\n",
       "      <td>fantasy</td>\n",
       "      <td>27</td>\n",
       "    </tr>\n",
       "    <tr>\n",
       "      <th>1</th>\n",
       "      <td>33114</td>\n",
       "      <td>12716</td>\n",
       "      <td>youngadult</td>\n",
       "      <td>27</td>\n",
       "    </tr>\n",
       "    <tr>\n",
       "      <th>2</th>\n",
       "      <td>11743</td>\n",
       "      <td>9954</td>\n",
       "      <td>fiction</td>\n",
       "      <td>27</td>\n",
       "    </tr>\n",
       "    <tr>\n",
       "      <th>3</th>\n",
       "      <td>6953</td>\n",
       "      <td>2408</td>\n",
       "      <td>childrens</td>\n",
       "      <td>27</td>\n",
       "    </tr>\n",
       "    <tr>\n",
       "      <th>4</th>\n",
       "      <td>6888</td>\n",
       "      <td>1095</td>\n",
       "      <td>childrens</td>\n",
       "      <td>27</td>\n",
       "    </tr>\n",
       "  </tbody>\n",
       "</table>\n",
       "</div>"
      ],
      "text/plain": [
       "   tag_id  count    tag_name  book_id\n",
       "0   11305  37174     fantasy       27\n",
       "1   33114  12716  youngadult       27\n",
       "2   11743   9954     fiction       27\n",
       "3    6953   2408   childrens       27\n",
       "4    6888   1095   childrens       27"
      ]
     },
     "execution_count": 40,
     "metadata": {},
     "output_type": "execute_result"
    }
   ],
   "source": [
    "# Filter df_book_tags to keep only rows where book_id exists in df_books\n",
    "df_book_tags = df_book_tags[df_book_tags['book_id'].isin(df_books['book_id'])]\n",
    "df_book_tags.head()"
   ]
  },
  {
   "cell_type": "code",
   "execution_count": 53,
   "metadata": {},
   "outputs": [
    {
     "name": "stdout",
     "output_type": "stream",
     "text": [
      "Number of unique book_id in df_book_tags: 9151\n"
     ]
    }
   ],
   "source": [
    "unique_book_ids = df_book_tags['book_id'].nunique()\n",
    "print(f\"Number of unique book_id in df_book_tags: {unique_book_ids}\")"
   ]
  },
  {
   "cell_type": "markdown",
   "metadata": {},
   "source": [
    "# Collaborative Filtering"
   ]
  },
  {
   "cell_type": "markdown",
   "metadata": {},
   "source": [
    "## Item-to-Item"
   ]
  },
  {
   "cell_type": "code",
   "execution_count": 68,
   "metadata": {},
   "outputs": [],
   "source": [
    "# Due to the large size of the dataset and computational limit, \n",
    "# the data is being sampled for in-memory processing.\n",
    "def sampling(max_users=1000):\n",
    "    sampled_books = df_books\n",
    "    \n",
    "    # limit the ratings per book to max 1000\n",
    "    sampled_ratings = df_ratings[df_ratings[\"book_id\"].isin(sampled_books.index)]\n",
    "    sampled_ratings = (\n",
    "        sampled_ratings.groupby(\"book_id\")\n",
    "        .apply(lambda x: x.sample(min(max_users, len(x))))\n",
    "        .reset_index(drop=True)\n",
    "    )\n",
    "    return sampled_ratings, sampled_books"
   ]
  },
  {
   "cell_type": "code",
   "execution_count": 69,
   "metadata": {},
   "outputs": [],
   "source": [
    "# Call the sampling function to get the sampled data\n",
    "ratings_df, books_df = sampling()\n",
    "books_df = books_df.reset_index(drop=True)"
   ]
  },
  {
   "cell_type": "markdown",
   "metadata": {},
   "source": [
    "Provide suggestions if the book title user entered is not found in the dataframe using difflib.get_close_matches() which is used to find the best \"good enough\" matches for a given word from a list of possibilities. It is particularly useful for applications like spell checking or suggesting corrections."
   ]
  },
  {
   "cell_type": "code",
   "execution_count": 73,
   "metadata": {},
   "outputs": [],
   "source": [
    "# If the user enters a book title, this function will return the corresponding book ID.\n",
    "# If the book title is not found, it will suggest similar titles from the dataset.\n",
    "def get_book_id_item(book_title):\n",
    "    book_row = books_df[books_df['original_title'] == book_title]\n",
    "    \n",
    "    if not book_row.empty:\n",
    "        return book_row['book_id'].iloc[0]\n",
    "    else:\n",
    "        # Find closest matches\n",
    "        titles_lexicon = books_df['original_title'].dropna().unique()\n",
    "        suggestions = get_close_matches(book_title, titles_lexicon, n=5, cutoff=0.3)\n",
    "        \n",
    "        if suggestions:\n",
    "            print(f\"Book with title '{book_title}' not found. Did you mean:\")\n",
    "            \n",
    "            for suggestion in suggestions:\n",
    "                print(f\"- {suggestion}\")\n",
    "        else:\n",
    "            print(f\"No close matches found for '{book_title}'.\")\n",
    "        return None"
   ]
  },
  {
   "cell_type": "code",
   "execution_count": 74,
   "metadata": {},
   "outputs": [
    {
     "name": "stdout",
     "output_type": "stream",
     "text": [
      "Book  The Hunger Games found\n",
      "Books Recommendation for book The Hunger Games is:\n"
     ]
    }
   ],
   "source": [
    "# Prompt the user to enter a book title until a valid book ID is found.\n",
    "book_id = None\n",
    "index = None\n",
    "\n",
    "while True:\n",
    "    book_title = input(\"Enter the book name: \")\n",
    "    book_id = get_book_id_item(book_title)\n",
    "    # If a book_id is found, print confirmation and recommendations, then exit the loop.\n",
    "    if book_id is not None:\n",
    "        print(\"Book \", book_title, \"found\")\n",
    "        print(\"Books Recommendation for book\", book_title, \"is:\")\n",
    "        # Exit the loop if a valid book ID is found\n",
    "        break  \n",
    "    # If no book_id is found, prompt the user to try again.\n",
    "    else:\n",
    "        print(\"Book not found. Please try again.\")"
   ]
  },
  {
   "cell_type": "code",
   "execution_count": 75,
   "metadata": {},
   "outputs": [],
   "source": [
    "# Defines a function to calculate the weighted average rating for a group.\n",
    "def group_weighted_avg(group, weight_key):\n",
    "    weights = group[weight_key]\n",
    "    ratings = group[\"rating\"]\n",
    "    return np.average(ratings, weights=weights)\n",
    "\n",
    "# Defines a function to encode user_id and book_id into ordinal integers.\n",
    "def encoder(ratings_df):\n",
    "    user_encoder, book_encoder = OrdinalEncoder(), OrdinalEncoder()\n",
    "    \n",
    "    # Fit and transform user_id, reshape for encoder, convert to int, and reshape back.\n",
    "    ratings_df[\"user_id_encoded\"] = (user_encoder\n",
    "        .fit_transform(ratings_df.user_id.values.reshape((-1, 1)))\n",
    "        .astype(int)\n",
    "        .reshape(-1)\n",
    "    )\n",
    "    \n",
    "    # Fit and transform book_id, reshape for encoder, convert to int, and reshape back.\n",
    "    ratings_df[\"book_id_encoded\"] = (book_encoder\n",
    "        .fit_transform(ratings_df.book_id.values.reshape((-1, 1)))\n",
    "        .astype(int)\n",
    "        .reshape(-1)\n",
    "    )\n",
    "    return ratings_df, user_encoder, book_encoder\n",
    "\n",
    "# Defines a function to create a sparse user-item rating matrix.\n",
    "def sparse_matrix():\n",
    "    # Encode the user and book IDs in the global ratings_df.\n",
    "    ratings_enc_id, user_encoder, book_encoder = encoder(ratings_df)\n",
    "    \n",
    "    # Create the CSR matrix:\n",
    "    # - ratings_enc_id[\"rating\"] provides the data values.\n",
    "    # - (ratings_enc_id[\"user_id_encoded\"], ratings_enc_id[\"book_id_encoded\"]) provides the row and column indices.\n",
    "    X = csr_matrix(\n",
    "        (\n",
    "            ratings_enc_id[\"rating\"],\n",
    "            (ratings_enc_id[\"user_id_encoded\"], ratings_enc_id[\"book_id_encoded\"]),\n",
    "        )\n",
    "    )\n",
    "    return X, ratings_enc_id, user_encoder, book_encoder"
   ]
  },
  {
   "cell_type": "code",
   "execution_count": 76,
   "metadata": {},
   "outputs": [],
   "source": [
    "# Call the sparse_matrix function to generate the sparse matrix and related objects.\n",
    "S, ratings_enc_id, user_encoder, book_encoder = sparse_matrix()"
   ]
  },
  {
   "cell_type": "code",
   "execution_count": 77,
   "metadata": {},
   "outputs": [
    {
     "data": {
      "text/html": [
       "<div>\n",
       "<style scoped>\n",
       "    .dataframe tbody tr th:only-of-type {\n",
       "        vertical-align: middle;\n",
       "    }\n",
       "\n",
       "    .dataframe tbody tr th {\n",
       "        vertical-align: top;\n",
       "    }\n",
       "\n",
       "    .dataframe thead th {\n",
       "        text-align: right;\n",
       "    }\n",
       "</style>\n",
       "<table border=\"1\" class=\"dataframe\">\n",
       "  <thead>\n",
       "    <tr style=\"text-align: right;\">\n",
       "      <th></th>\n",
       "      <th>user_id</th>\n",
       "      <th>book_id</th>\n",
       "      <th>rating</th>\n",
       "      <th>user_id_encoded</th>\n",
       "      <th>book_id_encoded</th>\n",
       "    </tr>\n",
       "  </thead>\n",
       "  <tbody>\n",
       "    <tr>\n",
       "      <th>0</th>\n",
       "      <td>25890</td>\n",
       "      <td>1</td>\n",
       "      <td>4</td>\n",
       "      <td>25889</td>\n",
       "      <td>0</td>\n",
       "    </tr>\n",
       "    <tr>\n",
       "      <th>1</th>\n",
       "      <td>42666</td>\n",
       "      <td>1</td>\n",
       "      <td>4</td>\n",
       "      <td>42665</td>\n",
       "      <td>0</td>\n",
       "    </tr>\n",
       "    <tr>\n",
       "      <th>2</th>\n",
       "      <td>22804</td>\n",
       "      <td>1</td>\n",
       "      <td>5</td>\n",
       "      <td>22803</td>\n",
       "      <td>0</td>\n",
       "    </tr>\n",
       "    <tr>\n",
       "      <th>3</th>\n",
       "      <td>35728</td>\n",
       "      <td>1</td>\n",
       "      <td>3</td>\n",
       "      <td>35727</td>\n",
       "      <td>0</td>\n",
       "    </tr>\n",
       "    <tr>\n",
       "      <th>4</th>\n",
       "      <td>26454</td>\n",
       "      <td>1</td>\n",
       "      <td>5</td>\n",
       "      <td>26453</td>\n",
       "      <td>0</td>\n",
       "    </tr>\n",
       "    <tr>\n",
       "      <th>...</th>\n",
       "      <td>...</td>\n",
       "      <td>...</td>\n",
       "      <td>...</td>\n",
       "      <td>...</td>\n",
       "      <td>...</td>\n",
       "    </tr>\n",
       "    <tr>\n",
       "      <th>3529476</th>\n",
       "      <td>22494</td>\n",
       "      <td>9999</td>\n",
       "      <td>4</td>\n",
       "      <td>22493</td>\n",
       "      <td>9149</td>\n",
       "    </tr>\n",
       "    <tr>\n",
       "      <th>3529477</th>\n",
       "      <td>42893</td>\n",
       "      <td>9999</td>\n",
       "      <td>4</td>\n",
       "      <td>42892</td>\n",
       "      <td>9149</td>\n",
       "    </tr>\n",
       "    <tr>\n",
       "      <th>3529478</th>\n",
       "      <td>13502</td>\n",
       "      <td>9999</td>\n",
       "      <td>5</td>\n",
       "      <td>13501</td>\n",
       "      <td>9149</td>\n",
       "    </tr>\n",
       "    <tr>\n",
       "      <th>3529479</th>\n",
       "      <td>5142</td>\n",
       "      <td>9999</td>\n",
       "      <td>3</td>\n",
       "      <td>5141</td>\n",
       "      <td>9149</td>\n",
       "    </tr>\n",
       "    <tr>\n",
       "      <th>3529480</th>\n",
       "      <td>5340</td>\n",
       "      <td>9999</td>\n",
       "      <td>2</td>\n",
       "      <td>5339</td>\n",
       "      <td>9149</td>\n",
       "    </tr>\n",
       "  </tbody>\n",
       "</table>\n",
       "<p>3529481 rows × 5 columns</p>\n",
       "</div>"
      ],
      "text/plain": [
       "         user_id  book_id  rating  user_id_encoded  book_id_encoded\n",
       "0          25890        1       4            25889                0\n",
       "1          42666        1       4            42665                0\n",
       "2          22804        1       5            22803                0\n",
       "3          35728        1       3            35727                0\n",
       "4          26454        1       5            26453                0\n",
       "...          ...      ...     ...              ...              ...\n",
       "3529476    22494     9999       4            22493             9149\n",
       "3529477    42893     9999       4            42892             9149\n",
       "3529478    13502     9999       5            13501             9149\n",
       "3529479     5142     9999       3             5141             9149\n",
       "3529480     5340     9999       2             5339             9149\n",
       "\n",
       "[3529481 rows x 5 columns]"
      ]
     },
     "execution_count": 77,
     "metadata": {},
     "output_type": "execute_result"
    }
   ],
   "source": [
    "ratings_enc_id"
   ]
  },
  {
   "cell_type": "code",
   "execution_count": 78,
   "metadata": {},
   "outputs": [],
   "source": [
    "# Defines a function to recommend items based on item-item similarity.\n",
    "def rcmd_item(ori_book_id, k = 5, similarity_threshold = 0, min_rating = 4):\n",
    "    # Get the encoded ID for the input original book ID.\n",
    "    book_id_enc = ratings_enc_id.loc[ratings_enc_id['book_id'] == ori_book_id, 'book_id_encoded'] \n",
    "    book_id_enc = book_id_enc.iloc[0]\n",
    "    \n",
    "    # Calculate cosine similarity between the target book's rating vector (transposed)\n",
    "    # and all other book rating vectors (transposed). S.T gives item vectors.\n",
    "    # S.T[book_id_enc] selects the target item's vector.\n",
    "    V = cosine_similarity(S.T[book_id_enc], S.T)[0]\n",
    "\n",
    "    # Print title of input book\n",
    "    title = books_df.loc[books_df['book_id'] == ori_book_id, 'original_title'].iloc[0]\n",
    "    print(title)\n",
    "\n",
    "    # Find the K most similar books.\n",
    "    k_similar = [\n",
    "        i for i in np.argsort(V)[::-1] \n",
    "        if V[i] > similarity_threshold and i != book_id_enc\n",
    "    ]\n",
    "    \n",
    "    # Find all reviews for these similar books.\n",
    "    book_ratings = ratings_enc_id.set_index(\"book_id_encoded\")\n",
    "    similar_ratings = book_ratings.loc[k_similar]\n",
    "\n",
    "    # Remove books that are already read by the user.\n",
    "    # read_by = set(book_ratings.loc[book_id_enc].user_id_encoded)\n",
    "    # similar_ratings = similar_ratings[~similar_ratings[\"user_id_encoded\"].isin(read_by)]\n",
    "\n",
    "    # Stick in the cosine similarity into this df.\n",
    "    similar_ratings[\"book_similarity\"] = similar_ratings.index.map(lambda id: V[id])\n",
    "    # Calculated weighted average of ratings.\n",
    "    similar_ratings = similar_ratings.groupby(\"book_id\").apply(\n",
    "        lambda group: group_weighted_avg(group, \"book_similarity\")\n",
    "    )\n",
    "    \n",
    "    # Sort by predicted rating.\n",
    "    similar_ratings = similar_ratings.drop(book_id_enc, errors='ignore')\n",
    "    similar_ratings = similar_ratings[similar_ratings >= min_rating][:k]\n",
    "\n",
    "    # Get the book titles and average ratings for the recommended books.\n",
    "    # Sort the recommendations by predicted rating in descending order.\n",
    "    rcmd = books_df.loc[similar_ratings.index][[\"book_id\", \"title\", \"average_rating\"]]\n",
    "    rcmd[\"predicted_rating\"] = similar_ratings.round(decimals=2)\n",
    "    rcmd = rcmd.sort_values(by=\"predicted_rating\", ascending=False)\n",
    "    rcmd = rcmd.reset_index(drop=True)\n",
    "\n",
    "    return rcmd"
   ]
  },
  {
   "cell_type": "code",
   "execution_count": 79,
   "metadata": {},
   "outputs": [
    {
     "name": "stdout",
     "output_type": "stream",
     "text": [
      "The Hunger Games\n"
     ]
    },
    {
     "data": {
      "text/html": [
       "<div>\n",
       "<style scoped>\n",
       "    .dataframe tbody tr th:only-of-type {\n",
       "        vertical-align: middle;\n",
       "    }\n",
       "\n",
       "    .dataframe tbody tr th {\n",
       "        vertical-align: top;\n",
       "    }\n",
       "\n",
       "    .dataframe thead th {\n",
       "        text-align: right;\n",
       "    }\n",
       "</style>\n",
       "<table border=\"1\" class=\"dataframe\">\n",
       "  <thead>\n",
       "    <tr style=\"text-align: right;\">\n",
       "      <th></th>\n",
       "      <th>book_id</th>\n",
       "      <th>title</th>\n",
       "      <th>average_rating</th>\n",
       "      <th>predicted_rating</th>\n",
       "    </tr>\n",
       "  </thead>\n",
       "  <tbody>\n",
       "    <tr>\n",
       "      <th>0</th>\n",
       "      <td>6</td>\n",
       "      <td>The Fault in Our Stars</td>\n",
       "      <td>4.26</td>\n",
       "      <td>4.34</td>\n",
       "    </tr>\n",
       "    <tr>\n",
       "      <th>1</th>\n",
       "      <td>8</td>\n",
       "      <td>The Catcher in the Rye</td>\n",
       "      <td>3.79</td>\n",
       "      <td>4.21</td>\n",
       "    </tr>\n",
       "    <tr>\n",
       "      <th>2</th>\n",
       "      <td>12</td>\n",
       "      <td>Divergent (Divergent, #1)</td>\n",
       "      <td>4.24</td>\n",
       "      <td>4.21</td>\n",
       "    </tr>\n",
       "    <tr>\n",
       "      <th>3</th>\n",
       "      <td>9</td>\n",
       "      <td>Angels &amp; Demons  (Robert Langdon, #1)</td>\n",
       "      <td>3.85</td>\n",
       "      <td>4.18</td>\n",
       "    </tr>\n",
       "    <tr>\n",
       "      <th>4</th>\n",
       "      <td>13</td>\n",
       "      <td>1984</td>\n",
       "      <td>4.14</td>\n",
       "      <td>4.14</td>\n",
       "    </tr>\n",
       "  </tbody>\n",
       "</table>\n",
       "</div>"
      ],
      "text/plain": [
       "   book_id                                  title  average_rating  \\\n",
       "0        6                 The Fault in Our Stars            4.26   \n",
       "1        8                 The Catcher in the Rye            3.79   \n",
       "2       12              Divergent (Divergent, #1)            4.24   \n",
       "3        9  Angels & Demons  (Robert Langdon, #1)            3.85   \n",
       "4       13                                   1984            4.14   \n",
       "\n",
       "   predicted_rating  \n",
       "0              4.34  \n",
       "1              4.21  \n",
       "2              4.21  \n",
       "3              4.18  \n",
       "4              4.14  "
      ]
     },
     "execution_count": 79,
     "metadata": {},
     "output_type": "execute_result"
    }
   ],
   "source": [
    "rcmd_i_i = rcmd_item(book_id)\n",
    "rcmd_i_i.head()"
   ]
  },
  {
   "cell_type": "code",
   "execution_count": 80,
   "metadata": {},
   "outputs": [
    {
     "name": "stdout",
     "output_type": "stream",
     "text": [
      "Book ID: 6\n",
      "Book Title: The Fault in Our Stars\n"
     ]
    },
    {
     "data": {
      "text/html": [
       "<img src=\"https://images.gr-assets.com/books/1360206420m/11870085.jpg\"/>"
      ],
      "text/plain": [
       "<IPython.core.display.Image object>"
      ]
     },
     "metadata": {},
     "output_type": "display_data"
    },
    {
     "name": "stdout",
     "output_type": "stream",
     "text": [
      "Book ID: 8\n",
      "Book Title: The Catcher in the Rye\n"
     ]
    },
    {
     "data": {
      "text/html": [
       "<img src=\"https://images.gr-assets.com/books/1398034300m/5107.jpg\"/>"
      ],
      "text/plain": [
       "<IPython.core.display.Image object>"
      ]
     },
     "metadata": {},
     "output_type": "display_data"
    },
    {
     "name": "stdout",
     "output_type": "stream",
     "text": [
      "Book ID: 12\n",
      "Book Title: Divergent (Divergent, #1)\n"
     ]
    },
    {
     "data": {
      "text/html": [
       "<img src=\"https://images.gr-assets.com/books/1328559506m/13335037.jpg\"/>"
      ],
      "text/plain": [
       "<IPython.core.display.Image object>"
      ]
     },
     "metadata": {},
     "output_type": "display_data"
    },
    {
     "name": "stdout",
     "output_type": "stream",
     "text": [
      "Book ID: 9\n",
      "Book Title: Angels & Demons  (Robert Langdon, #1)\n"
     ]
    },
    {
     "data": {
      "text/html": [
       "<img src=\"https://images.gr-assets.com/books/1303390735m/960.jpg\"/>"
      ],
      "text/plain": [
       "<IPython.core.display.Image object>"
      ]
     },
     "metadata": {},
     "output_type": "display_data"
    },
    {
     "name": "stdout",
     "output_type": "stream",
     "text": [
      "Book ID: 13\n",
      "Book Title: 1984\n"
     ]
    },
    {
     "data": {
      "text/html": [
       "<img src=\"https://images.gr-assets.com/books/1348990566m/5470.jpg\"/>"
      ],
      "text/plain": [
       "<IPython.core.display.Image object>"
      ]
     },
     "metadata": {},
     "output_type": "display_data"
    }
   ],
   "source": [
    "# Loop through the recommended books and display their cover images\n",
    "for book_id in rcmd_i_i['book_id']:\n",
    "    # Get the image URL for the book\n",
    "    image_url = df_books.loc[df_books['book_id'] == book_id, 'image_url'].iloc[0]\n",
    "    print(f\"Book ID: {book_id}\")\n",
    "    print(f\"Book Title: {rcmd_i_i.loc[rcmd_i_i['book_id'] == book_id, 'title'].values[0]}\")\n",
    "    display(Image(url=image_url))"
   ]
  },
  {
   "cell_type": "markdown",
   "metadata": {},
   "source": [
    "# Content Based"
   ]
  },
  {
   "cell_type": "code",
   "execution_count": 41,
   "metadata": {},
   "outputs": [],
   "source": [
    "from sklearn.feature_extraction.text import TfidfVectorizer"
   ]
  },
  {
   "cell_type": "code",
   "execution_count": 42,
   "metadata": {},
   "outputs": [
    {
     "data": {
      "text/html": [
       "<div>\n",
       "<style scoped>\n",
       "    .dataframe tbody tr th:only-of-type {\n",
       "        vertical-align: middle;\n",
       "    }\n",
       "\n",
       "    .dataframe tbody tr th {\n",
       "        vertical-align: top;\n",
       "    }\n",
       "\n",
       "    .dataframe thead th {\n",
       "        text-align: right;\n",
       "    }\n",
       "</style>\n",
       "<table border=\"1\" class=\"dataframe\">\n",
       "  <thead>\n",
       "    <tr style=\"text-align: right;\">\n",
       "      <th></th>\n",
       "      <th>tag_id</th>\n",
       "      <th>count</th>\n",
       "      <th>tag_name</th>\n",
       "      <th>book_id</th>\n",
       "    </tr>\n",
       "  </thead>\n",
       "  <tbody>\n",
       "    <tr>\n",
       "      <th>0</th>\n",
       "      <td>11305</td>\n",
       "      <td>37174</td>\n",
       "      <td>fantasy</td>\n",
       "      <td>27</td>\n",
       "    </tr>\n",
       "    <tr>\n",
       "      <th>1</th>\n",
       "      <td>33114</td>\n",
       "      <td>12716</td>\n",
       "      <td>youngadult</td>\n",
       "      <td>27</td>\n",
       "    </tr>\n",
       "    <tr>\n",
       "      <th>2</th>\n",
       "      <td>11743</td>\n",
       "      <td>9954</td>\n",
       "      <td>fiction</td>\n",
       "      <td>27</td>\n",
       "    </tr>\n",
       "    <tr>\n",
       "      <th>3</th>\n",
       "      <td>6953</td>\n",
       "      <td>2408</td>\n",
       "      <td>childrens</td>\n",
       "      <td>27</td>\n",
       "    </tr>\n",
       "    <tr>\n",
       "      <th>4</th>\n",
       "      <td>6888</td>\n",
       "      <td>1095</td>\n",
       "      <td>childrens</td>\n",
       "      <td>27</td>\n",
       "    </tr>\n",
       "    <tr>\n",
       "      <th>...</th>\n",
       "      <td>...</td>\n",
       "      <td>...</td>\n",
       "      <td>...</td>\n",
       "      <td>...</td>\n",
       "    </tr>\n",
       "    <tr>\n",
       "      <th>83357</th>\n",
       "      <td>26138</td>\n",
       "      <td>385</td>\n",
       "      <td>romance</td>\n",
       "      <td>8892</td>\n",
       "    </tr>\n",
       "    <tr>\n",
       "      <th>83358</th>\n",
       "      <td>8055</td>\n",
       "      <td>216</td>\n",
       "      <td>contemporary</td>\n",
       "      <td>8892</td>\n",
       "    </tr>\n",
       "    <tr>\n",
       "      <th>83359</th>\n",
       "      <td>28422</td>\n",
       "      <td>30</td>\n",
       "      <td>sports</td>\n",
       "      <td>8892</td>\n",
       "    </tr>\n",
       "    <tr>\n",
       "      <th>83360</th>\n",
       "      <td>6750</td>\n",
       "      <td>29</td>\n",
       "      <td>chicklit</td>\n",
       "      <td>8892</td>\n",
       "    </tr>\n",
       "    <tr>\n",
       "      <th>83361</th>\n",
       "      <td>11743</td>\n",
       "      <td>21</td>\n",
       "      <td>fiction</td>\n",
       "      <td>8892</td>\n",
       "    </tr>\n",
       "  </tbody>\n",
       "</table>\n",
       "<p>76371 rows × 4 columns</p>\n",
       "</div>"
      ],
      "text/plain": [
       "       tag_id  count      tag_name  book_id\n",
       "0       11305  37174       fantasy       27\n",
       "1       33114  12716    youngadult       27\n",
       "2       11743   9954       fiction       27\n",
       "3        6953   2408     childrens       27\n",
       "4        6888   1095     childrens       27\n",
       "...       ...    ...           ...      ...\n",
       "83357   26138    385       romance     8892\n",
       "83358    8055    216  contemporary     8892\n",
       "83359   28422     30        sports     8892\n",
       "83360    6750     29      chicklit     8892\n",
       "83361   11743     21       fiction     8892\n",
       "\n",
       "[76371 rows x 4 columns]"
      ]
     },
     "execution_count": 42,
     "metadata": {},
     "output_type": "execute_result"
    }
   ],
   "source": [
    "df_book_tags"
   ]
  },
  {
   "cell_type": "code",
   "execution_count": 63,
   "metadata": {},
   "outputs": [],
   "source": [
    "# If the user enters a book title, this function will return the corresponding book ID.\n",
    "# If the book title is not found, it will suggest similar titles from the dataset.\n",
    "def get_book_id_cb(book_title):\n",
    "    book_row = df_books[df_books['original_title'] == book_title]\n",
    "    \n",
    "    if not book_row.empty:\n",
    "        return book_row['book_id'].iloc[0]\n",
    "    else:\n",
    "        # Find closest matches\n",
    "        titles_lexicon = df_books['original_title'].dropna().unique()\n",
    "        suggestions = get_close_matches(book_title, titles_lexicon, n=5, cutoff=0.3)\n",
    "        \n",
    "        if suggestions:\n",
    "            print(f\"Book with title '{book_title}' not found. Did you mean:\")\n",
    "            \n",
    "            for suggestion in suggestions:\n",
    "                print(f\"- {suggestion}\")\n",
    "        else:\n",
    "            print(f\"No close matches found for '{book_title}'.\")\n",
    "        return None"
   ]
  },
  {
   "cell_type": "code",
   "execution_count": 43,
   "metadata": {},
   "outputs": [
    {
     "name": "stdout",
     "output_type": "stream",
     "text": [
      "book_id\n",
      "1    youngadult fiction fantasy sciencefiction roma...\n",
      "2    fantasy youngadult fiction childrens classics ...\n",
      "4    classics historicalfiction youngadult fiction ...\n",
      "5    classics fiction historicalfiction romance you...\n",
      "6    youngadult fiction romance contemporary ebooks...\n",
      "Name: tag_name, dtype: object\n"
     ]
    }
   ],
   "source": [
    "# Group by 'book_id' and join the 'tag_name' strings with a space\n",
    "combined_tags = df_book_tags.groupby('book_id')['tag_name'].apply(lambda tags: ' '.join(tags))\n",
    "\n",
    "# The 'combined_tags' variable now holds the result.\n",
    "# You can display the first few entries to check:\n",
    "print(combined_tags.head())\n",
    "\n",
    "# # If you want this combined tag string as a new column in a DataFrame\n",
    "# # containing unique book_ids, you can convert it:\n",
    "# df_combined_genres = combined_tags.reset_index()\n",
    "# df_combined_genres.rename(columns={'tag_name': 'combined_tags'}, inplace=True)\n",
    "# print(df_combined_genres.head())"
   ]
  },
  {
   "cell_type": "code",
   "execution_count": 44,
   "metadata": {},
   "outputs": [
    {
     "data": {
      "text/plain": [
       "9151"
      ]
     },
     "execution_count": 44,
     "metadata": {},
     "output_type": "execute_result"
    }
   ],
   "source": [
    "len(combined_tags)"
   ]
  },
  {
   "cell_type": "code",
   "execution_count": 45,
   "metadata": {},
   "outputs": [],
   "source": [
    "# Create a TfidfVectorizer object to transform the movie genres into a Tf-idf representation\n",
    "tfidf = TfidfVectorizer()\n",
    "tfidf_matrix = tfidf.fit_transform(combined_tags)"
   ]
  },
  {
   "cell_type": "code",
   "execution_count": 46,
   "metadata": {},
   "outputs": [
    {
     "data": {
      "text/plain": [
       "<9151x40 sparse matrix of type '<class 'numpy.float64'>'\n",
       "\twith 67808 stored elements in Compressed Sparse Row format>"
      ]
     },
     "execution_count": 46,
     "metadata": {},
     "output_type": "execute_result"
    }
   ],
   "source": [
    "tfidf_matrix"
   ]
  },
  {
   "cell_type": "code",
   "execution_count": 47,
   "metadata": {},
   "outputs": [],
   "source": [
    "v = cosine_similarity(tfidf_matrix)"
   ]
  },
  {
   "cell_type": "code",
   "execution_count": 55,
   "metadata": {},
   "outputs": [],
   "source": [
    "similarity_df = pd.DataFrame(v, index=df_books['book_id'], columns=df_books['book_id'])"
   ]
  },
  {
   "cell_type": "code",
   "execution_count": 56,
   "metadata": {},
   "outputs": [
    {
     "data": {
      "text/html": [
       "<div>\n",
       "<style scoped>\n",
       "    .dataframe tbody tr th:only-of-type {\n",
       "        vertical-align: middle;\n",
       "    }\n",
       "\n",
       "    .dataframe tbody tr th {\n",
       "        vertical-align: top;\n",
       "    }\n",
       "\n",
       "    .dataframe thead th {\n",
       "        text-align: right;\n",
       "    }\n",
       "</style>\n",
       "<table border=\"1\" class=\"dataframe\">\n",
       "  <thead>\n",
       "    <tr style=\"text-align: right;\">\n",
       "      <th>book_id</th>\n",
       "      <th>1</th>\n",
       "      <th>2</th>\n",
       "      <th>4</th>\n",
       "      <th>5</th>\n",
       "      <th>6</th>\n",
       "      <th>7</th>\n",
       "      <th>8</th>\n",
       "      <th>9</th>\n",
       "      <th>10</th>\n",
       "      <th>11</th>\n",
       "      <th>...</th>\n",
       "      <th>9991</th>\n",
       "      <th>9992</th>\n",
       "      <th>9993</th>\n",
       "      <th>9994</th>\n",
       "      <th>9995</th>\n",
       "      <th>9996</th>\n",
       "      <th>9997</th>\n",
       "      <th>9998</th>\n",
       "      <th>9999</th>\n",
       "      <th>10000</th>\n",
       "    </tr>\n",
       "    <tr>\n",
       "      <th>book_id</th>\n",
       "      <th></th>\n",
       "      <th></th>\n",
       "      <th></th>\n",
       "      <th></th>\n",
       "      <th></th>\n",
       "      <th></th>\n",
       "      <th></th>\n",
       "      <th></th>\n",
       "      <th></th>\n",
       "      <th></th>\n",
       "      <th></th>\n",
       "      <th></th>\n",
       "      <th></th>\n",
       "      <th></th>\n",
       "      <th></th>\n",
       "      <th></th>\n",
       "      <th></th>\n",
       "      <th></th>\n",
       "      <th></th>\n",
       "      <th></th>\n",
       "      <th></th>\n",
       "    </tr>\n",
       "  </thead>\n",
       "  <tbody>\n",
       "    <tr>\n",
       "      <th>1</th>\n",
       "      <td>1.000000</td>\n",
       "      <td>0.245773</td>\n",
       "      <td>0.229725</td>\n",
       "      <td>0.392611</td>\n",
       "      <td>0.505187</td>\n",
       "      <td>0.374831</td>\n",
       "      <td>0.318356</td>\n",
       "      <td>0.554767</td>\n",
       "      <td>0.332024</td>\n",
       "      <td>0.330369</td>\n",
       "      <td>...</td>\n",
       "      <td>0.288264</td>\n",
       "      <td>0.504406</td>\n",
       "      <td>0.138649</td>\n",
       "      <td>0.290972</td>\n",
       "      <td>0.048145</td>\n",
       "      <td>0.453060</td>\n",
       "      <td>0.000000</td>\n",
       "      <td>0.121779</td>\n",
       "      <td>0.121758</td>\n",
       "      <td>0.040985</td>\n",
       "    </tr>\n",
       "    <tr>\n",
       "      <th>2</th>\n",
       "      <td>0.245773</td>\n",
       "      <td>1.000000</td>\n",
       "      <td>0.360790</td>\n",
       "      <td>0.284412</td>\n",
       "      <td>0.200614</td>\n",
       "      <td>0.821006</td>\n",
       "      <td>0.382396</td>\n",
       "      <td>0.221146</td>\n",
       "      <td>0.207357</td>\n",
       "      <td>0.309683</td>\n",
       "      <td>...</td>\n",
       "      <td>0.359040</td>\n",
       "      <td>0.121510</td>\n",
       "      <td>0.075085</td>\n",
       "      <td>0.844726</td>\n",
       "      <td>0.184588</td>\n",
       "      <td>0.432317</td>\n",
       "      <td>0.091978</td>\n",
       "      <td>0.122280</td>\n",
       "      <td>0.039983</td>\n",
       "      <td>0.000000</td>\n",
       "    </tr>\n",
       "    <tr>\n",
       "      <th>4</th>\n",
       "      <td>0.229725</td>\n",
       "      <td>0.360790</td>\n",
       "      <td>1.000000</td>\n",
       "      <td>0.577754</td>\n",
       "      <td>0.267566</td>\n",
       "      <td>0.229813</td>\n",
       "      <td>0.721597</td>\n",
       "      <td>0.564812</td>\n",
       "      <td>0.591018</td>\n",
       "      <td>0.721642</td>\n",
       "      <td>...</td>\n",
       "      <td>0.345875</td>\n",
       "      <td>0.231588</td>\n",
       "      <td>0.280619</td>\n",
       "      <td>0.217927</td>\n",
       "      <td>0.712185</td>\n",
       "      <td>0.248067</td>\n",
       "      <td>0.278000</td>\n",
       "      <td>0.613802</td>\n",
       "      <td>0.178816</td>\n",
       "      <td>0.281515</td>\n",
       "    </tr>\n",
       "    <tr>\n",
       "      <th>5</th>\n",
       "      <td>0.392611</td>\n",
       "      <td>0.284412</td>\n",
       "      <td>0.577754</td>\n",
       "      <td>1.000000</td>\n",
       "      <td>0.530421</td>\n",
       "      <td>0.347419</td>\n",
       "      <td>0.800660</td>\n",
       "      <td>0.395093</td>\n",
       "      <td>0.787737</td>\n",
       "      <td>0.594822</td>\n",
       "      <td>...</td>\n",
       "      <td>0.313398</td>\n",
       "      <td>0.454749</td>\n",
       "      <td>0.233495</td>\n",
       "      <td>0.268919</td>\n",
       "      <td>0.598570</td>\n",
       "      <td>0.330801</td>\n",
       "      <td>0.159430</td>\n",
       "      <td>0.696265</td>\n",
       "      <td>0.086713</td>\n",
       "      <td>0.220832</td>\n",
       "    </tr>\n",
       "    <tr>\n",
       "      <th>6</th>\n",
       "      <td>0.505187</td>\n",
       "      <td>0.200614</td>\n",
       "      <td>0.267566</td>\n",
       "      <td>0.530421</td>\n",
       "      <td>1.000000</td>\n",
       "      <td>0.228464</td>\n",
       "      <td>0.370797</td>\n",
       "      <td>0.230421</td>\n",
       "      <td>0.716853</td>\n",
       "      <td>0.437119</td>\n",
       "      <td>...</td>\n",
       "      <td>0.178647</td>\n",
       "      <td>0.329141</td>\n",
       "      <td>0.117017</td>\n",
       "      <td>0.244439</td>\n",
       "      <td>0.056075</td>\n",
       "      <td>0.525828</td>\n",
       "      <td>0.000000</td>\n",
       "      <td>0.246530</td>\n",
       "      <td>0.385811</td>\n",
       "      <td>0.095473</td>\n",
       "    </tr>\n",
       "    <tr>\n",
       "      <th>...</th>\n",
       "      <td>...</td>\n",
       "      <td>...</td>\n",
       "      <td>...</td>\n",
       "      <td>...</td>\n",
       "      <td>...</td>\n",
       "      <td>...</td>\n",
       "      <td>...</td>\n",
       "      <td>...</td>\n",
       "      <td>...</td>\n",
       "      <td>...</td>\n",
       "      <td>...</td>\n",
       "      <td>...</td>\n",
       "      <td>...</td>\n",
       "      <td>...</td>\n",
       "      <td>...</td>\n",
       "      <td>...</td>\n",
       "      <td>...</td>\n",
       "      <td>...</td>\n",
       "      <td>...</td>\n",
       "      <td>...</td>\n",
       "      <td>...</td>\n",
       "    </tr>\n",
       "    <tr>\n",
       "      <th>9996</th>\n",
       "      <td>0.453060</td>\n",
       "      <td>0.432317</td>\n",
       "      <td>0.248067</td>\n",
       "      <td>0.330801</td>\n",
       "      <td>0.525828</td>\n",
       "      <td>0.197637</td>\n",
       "      <td>0.169408</td>\n",
       "      <td>0.366022</td>\n",
       "      <td>0.341544</td>\n",
       "      <td>0.290897</td>\n",
       "      <td>...</td>\n",
       "      <td>0.315979</td>\n",
       "      <td>0.443262</td>\n",
       "      <td>0.192622</td>\n",
       "      <td>0.315850</td>\n",
       "      <td>0.052774</td>\n",
       "      <td>1.000000</td>\n",
       "      <td>0.000000</td>\n",
       "      <td>0.232014</td>\n",
       "      <td>0.207643</td>\n",
       "      <td>0.089851</td>\n",
       "    </tr>\n",
       "    <tr>\n",
       "      <th>9997</th>\n",
       "      <td>0.000000</td>\n",
       "      <td>0.091978</td>\n",
       "      <td>0.278000</td>\n",
       "      <td>0.159430</td>\n",
       "      <td>0.000000</td>\n",
       "      <td>0.096590</td>\n",
       "      <td>0.170004</td>\n",
       "      <td>0.177731</td>\n",
       "      <td>0.263411</td>\n",
       "      <td>0.549455</td>\n",
       "      <td>...</td>\n",
       "      <td>0.599037</td>\n",
       "      <td>0.000000</td>\n",
       "      <td>0.599394</td>\n",
       "      <td>0.000000</td>\n",
       "      <td>0.390347</td>\n",
       "      <td>0.000000</td>\n",
       "      <td>1.000000</td>\n",
       "      <td>0.258585</td>\n",
       "      <td>0.546988</td>\n",
       "      <td>0.874562</td>\n",
       "    </tr>\n",
       "    <tr>\n",
       "      <th>9998</th>\n",
       "      <td>0.121779</td>\n",
       "      <td>0.122280</td>\n",
       "      <td>0.613802</td>\n",
       "      <td>0.696265</td>\n",
       "      <td>0.246530</td>\n",
       "      <td>0.198189</td>\n",
       "      <td>0.619626</td>\n",
       "      <td>0.449074</td>\n",
       "      <td>0.749536</td>\n",
       "      <td>0.653182</td>\n",
       "      <td>...</td>\n",
       "      <td>0.224304</td>\n",
       "      <td>0.611891</td>\n",
       "      <td>0.438011</td>\n",
       "      <td>0.026005</td>\n",
       "      <td>0.861858</td>\n",
       "      <td>0.232014</td>\n",
       "      <td>0.258585</td>\n",
       "      <td>1.000000</td>\n",
       "      <td>0.240850</td>\n",
       "      <td>0.457496</td>\n",
       "    </tr>\n",
       "    <tr>\n",
       "      <th>9999</th>\n",
       "      <td>0.121758</td>\n",
       "      <td>0.039983</td>\n",
       "      <td>0.178816</td>\n",
       "      <td>0.086713</td>\n",
       "      <td>0.385811</td>\n",
       "      <td>0.052534</td>\n",
       "      <td>0.073900</td>\n",
       "      <td>0.156977</td>\n",
       "      <td>0.377832</td>\n",
       "      <td>0.512971</td>\n",
       "      <td>...</td>\n",
       "      <td>0.421003</td>\n",
       "      <td>0.165717</td>\n",
       "      <td>0.535462</td>\n",
       "      <td>0.000000</td>\n",
       "      <td>0.176204</td>\n",
       "      <td>0.207643</td>\n",
       "      <td>0.546988</td>\n",
       "      <td>0.240850</td>\n",
       "      <td>1.000000</td>\n",
       "      <td>0.591890</td>\n",
       "    </tr>\n",
       "    <tr>\n",
       "      <th>10000</th>\n",
       "      <td>0.040985</td>\n",
       "      <td>0.000000</td>\n",
       "      <td>0.281515</td>\n",
       "      <td>0.220832</td>\n",
       "      <td>0.095473</td>\n",
       "      <td>0.031817</td>\n",
       "      <td>0.179478</td>\n",
       "      <td>0.205813</td>\n",
       "      <td>0.343320</td>\n",
       "      <td>0.584080</td>\n",
       "      <td>...</td>\n",
       "      <td>0.421118</td>\n",
       "      <td>0.261199</td>\n",
       "      <td>0.716974</td>\n",
       "      <td>0.000000</td>\n",
       "      <td>0.395284</td>\n",
       "      <td>0.089851</td>\n",
       "      <td>0.874562</td>\n",
       "      <td>0.457496</td>\n",
       "      <td>0.591890</td>\n",
       "      <td>1.000000</td>\n",
       "    </tr>\n",
       "  </tbody>\n",
       "</table>\n",
       "<p>9151 rows × 9151 columns</p>\n",
       "</div>"
      ],
      "text/plain": [
       "book_id     1         2         4         5         6         7         8      \\\n",
       "book_id                                                                         \n",
       "1        1.000000  0.245773  0.229725  0.392611  0.505187  0.374831  0.318356   \n",
       "2        0.245773  1.000000  0.360790  0.284412  0.200614  0.821006  0.382396   \n",
       "4        0.229725  0.360790  1.000000  0.577754  0.267566  0.229813  0.721597   \n",
       "5        0.392611  0.284412  0.577754  1.000000  0.530421  0.347419  0.800660   \n",
       "6        0.505187  0.200614  0.267566  0.530421  1.000000  0.228464  0.370797   \n",
       "...           ...       ...       ...       ...       ...       ...       ...   \n",
       "9996     0.453060  0.432317  0.248067  0.330801  0.525828  0.197637  0.169408   \n",
       "9997     0.000000  0.091978  0.278000  0.159430  0.000000  0.096590  0.170004   \n",
       "9998     0.121779  0.122280  0.613802  0.696265  0.246530  0.198189  0.619626   \n",
       "9999     0.121758  0.039983  0.178816  0.086713  0.385811  0.052534  0.073900   \n",
       "10000    0.040985  0.000000  0.281515  0.220832  0.095473  0.031817  0.179478   \n",
       "\n",
       "book_id     9         10        11     ...     9991      9992      9993   \\\n",
       "book_id                                ...                                 \n",
       "1        0.554767  0.332024  0.330369  ...  0.288264  0.504406  0.138649   \n",
       "2        0.221146  0.207357  0.309683  ...  0.359040  0.121510  0.075085   \n",
       "4        0.564812  0.591018  0.721642  ...  0.345875  0.231588  0.280619   \n",
       "5        0.395093  0.787737  0.594822  ...  0.313398  0.454749  0.233495   \n",
       "6        0.230421  0.716853  0.437119  ...  0.178647  0.329141  0.117017   \n",
       "...           ...       ...       ...  ...       ...       ...       ...   \n",
       "9996     0.366022  0.341544  0.290897  ...  0.315979  0.443262  0.192622   \n",
       "9997     0.177731  0.263411  0.549455  ...  0.599037  0.000000  0.599394   \n",
       "9998     0.449074  0.749536  0.653182  ...  0.224304  0.611891  0.438011   \n",
       "9999     0.156977  0.377832  0.512971  ...  0.421003  0.165717  0.535462   \n",
       "10000    0.205813  0.343320  0.584080  ...  0.421118  0.261199  0.716974   \n",
       "\n",
       "book_id     9994      9995      9996      9997      9998      9999      10000  \n",
       "book_id                                                                        \n",
       "1        0.290972  0.048145  0.453060  0.000000  0.121779  0.121758  0.040985  \n",
       "2        0.844726  0.184588  0.432317  0.091978  0.122280  0.039983  0.000000  \n",
       "4        0.217927  0.712185  0.248067  0.278000  0.613802  0.178816  0.281515  \n",
       "5        0.268919  0.598570  0.330801  0.159430  0.696265  0.086713  0.220832  \n",
       "6        0.244439  0.056075  0.525828  0.000000  0.246530  0.385811  0.095473  \n",
       "...           ...       ...       ...       ...       ...       ...       ...  \n",
       "9996     0.315850  0.052774  1.000000  0.000000  0.232014  0.207643  0.089851  \n",
       "9997     0.000000  0.390347  0.000000  1.000000  0.258585  0.546988  0.874562  \n",
       "9998     0.026005  0.861858  0.232014  0.258585  1.000000  0.240850  0.457496  \n",
       "9999     0.000000  0.176204  0.207643  0.546988  0.240850  1.000000  0.591890  \n",
       "10000    0.000000  0.395284  0.089851  0.874562  0.457496  0.591890  1.000000  \n",
       "\n",
       "[9151 rows x 9151 columns]"
      ]
     },
     "execution_count": 56,
     "metadata": {},
     "output_type": "execute_result"
    }
   ],
   "source": [
    "similarity_df"
   ]
  },
  {
   "cell_type": "code",
   "execution_count": 64,
   "metadata": {},
   "outputs": [
    {
     "name": "stdout",
     "output_type": "stream",
     "text": [
      "Book  Harry Potter and the Philosopher's Stone found\n",
      "Books Recommendation for book Harry Potter and the Philosopher's Stone is:\n"
     ]
    }
   ],
   "source": [
    "# Prompt the user to enter a book title until a valid book ID is found.\n",
    "book_id = None\n",
    "index = None\n",
    "\n",
    "while True:\n",
    "    book_title = input(\"Enter the book name: \")\n",
    "    book_id = get_book_id_cb(book_title)\n",
    "    # If a book_id is found, print confirmation and recommendations, then exit the loop.\n",
    "    if book_id is not None:\n",
    "        print(\"Book \", book_title, \"found\")\n",
    "        print(\"Books Recommendation for book\", book_title, \"is:\")\n",
    "        # Exit the loop if a valid book ID is found\n",
    "        break  \n",
    "    # If no book_id is found, prompt the user to try again.\n",
    "    else:\n",
    "        print(\"Book not found. Please try again.\")"
   ]
  },
  {
   "cell_type": "code",
   "execution_count": 65,
   "metadata": {},
   "outputs": [],
   "source": [
    "top_5 = similarity_df.iloc[1].sort_values(ascending=False)[1:6]"
   ]
  },
  {
   "cell_type": "code",
   "execution_count": null,
   "metadata": {},
   "outputs": [
    {
     "name": "stdout",
     "output_type": "stream",
     "text": [
      "\n",
      "Harry Potter and the Prisoner of Azkaban: \n"
     ]
    },
    {
     "data": {
      "text/html": [
       "<img src=\"https://images.gr-assets.com/books/1499277281m/5.jpg\"/>"
      ],
      "text/plain": [
       "<IPython.core.display.Image object>"
      ]
     },
     "metadata": {},
     "output_type": "display_data"
    },
    {
     "name": "stdout",
     "output_type": "stream",
     "text": [
      "Harry Potter and the Chamber of Secrets: \n"
     ]
    },
    {
     "data": {
      "text/html": [
       "<img src=\"https://images.gr-assets.com/books/1474169725m/15881.jpg\"/>"
      ],
      "text/plain": [
       "<IPython.core.display.Image object>"
      ]
     },
     "metadata": {},
     "output_type": "display_data"
    },
    {
     "name": "stdout",
     "output_type": "stream",
     "text": [
      "Harry Potter and the Goblet of Fire: \n"
     ]
    },
    {
     "data": {
      "text/html": [
       "<img src=\"https://images.gr-assets.com/books/1361482611m/6.jpg\"/>"
      ],
      "text/plain": [
       "<IPython.core.display.Image object>"
      ]
     },
     "metadata": {},
     "output_type": "display_data"
    },
    {
     "name": "stdout",
     "output_type": "stream",
     "text": [
      "Skellig: \n"
     ]
    },
    {
     "data": {
      "text/html": [
       "<img src=\"https://images.gr-assets.com/books/1320460285m/24271.jpg\"/>"
      ],
      "text/plain": [
       "<IPython.core.display.Image object>"
      ]
     },
     "metadata": {},
     "output_type": "display_data"
    },
    {
     "name": "stdout",
     "output_type": "stream",
     "text": [
      "Harry Potter Collection (Harry Potter, #1-6): \n"
     ]
    },
    {
     "data": {
      "text/html": [
       "<img src=\"https://images.gr-assets.com/books/1328867351m/10.jpg\"/>"
      ],
      "text/plain": [
       "<IPython.core.display.Image object>"
      ]
     },
     "metadata": {},
     "output_type": "display_data"
    }
   ],
   "source": [
    "# Retrieve and print the book titles for the book_ids in the top_5 dataframe\n",
    "print(\"\")\n",
    "for book_id in top_5.index:\n",
    "    book_title = df_books.loc[df_books['book_id'] == book_id, 'original_title'].iloc[0]\n",
    "    image_url = df_books.loc[df_books['book_id'] == book_id, 'image_url'].iloc[0]\n",
    "    print(f\"{book_title}: \")\n",
    "    display(Image(url=image_url))\n",
    "    "
   ]
  }
 ],
 "metadata": {
  "kernelspec": {
   "display_name": "Python 3",
   "language": "python",
   "name": "python3"
  },
  "language_info": {
   "codemirror_mode": {
    "name": "ipython",
    "version": 3
   },
   "file_extension": ".py",
   "mimetype": "text/x-python",
   "name": "python",
   "nbconvert_exporter": "python",
   "pygments_lexer": "ipython3",
   "version": "3.8.2"
  }
 },
 "nbformat": 4,
 "nbformat_minor": 2
}
