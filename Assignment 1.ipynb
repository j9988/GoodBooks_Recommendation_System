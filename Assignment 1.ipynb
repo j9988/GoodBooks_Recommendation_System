{
 "cells": [
  {
   "cell_type": "markdown",
   "metadata": {},
   "source": [
    "# Libraries Importing"
   ]
  },
  {
   "cell_type": "code",
   "execution_count": 1,
   "metadata": {},
   "outputs": [],
   "source": [
    "# import libraries\n",
    "import re\n",
    "import numpy as np\n",
    "import pandas as pd\n",
    "import seaborn as sns\n",
    "import requests\n",
    "import matplotlib.pyplot as plt\n",
    "from bs4 import BeautifulSoup\n",
    "from difflib import get_close_matches\n",
    "from scipy.sparse import csr_matrix\n",
    "from IPython.display import Image, display\n",
    "from IPython.core.display import HTML\n",
    "from sklearn.preprocessing import OrdinalEncoder\n",
    "from sklearn.metrics.pairwise import cosine_similarity\n",
    "from sklearn.feature_extraction.text import TfidfVectorizer"
   ]
  },
  {
   "cell_type": "markdown",
   "metadata": {},
   "source": [
    "# Data Importing"
   ]
  },
  {
   "cell_type": "markdown",
   "metadata": {},
   "source": [
    "## Books Dataset"
   ]
  },
  {
   "cell_type": "code",
   "execution_count": 2,
   "metadata": {},
   "outputs": [
    {
     "data": {
      "text/html": [
       "<div>\n",
       "<style scoped>\n",
       "    .dataframe tbody tr th:only-of-type {\n",
       "        vertical-align: middle;\n",
       "    }\n",
       "\n",
       "    .dataframe tbody tr th {\n",
       "        vertical-align: top;\n",
       "    }\n",
       "\n",
       "    .dataframe thead th {\n",
       "        text-align: right;\n",
       "    }\n",
       "</style>\n",
       "<table border=\"1\" class=\"dataframe\">\n",
       "  <thead>\n",
       "    <tr style=\"text-align: right;\">\n",
       "      <th></th>\n",
       "      <th>book_id</th>\n",
       "      <th>goodreads_book_id</th>\n",
       "      <th>best_book_id</th>\n",
       "      <th>work_id</th>\n",
       "      <th>books_count</th>\n",
       "      <th>isbn</th>\n",
       "      <th>isbn13</th>\n",
       "      <th>authors</th>\n",
       "      <th>original_publication_year</th>\n",
       "      <th>original_title</th>\n",
       "      <th>...</th>\n",
       "      <th>ratings_count</th>\n",
       "      <th>work_ratings_count</th>\n",
       "      <th>work_text_reviews_count</th>\n",
       "      <th>ratings_1</th>\n",
       "      <th>ratings_2</th>\n",
       "      <th>ratings_3</th>\n",
       "      <th>ratings_4</th>\n",
       "      <th>ratings_5</th>\n",
       "      <th>image_url</th>\n",
       "      <th>small_image_url</th>\n",
       "    </tr>\n",
       "  </thead>\n",
       "  <tbody>\n",
       "    <tr>\n",
       "      <th>0</th>\n",
       "      <td>1</td>\n",
       "      <td>2767052</td>\n",
       "      <td>2767052</td>\n",
       "      <td>2792775</td>\n",
       "      <td>272</td>\n",
       "      <td>439023483</td>\n",
       "      <td>9.780439e+12</td>\n",
       "      <td>Suzanne Collins</td>\n",
       "      <td>2008.0</td>\n",
       "      <td>The Hunger Games</td>\n",
       "      <td>...</td>\n",
       "      <td>4780653</td>\n",
       "      <td>4942365</td>\n",
       "      <td>155254</td>\n",
       "      <td>66715</td>\n",
       "      <td>127936</td>\n",
       "      <td>560092</td>\n",
       "      <td>1481305</td>\n",
       "      <td>2706317</td>\n",
       "      <td>https://images.gr-assets.com/books/1447303603m...</td>\n",
       "      <td>https://images.gr-assets.com/books/1447303603s...</td>\n",
       "    </tr>\n",
       "    <tr>\n",
       "      <th>1</th>\n",
       "      <td>2</td>\n",
       "      <td>3</td>\n",
       "      <td>3</td>\n",
       "      <td>4640799</td>\n",
       "      <td>491</td>\n",
       "      <td>439554934</td>\n",
       "      <td>9.780440e+12</td>\n",
       "      <td>J.K. Rowling, Mary GrandPré</td>\n",
       "      <td>1997.0</td>\n",
       "      <td>Harry Potter and the Philosopher's Stone</td>\n",
       "      <td>...</td>\n",
       "      <td>4602479</td>\n",
       "      <td>4800065</td>\n",
       "      <td>75867</td>\n",
       "      <td>75504</td>\n",
       "      <td>101676</td>\n",
       "      <td>455024</td>\n",
       "      <td>1156318</td>\n",
       "      <td>3011543</td>\n",
       "      <td>https://images.gr-assets.com/books/1474154022m...</td>\n",
       "      <td>https://images.gr-assets.com/books/1474154022s...</td>\n",
       "    </tr>\n",
       "    <tr>\n",
       "      <th>2</th>\n",
       "      <td>3</td>\n",
       "      <td>41865</td>\n",
       "      <td>41865</td>\n",
       "      <td>3212258</td>\n",
       "      <td>226</td>\n",
       "      <td>316015849</td>\n",
       "      <td>9.780316e+12</td>\n",
       "      <td>Stephenie Meyer</td>\n",
       "      <td>2005.0</td>\n",
       "      <td>Twilight</td>\n",
       "      <td>...</td>\n",
       "      <td>3866839</td>\n",
       "      <td>3916824</td>\n",
       "      <td>95009</td>\n",
       "      <td>456191</td>\n",
       "      <td>436802</td>\n",
       "      <td>793319</td>\n",
       "      <td>875073</td>\n",
       "      <td>1355439</td>\n",
       "      <td>https://images.gr-assets.com/books/1361039443m...</td>\n",
       "      <td>https://images.gr-assets.com/books/1361039443s...</td>\n",
       "    </tr>\n",
       "    <tr>\n",
       "      <th>3</th>\n",
       "      <td>4</td>\n",
       "      <td>2657</td>\n",
       "      <td>2657</td>\n",
       "      <td>3275794</td>\n",
       "      <td>487</td>\n",
       "      <td>61120081</td>\n",
       "      <td>9.780061e+12</td>\n",
       "      <td>Harper Lee</td>\n",
       "      <td>1960.0</td>\n",
       "      <td>To Kill a Mockingbird</td>\n",
       "      <td>...</td>\n",
       "      <td>3198671</td>\n",
       "      <td>3340896</td>\n",
       "      <td>72586</td>\n",
       "      <td>60427</td>\n",
       "      <td>117415</td>\n",
       "      <td>446835</td>\n",
       "      <td>1001952</td>\n",
       "      <td>1714267</td>\n",
       "      <td>https://images.gr-assets.com/books/1361975680m...</td>\n",
       "      <td>https://images.gr-assets.com/books/1361975680s...</td>\n",
       "    </tr>\n",
       "    <tr>\n",
       "      <th>4</th>\n",
       "      <td>5</td>\n",
       "      <td>4671</td>\n",
       "      <td>4671</td>\n",
       "      <td>245494</td>\n",
       "      <td>1356</td>\n",
       "      <td>743273567</td>\n",
       "      <td>9.780743e+12</td>\n",
       "      <td>F. Scott Fitzgerald</td>\n",
       "      <td>1925.0</td>\n",
       "      <td>The Great Gatsby</td>\n",
       "      <td>...</td>\n",
       "      <td>2683664</td>\n",
       "      <td>2773745</td>\n",
       "      <td>51992</td>\n",
       "      <td>86236</td>\n",
       "      <td>197621</td>\n",
       "      <td>606158</td>\n",
       "      <td>936012</td>\n",
       "      <td>947718</td>\n",
       "      <td>https://images.gr-assets.com/books/1490528560m...</td>\n",
       "      <td>https://images.gr-assets.com/books/1490528560s...</td>\n",
       "    </tr>\n",
       "  </tbody>\n",
       "</table>\n",
       "<p>5 rows × 23 columns</p>\n",
       "</div>"
      ],
      "text/plain": [
       "   book_id  goodreads_book_id  best_book_id  work_id  books_count       isbn  \\\n",
       "0        1            2767052       2767052  2792775          272  439023483   \n",
       "1        2                  3             3  4640799          491  439554934   \n",
       "2        3              41865         41865  3212258          226  316015849   \n",
       "3        4               2657          2657  3275794          487   61120081   \n",
       "4        5               4671          4671   245494         1356  743273567   \n",
       "\n",
       "         isbn13                      authors  original_publication_year  \\\n",
       "0  9.780439e+12              Suzanne Collins                     2008.0   \n",
       "1  9.780440e+12  J.K. Rowling, Mary GrandPré                     1997.0   \n",
       "2  9.780316e+12              Stephenie Meyer                     2005.0   \n",
       "3  9.780061e+12                   Harper Lee                     1960.0   \n",
       "4  9.780743e+12          F. Scott Fitzgerald                     1925.0   \n",
       "\n",
       "                             original_title  ... ratings_count  \\\n",
       "0                          The Hunger Games  ...       4780653   \n",
       "1  Harry Potter and the Philosopher's Stone  ...       4602479   \n",
       "2                                  Twilight  ...       3866839   \n",
       "3                     To Kill a Mockingbird  ...       3198671   \n",
       "4                          The Great Gatsby  ...       2683664   \n",
       "\n",
       "  work_ratings_count  work_text_reviews_count  ratings_1  ratings_2  \\\n",
       "0            4942365                   155254      66715     127936   \n",
       "1            4800065                    75867      75504     101676   \n",
       "2            3916824                    95009     456191     436802   \n",
       "3            3340896                    72586      60427     117415   \n",
       "4            2773745                    51992      86236     197621   \n",
       "\n",
       "   ratings_3  ratings_4  ratings_5  \\\n",
       "0     560092    1481305    2706317   \n",
       "1     455024    1156318    3011543   \n",
       "2     793319     875073    1355439   \n",
       "3     446835    1001952    1714267   \n",
       "4     606158     936012     947718   \n",
       "\n",
       "                                           image_url  \\\n",
       "0  https://images.gr-assets.com/books/1447303603m...   \n",
       "1  https://images.gr-assets.com/books/1474154022m...   \n",
       "2  https://images.gr-assets.com/books/1361039443m...   \n",
       "3  https://images.gr-assets.com/books/1361975680m...   \n",
       "4  https://images.gr-assets.com/books/1490528560m...   \n",
       "\n",
       "                                     small_image_url  \n",
       "0  https://images.gr-assets.com/books/1447303603s...  \n",
       "1  https://images.gr-assets.com/books/1474154022s...  \n",
       "2  https://images.gr-assets.com/books/1361039443s...  \n",
       "3  https://images.gr-assets.com/books/1361975680s...  \n",
       "4  https://images.gr-assets.com/books/1490528560s...  \n",
       "\n",
       "[5 rows x 23 columns]"
      ]
     },
     "execution_count": 2,
     "metadata": {},
     "output_type": "execute_result"
    }
   ],
   "source": [
    "df_books =  pd.read_csv(\"D:/hp/Documents/CDS513/Assignment/goodbooks-10k-master/books.csv\", na_values=[' ', ''])\n",
    "df_books.head()"
   ]
  },
  {
   "cell_type": "markdown",
   "metadata": {},
   "source": [
    "## Tags Dataset"
   ]
  },
  {
   "cell_type": "code",
   "execution_count": 3,
   "metadata": {},
   "outputs": [
    {
     "data": {
      "text/html": [
       "<div>\n",
       "<style scoped>\n",
       "    .dataframe tbody tr th:only-of-type {\n",
       "        vertical-align: middle;\n",
       "    }\n",
       "\n",
       "    .dataframe tbody tr th {\n",
       "        vertical-align: top;\n",
       "    }\n",
       "\n",
       "    .dataframe thead th {\n",
       "        text-align: right;\n",
       "    }\n",
       "</style>\n",
       "<table border=\"1\" class=\"dataframe\">\n",
       "  <thead>\n",
       "    <tr style=\"text-align: right;\">\n",
       "      <th></th>\n",
       "      <th>tag_id</th>\n",
       "      <th>tag_name</th>\n",
       "    </tr>\n",
       "  </thead>\n",
       "  <tbody>\n",
       "    <tr>\n",
       "      <th>0</th>\n",
       "      <td>0</td>\n",
       "      <td>-</td>\n",
       "    </tr>\n",
       "    <tr>\n",
       "      <th>1</th>\n",
       "      <td>1</td>\n",
       "      <td>--1-</td>\n",
       "    </tr>\n",
       "    <tr>\n",
       "      <th>2</th>\n",
       "      <td>2</td>\n",
       "      <td>--10-</td>\n",
       "    </tr>\n",
       "    <tr>\n",
       "      <th>3</th>\n",
       "      <td>3</td>\n",
       "      <td>--12-</td>\n",
       "    </tr>\n",
       "    <tr>\n",
       "      <th>4</th>\n",
       "      <td>4</td>\n",
       "      <td>--122-</td>\n",
       "    </tr>\n",
       "  </tbody>\n",
       "</table>\n",
       "</div>"
      ],
      "text/plain": [
       "   tag_id tag_name\n",
       "0       0        -\n",
       "1       1     --1-\n",
       "2       2    --10-\n",
       "3       3    --12-\n",
       "4       4   --122-"
      ]
     },
     "execution_count": 3,
     "metadata": {},
     "output_type": "execute_result"
    }
   ],
   "source": [
    "df_tags =  pd.read_csv(\"D:/hp/Documents/CDS513/Assignment/goodbooks-10k-master/tags.csv\", na_values=[' ', ''])\n",
    "df_tags.head()"
   ]
  },
  {
   "cell_type": "markdown",
   "metadata": {},
   "source": [
    "## Ratings Dataset"
   ]
  },
  {
   "cell_type": "code",
   "execution_count": 4,
   "metadata": {},
   "outputs": [
    {
     "data": {
      "text/html": [
       "<div>\n",
       "<style scoped>\n",
       "    .dataframe tbody tr th:only-of-type {\n",
       "        vertical-align: middle;\n",
       "    }\n",
       "\n",
       "    .dataframe tbody tr th {\n",
       "        vertical-align: top;\n",
       "    }\n",
       "\n",
       "    .dataframe thead th {\n",
       "        text-align: right;\n",
       "    }\n",
       "</style>\n",
       "<table border=\"1\" class=\"dataframe\">\n",
       "  <thead>\n",
       "    <tr style=\"text-align: right;\">\n",
       "      <th></th>\n",
       "      <th>user_id</th>\n",
       "      <th>book_id</th>\n",
       "      <th>rating</th>\n",
       "    </tr>\n",
       "  </thead>\n",
       "  <tbody>\n",
       "    <tr>\n",
       "      <th>0</th>\n",
       "      <td>1</td>\n",
       "      <td>258</td>\n",
       "      <td>5</td>\n",
       "    </tr>\n",
       "    <tr>\n",
       "      <th>1</th>\n",
       "      <td>2</td>\n",
       "      <td>4081</td>\n",
       "      <td>4</td>\n",
       "    </tr>\n",
       "    <tr>\n",
       "      <th>2</th>\n",
       "      <td>2</td>\n",
       "      <td>260</td>\n",
       "      <td>5</td>\n",
       "    </tr>\n",
       "    <tr>\n",
       "      <th>3</th>\n",
       "      <td>2</td>\n",
       "      <td>9296</td>\n",
       "      <td>5</td>\n",
       "    </tr>\n",
       "    <tr>\n",
       "      <th>4</th>\n",
       "      <td>2</td>\n",
       "      <td>2318</td>\n",
       "      <td>3</td>\n",
       "    </tr>\n",
       "  </tbody>\n",
       "</table>\n",
       "</div>"
      ],
      "text/plain": [
       "   user_id  book_id  rating\n",
       "0        1      258       5\n",
       "1        2     4081       4\n",
       "2        2      260       5\n",
       "3        2     9296       5\n",
       "4        2     2318       3"
      ]
     },
     "execution_count": 4,
     "metadata": {},
     "output_type": "execute_result"
    }
   ],
   "source": [
    "df_ratings =  pd.read_csv(\"D:/hp/Documents/CDS513/Assignment/goodbooks-10k-master/ratings.csv\", na_values=[' ', ''])\n",
    "df_ratings.head()"
   ]
  },
  {
   "cell_type": "markdown",
   "metadata": {},
   "source": [
    "## To Read Dataset"
   ]
  },
  {
   "cell_type": "code",
   "execution_count": 5,
   "metadata": {},
   "outputs": [
    {
     "data": {
      "text/html": [
       "<div>\n",
       "<style scoped>\n",
       "    .dataframe tbody tr th:only-of-type {\n",
       "        vertical-align: middle;\n",
       "    }\n",
       "\n",
       "    .dataframe tbody tr th {\n",
       "        vertical-align: top;\n",
       "    }\n",
       "\n",
       "    .dataframe thead th {\n",
       "        text-align: right;\n",
       "    }\n",
       "</style>\n",
       "<table border=\"1\" class=\"dataframe\">\n",
       "  <thead>\n",
       "    <tr style=\"text-align: right;\">\n",
       "      <th></th>\n",
       "      <th>user_id</th>\n",
       "      <th>book_id</th>\n",
       "    </tr>\n",
       "  </thead>\n",
       "  <tbody>\n",
       "    <tr>\n",
       "      <th>0</th>\n",
       "      <td>9</td>\n",
       "      <td>8</td>\n",
       "    </tr>\n",
       "    <tr>\n",
       "      <th>1</th>\n",
       "      <td>15</td>\n",
       "      <td>398</td>\n",
       "    </tr>\n",
       "    <tr>\n",
       "      <th>2</th>\n",
       "      <td>15</td>\n",
       "      <td>275</td>\n",
       "    </tr>\n",
       "    <tr>\n",
       "      <th>3</th>\n",
       "      <td>37</td>\n",
       "      <td>7173</td>\n",
       "    </tr>\n",
       "    <tr>\n",
       "      <th>4</th>\n",
       "      <td>34</td>\n",
       "      <td>380</td>\n",
       "    </tr>\n",
       "  </tbody>\n",
       "</table>\n",
       "</div>"
      ],
      "text/plain": [
       "   user_id  book_id\n",
       "0        9        8\n",
       "1       15      398\n",
       "2       15      275\n",
       "3       37     7173\n",
       "4       34      380"
      ]
     },
     "execution_count": 5,
     "metadata": {},
     "output_type": "execute_result"
    }
   ],
   "source": [
    "df_to_read =  pd.read_csv(\"D:/hp/Documents/CDS513/Assignment/goodbooks-10k-master/to_read.csv\", na_values=[' ', ''])\n",
    "df_to_read.head()"
   ]
  },
  {
   "cell_type": "markdown",
   "metadata": {},
   "source": [
    "## Book Tags Dataset"
   ]
  },
  {
   "cell_type": "code",
   "execution_count": 6,
   "metadata": {},
   "outputs": [
    {
     "data": {
      "text/html": [
       "<div>\n",
       "<style scoped>\n",
       "    .dataframe tbody tr th:only-of-type {\n",
       "        vertical-align: middle;\n",
       "    }\n",
       "\n",
       "    .dataframe tbody tr th {\n",
       "        vertical-align: top;\n",
       "    }\n",
       "\n",
       "    .dataframe thead th {\n",
       "        text-align: right;\n",
       "    }\n",
       "</style>\n",
       "<table border=\"1\" class=\"dataframe\">\n",
       "  <thead>\n",
       "    <tr style=\"text-align: right;\">\n",
       "      <th></th>\n",
       "      <th>goodreads_book_id</th>\n",
       "      <th>tag_id</th>\n",
       "      <th>count</th>\n",
       "    </tr>\n",
       "  </thead>\n",
       "  <tbody>\n",
       "    <tr>\n",
       "      <th>0</th>\n",
       "      <td>1</td>\n",
       "      <td>30574</td>\n",
       "      <td>167697</td>\n",
       "    </tr>\n",
       "    <tr>\n",
       "      <th>1</th>\n",
       "      <td>1</td>\n",
       "      <td>11305</td>\n",
       "      <td>37174</td>\n",
       "    </tr>\n",
       "    <tr>\n",
       "      <th>2</th>\n",
       "      <td>1</td>\n",
       "      <td>11557</td>\n",
       "      <td>34173</td>\n",
       "    </tr>\n",
       "    <tr>\n",
       "      <th>3</th>\n",
       "      <td>1</td>\n",
       "      <td>8717</td>\n",
       "      <td>12986</td>\n",
       "    </tr>\n",
       "    <tr>\n",
       "      <th>4</th>\n",
       "      <td>1</td>\n",
       "      <td>33114</td>\n",
       "      <td>12716</td>\n",
       "    </tr>\n",
       "  </tbody>\n",
       "</table>\n",
       "</div>"
      ],
      "text/plain": [
       "   goodreads_book_id  tag_id   count\n",
       "0                  1   30574  167697\n",
       "1                  1   11305   37174\n",
       "2                  1   11557   34173\n",
       "3                  1    8717   12986\n",
       "4                  1   33114   12716"
      ]
     },
     "execution_count": 6,
     "metadata": {},
     "output_type": "execute_result"
    }
   ],
   "source": [
    "df_book_tags =  pd.read_csv(\"D:/hp/Documents/CDS513/Assignment/goodbooks-10k-master/book_tags.csv\", na_values=[' ', ''])\n",
    "df_book_tags.head()"
   ]
  },
  {
   "cell_type": "markdown",
   "metadata": {},
   "source": [
    "## Entity Relationship Diagram"
   ]
  },
  {
   "cell_type": "markdown",
   "metadata": {},
   "source": [
    "In order to view the relationship between each table, an entity relationship diagram is being drawn. "
   ]
  },
  {
   "cell_type": "markdown",
   "metadata": {},
   "source": [
    "![img](ERD.png)"
   ]
  },
  {
   "cell_type": "markdown",
   "metadata": {},
   "source": [
    "## Dataset Merging"
   ]
  },
  {
   "cell_type": "code",
   "execution_count": 7,
   "metadata": {},
   "outputs": [
    {
     "data": {
      "text/html": [
       "<div>\n",
       "<style scoped>\n",
       "    .dataframe tbody tr th:only-of-type {\n",
       "        vertical-align: middle;\n",
       "    }\n",
       "\n",
       "    .dataframe tbody tr th {\n",
       "        vertical-align: top;\n",
       "    }\n",
       "\n",
       "    .dataframe thead th {\n",
       "        text-align: right;\n",
       "    }\n",
       "</style>\n",
       "<table border=\"1\" class=\"dataframe\">\n",
       "  <thead>\n",
       "    <tr style=\"text-align: right;\">\n",
       "      <th></th>\n",
       "      <th>goodreads_book_id</th>\n",
       "      <th>tag_id</th>\n",
       "      <th>count</th>\n",
       "      <th>tag_name</th>\n",
       "    </tr>\n",
       "  </thead>\n",
       "  <tbody>\n",
       "    <tr>\n",
       "      <th>0</th>\n",
       "      <td>1</td>\n",
       "      <td>30574</td>\n",
       "      <td>167697</td>\n",
       "      <td>to-read</td>\n",
       "    </tr>\n",
       "    <tr>\n",
       "      <th>1</th>\n",
       "      <td>1</td>\n",
       "      <td>11305</td>\n",
       "      <td>37174</td>\n",
       "      <td>fantasy</td>\n",
       "    </tr>\n",
       "    <tr>\n",
       "      <th>2</th>\n",
       "      <td>1</td>\n",
       "      <td>11557</td>\n",
       "      <td>34173</td>\n",
       "      <td>favorites</td>\n",
       "    </tr>\n",
       "    <tr>\n",
       "      <th>3</th>\n",
       "      <td>1</td>\n",
       "      <td>8717</td>\n",
       "      <td>12986</td>\n",
       "      <td>currently-reading</td>\n",
       "    </tr>\n",
       "    <tr>\n",
       "      <th>4</th>\n",
       "      <td>1</td>\n",
       "      <td>33114</td>\n",
       "      <td>12716</td>\n",
       "      <td>young-adult</td>\n",
       "    </tr>\n",
       "  </tbody>\n",
       "</table>\n",
       "</div>"
      ],
      "text/plain": [
       "   goodreads_book_id  tag_id   count           tag_name\n",
       "0                  1   30574  167697            to-read\n",
       "1                  1   11305   37174            fantasy\n",
       "2                  1   11557   34173          favorites\n",
       "3                  1    8717   12986  currently-reading\n",
       "4                  1   33114   12716        young-adult"
      ]
     },
     "execution_count": 7,
     "metadata": {},
     "output_type": "execute_result"
    }
   ],
   "source": [
    "# Merges the `df_book_tags` and `df_tags` DataFrames based on the 'tag_id' column.\n",
    "# This combines the book IDs with their corresponding tag names.\n",
    "df_book_tags_merged = pd.merge(df_book_tags, df_tags, how = 'left', left_on = 'tag_id'\n",
    "                               , right_on = 'tag_id')\n",
    "df_book_tags_merged.head()"
   ]
  },
  {
   "cell_type": "code",
   "execution_count": 8,
   "metadata": {},
   "outputs": [
    {
     "name": "stdout",
     "output_type": "stream",
     "text": [
      "Null values in Book Tags Merged DataFrame: \n",
      " goodreads_book_id    0\n",
      "tag_id               0\n",
      "count                0\n",
      "tag_name             0\n",
      "dtype: int64\n"
     ]
    }
   ],
   "source": [
    "# Checks for null values in the merged DataFrame and prints the results.\n",
    "print(\"Null values in Book Tags Merged DataFrame: \\n\", df_book_tags_merged.isnull().sum())"
   ]
  },
  {
   "cell_type": "markdown",
   "metadata": {},
   "source": [
    "# Data Cleaning"
   ]
  },
  {
   "cell_type": "code",
   "execution_count": 9,
   "metadata": {},
   "outputs": [
    {
     "name": "stdout",
     "output_type": "stream",
     "text": [
      "Books DataFrame shape    :  (10000, 23)\n",
      "Tags DataFrame shape     :  (34252, 2)\n",
      "Ratings DataFrame shape  :  (5976479, 3)\n",
      "To Read DataFrame shape  :  (912705, 2)\n",
      "Book Tags DataFrame shape:  (999912, 3)\n"
     ]
    }
   ],
   "source": [
    "# Prints the shape (number of rows and columns) of each DataFrame.\n",
    "print(\"Books DataFrame shape    : \", df_books.shape)\n",
    "print(\"Tags DataFrame shape     : \", df_tags.shape)\n",
    "print(\"Ratings DataFrame shape  : \", df_ratings.shape)\n",
    "print(\"To Read DataFrame shape  : \", df_to_read.shape)\n",
    "print(\"Book Tags DataFrame shape: \", df_book_tags.shape)"
   ]
  },
  {
   "cell_type": "code",
   "execution_count": 10,
   "metadata": {},
   "outputs": [
    {
     "name": "stdout",
     "output_type": "stream",
     "text": [
      "Number of unique users in df_ratings: 53424\n"
     ]
    }
   ],
   "source": [
    "unique_users = df_ratings['user_id'].nunique()\n",
    "print(f\"Number of unique users in df_ratings: {unique_users}\")"
   ]
  },
  {
   "cell_type": "markdown",
   "metadata": {},
   "source": [
    "## Missing Value Handling"
   ]
  },
  {
   "cell_type": "code",
   "execution_count": 11,
   "metadata": {},
   "outputs": [
    {
     "name": "stdout",
     "output_type": "stream",
     "text": [
      "Null values in Books DataFrame:  2980\n",
      "Null values in Tags DataFrame:  0\n",
      "Null values in Ratings DataFrame:  0\n",
      "Null values in To Read DataFrame:  0\n",
      "Null values in Book Tags DataFrame:  0\n"
     ]
    }
   ],
   "source": [
    "# Prints the total number of null values in each DataFrame\n",
    "print(\"Null values in Books DataFrame: \", df_books.isnull().sum().sum())\n",
    "print(\"Null values in Tags DataFrame: \", df_tags.isnull().sum().sum())\n",
    "print(\"Null values in Ratings DataFrame: \", df_ratings.isnull().sum().sum())\n",
    "print(\"Null values in To Read DataFrame: \", df_to_read.isnull().sum().sum())\n",
    "print(\"Null values in Book Tags DataFrame: \", df_book_tags.isnull().sum().sum())"
   ]
  },
  {
   "cell_type": "code",
   "execution_count": 12,
   "metadata": {},
   "outputs": [
    {
     "name": "stdout",
     "output_type": "stream",
     "text": [
      "isbn                          700\n",
      "isbn13                        585\n",
      "original_publication_year      21\n",
      "original_title                590\n",
      "language_code                1084\n",
      "dtype: int64\n"
     ]
    }
   ],
   "source": [
    "# Check for null values in each attribute of the df_books DataFrame\n",
    "null_values = df_books.isnull().sum()\n",
    "print(null_values[null_values > 0])"
   ]
  },
  {
   "cell_type": "code",
   "execution_count": 13,
   "metadata": {
    "vscode": {
     "languageId": "powershell"
    }
   },
   "outputs": [
    {
     "name": "stdout",
     "output_type": "stream",
     "text": [
      "9410\n"
     ]
    }
   ],
   "source": [
    "# Remove NULL values from the 'original_title' column in the DataFrame\n",
    "df_books = df_books[df_books['original_title'].notnull()]\n",
    "print(len(df_books))"
   ]
  },
  {
   "cell_type": "markdown",
   "metadata": {},
   "source": [
    "## Remove Non-Unique original_title Features in Books Dataset"
   ]
  },
  {
   "cell_type": "code",
   "execution_count": 14,
   "metadata": {},
   "outputs": [
    {
     "name": "stdout",
     "output_type": "stream",
     "text": [
      "Number of duplicated original_title in df_books: 259\n"
     ]
    }
   ],
   "source": [
    "# Check duplicated values in the df_books DataFrame\n",
    "num_duplicated_original_titles = df_books['original_title'].duplicated(keep=False).sum()\n",
    "print(f\"Number of duplicated original_title in df_books: {num_duplicated_original_titles}\")"
   ]
  },
  {
   "cell_type": "code",
   "execution_count": 15,
   "metadata": {},
   "outputs": [
    {
     "name": "stdout",
     "output_type": "stream",
     "text": [
      "9151\n"
     ]
    }
   ],
   "source": [
    "# Removes duplicate entries of the \"original_title\" from the Books DataFrame.\n",
    "df_books = df_books[df_books['original_title'].duplicated(keep=False) == False]\n",
    "print(len(df_books))"
   ]
  },
  {
   "cell_type": "markdown",
   "metadata": {},
   "source": [
    "## Remove Books_id that Unexist in Books Dataframe from Each Dataframe"
   ]
  },
  {
   "cell_type": "markdown",
   "metadata": {},
   "source": [
    "### df_book_tags_merged Dataframe"
   ]
  },
  {
   "cell_type": "code",
   "execution_count": 16,
   "metadata": {},
   "outputs": [
    {
     "name": "stdout",
     "output_type": "stream",
     "text": [
      "999912\n"
     ]
    }
   ],
   "source": [
    "print(len(df_book_tags_merged))"
   ]
  },
  {
   "cell_type": "code",
   "execution_count": null,
   "metadata": {},
   "outputs": [
    {
     "name": "stdout",
     "output_type": "stream",
     "text": [
      "Number of rows in df_book_tags with goodreads_book_id not in df_books: 84850\n"
     ]
    }
   ],
   "source": [
    "# Find rows in df_book_tags where goodreads_book_id does not exist in df_books\n",
    "missing_goodreads_ids = ~df_book_tags_merged['goodreads_book_id'].isin(df_books['goodreads_book_id'])\n",
    "missing_count = missing_goodreads_ids.sum()\n",
    "\n",
    "print(f\"Number of rows in df_book_tags with goodreads_book_id not in df_books: {missing_count}\")"
   ]
  },
  {
   "cell_type": "code",
   "execution_count": 18,
   "metadata": {},
   "outputs": [
    {
     "name": "stdout",
     "output_type": "stream",
     "text": [
      "915062\n"
     ]
    }
   ],
   "source": [
    "df_book_tags_merged = df_book_tags_merged[df_book_tags_merged['goodreads_book_id'].isin(df_books['goodreads_book_id'])]\n",
    "print(len(df_book_tags_merged))"
   ]
  },
  {
   "cell_type": "markdown",
   "metadata": {},
   "source": [
    "### df_ratings Dataframe"
   ]
  },
  {
   "cell_type": "code",
   "execution_count": 19,
   "metadata": {},
   "outputs": [
    {
     "data": {
      "text/plain": [
       "5976479"
      ]
     },
     "execution_count": 19,
     "metadata": {},
     "output_type": "execute_result"
    }
   ],
   "source": [
    "len(df_ratings)"
   ]
  },
  {
   "cell_type": "code",
   "execution_count": 20,
   "metadata": {},
   "outputs": [
    {
     "name": "stdout",
     "output_type": "stream",
     "text": [
      "Number of rows in df_ratings with book_id not in df_books: 5849150\n"
     ]
    }
   ],
   "source": [
    "# Find rows in df_ratings where book_id (work_id) does not exist in df_books\n",
    "missing_book_ids = ~df_ratings['book_id'].isin(df_books['work_id'])\n",
    "missing_count = missing_book_ids.sum()\n",
    "\n",
    "print(f\"Number of rows in df_ratings with book_id not in df_books: {missing_count}\")"
   ]
  },
  {
   "cell_type": "code",
   "execution_count": 21,
   "metadata": {},
   "outputs": [
    {
     "name": "stdout",
     "output_type": "stream",
     "text": [
      "127329\n"
     ]
    }
   ],
   "source": [
    "df_ratings  = df_ratings[df_ratings['book_id'].isin(df_books['work_id'])]\n",
    "print(len(df_ratings))"
   ]
  },
  {
   "cell_type": "markdown",
   "metadata": {},
   "source": [
    "## Drop Unrelated Attributes for Books Dataframe"
   ]
  },
  {
   "cell_type": "code",
   "execution_count": 22,
   "metadata": {},
   "outputs": [
    {
     "data": {
      "text/html": [
       "<div>\n",
       "<style scoped>\n",
       "    .dataframe tbody tr th:only-of-type {\n",
       "        vertical-align: middle;\n",
       "    }\n",
       "\n",
       "    .dataframe tbody tr th {\n",
       "        vertical-align: top;\n",
       "    }\n",
       "\n",
       "    .dataframe thead th {\n",
       "        text-align: right;\n",
       "    }\n",
       "</style>\n",
       "<table border=\"1\" class=\"dataframe\">\n",
       "  <thead>\n",
       "    <tr style=\"text-align: right;\">\n",
       "      <th></th>\n",
       "      <th>book_id</th>\n",
       "      <th>original_title</th>\n",
       "      <th>title</th>\n",
       "      <th>authors</th>\n",
       "      <th>image_url</th>\n",
       "      <th>average_rating</th>\n",
       "    </tr>\n",
       "  </thead>\n",
       "  <tbody>\n",
       "    <tr>\n",
       "      <th>0</th>\n",
       "      <td>2792775</td>\n",
       "      <td>The Hunger Games</td>\n",
       "      <td>The Hunger Games (The Hunger Games, #1)</td>\n",
       "      <td>Suzanne Collins</td>\n",
       "      <td>https://images.gr-assets.com/books/1447303603m...</td>\n",
       "      <td>4.34</td>\n",
       "    </tr>\n",
       "    <tr>\n",
       "      <th>1</th>\n",
       "      <td>4640799</td>\n",
       "      <td>Harry Potter and the Philosopher's Stone</td>\n",
       "      <td>Harry Potter and the Sorcerer's Stone (Harry P...</td>\n",
       "      <td>J.K. Rowling, Mary GrandPré</td>\n",
       "      <td>https://images.gr-assets.com/books/1474154022m...</td>\n",
       "      <td>4.44</td>\n",
       "    </tr>\n",
       "    <tr>\n",
       "      <th>3</th>\n",
       "      <td>3275794</td>\n",
       "      <td>To Kill a Mockingbird</td>\n",
       "      <td>To Kill a Mockingbird</td>\n",
       "      <td>Harper Lee</td>\n",
       "      <td>https://images.gr-assets.com/books/1361975680m...</td>\n",
       "      <td>4.25</td>\n",
       "    </tr>\n",
       "    <tr>\n",
       "      <th>4</th>\n",
       "      <td>245494</td>\n",
       "      <td>The Great Gatsby</td>\n",
       "      <td>The Great Gatsby</td>\n",
       "      <td>F. Scott Fitzgerald</td>\n",
       "      <td>https://images.gr-assets.com/books/1490528560m...</td>\n",
       "      <td>3.89</td>\n",
       "    </tr>\n",
       "    <tr>\n",
       "      <th>5</th>\n",
       "      <td>16827462</td>\n",
       "      <td>The Fault in Our Stars</td>\n",
       "      <td>The Fault in Our Stars</td>\n",
       "      <td>John Green</td>\n",
       "      <td>https://images.gr-assets.com/books/1360206420m...</td>\n",
       "      <td>4.26</td>\n",
       "    </tr>\n",
       "  </tbody>\n",
       "</table>\n",
       "</div>"
      ],
      "text/plain": [
       "    book_id                            original_title  \\\n",
       "0   2792775                          The Hunger Games   \n",
       "1   4640799  Harry Potter and the Philosopher's Stone   \n",
       "3   3275794                     To Kill a Mockingbird   \n",
       "4    245494                          The Great Gatsby   \n",
       "5  16827462                    The Fault in Our Stars   \n",
       "\n",
       "                                               title  \\\n",
       "0            The Hunger Games (The Hunger Games, #1)   \n",
       "1  Harry Potter and the Sorcerer's Stone (Harry P...   \n",
       "3                              To Kill a Mockingbird   \n",
       "4                                   The Great Gatsby   \n",
       "5                             The Fault in Our Stars   \n",
       "\n",
       "                       authors  \\\n",
       "0              Suzanne Collins   \n",
       "1  J.K. Rowling, Mary GrandPré   \n",
       "3                   Harper Lee   \n",
       "4          F. Scott Fitzgerald   \n",
       "5                   John Green   \n",
       "\n",
       "                                           image_url  average_rating  \n",
       "0  https://images.gr-assets.com/books/1447303603m...            4.34  \n",
       "1  https://images.gr-assets.com/books/1474154022m...            4.44  \n",
       "3  https://images.gr-assets.com/books/1361975680m...            4.25  \n",
       "4  https://images.gr-assets.com/books/1490528560m...            3.89  \n",
       "5  https://images.gr-assets.com/books/1360206420m...            4.26  "
      ]
     },
     "execution_count": 22,
     "metadata": {},
     "output_type": "execute_result"
    }
   ],
   "source": [
    "# Select specific columns to keep in df_books\n",
    "columns_to_keep = ['work_id', 'original_title', 'title', 'authors', 'image_url', 'average_rating']\n",
    "df_books = df_books[columns_to_keep]\n",
    "df_books.rename(columns={'work_id': 'book_id'}, inplace=True)\n",
    "\n",
    "# Display the first few rows of the updated DataFrame\n",
    "df_books.head()"
   ]
  },
  {
   "cell_type": "markdown",
   "metadata": {},
   "source": [
    "# Exploratory Data Analysis"
   ]
  },
  {
   "cell_type": "markdown",
   "metadata": {},
   "source": [
    "## Books Dataset"
   ]
  },
  {
   "cell_type": "code",
   "execution_count": 23,
   "metadata": {},
   "outputs": [
    {
     "data": {
      "text/plain": [
       "book_id             int64\n",
       "original_title     object\n",
       "title              object\n",
       "authors            object\n",
       "image_url          object\n",
       "average_rating    float64\n",
       "dtype: object"
      ]
     },
     "execution_count": 23,
     "metadata": {},
     "output_type": "execute_result"
    }
   ],
   "source": [
    "# Displays the data types of each column in the Books DataFrame.\n",
    "df_books.dtypes"
   ]
  },
  {
   "cell_type": "code",
   "execution_count": 24,
   "metadata": {},
   "outputs": [],
   "source": [
    "# Converts specific columns in the Books DataFrame to string type.\n",
    "df_books['title']           = df_books['title'].astype('str')\n",
    "df_books['authors']         = df_books['authors'].astype('str')\n",
    "df_books['image_url']       = df_books['image_url'].astype('str')\n",
    "df_books['original_title']  = df_books['original_title'].astype('str')"
   ]
  },
  {
   "cell_type": "code",
   "execution_count": 25,
   "metadata": {},
   "outputs": [
    {
     "name": "stdout",
     "output_type": "stream",
     "text": [
      "The number of values for feature book_id :9151\n",
      "The number of values for feature original_title :9151\n",
      "The number of values for feature title :9137\n",
      "The number of values for feature authors :4353\n",
      "The number of values for feature image_url :6024\n",
      "The number of values for feature average_rating :182\n"
     ]
    }
   ],
   "source": [
    "# Iterates through each column of the Books DataFrame and prints the number of unique values.\n",
    "for column in df_books:\n",
    "  unique_vals = np.unique(df_books[column])\n",
    "  nr_values = len(unique_vals)\n",
    "  if nr_values < 36:\n",
    "    print('The number of values for feature {} :{} -- {}'.format(column, nr_values, unique_vals))\n",
    "  else:\n",
    "    print('The number of values for feature {} :{}'.format(column, nr_values))"
   ]
  },
  {
   "cell_type": "markdown",
   "metadata": {},
   "source": [
    "### Distribution of Average Rating"
   ]
  },
  {
   "cell_type": "code",
   "execution_count": 26,
   "metadata": {},
   "outputs": [
    {
     "data": {
      "image/png": "[encoded data removed]",
      "text/plain": [
       "<Figure size 300x300 with 1 Axes>"
      ]
     },
     "metadata": {},
     "output_type": "display_data"
    }
   ],
   "source": [
    "plt.figure(figsize=(3, 3))\n",
    "sns.histplot(data = df_books, x='average_rating', bins=5, color='#bae1ff') \n",
    "plt.title(\"Distribution of Average Rating\")\n",
    "plt.xlabel(\"Average Rating\")\n",
    "plt.grid(True, linestyle='--', alpha=0.5)\n",
    "plt.show()"
   ]
  },
  {
   "cell_type": "markdown",
   "metadata": {},
   "source": [
    "## Ratings Dataset"
   ]
  },
  {
   "cell_type": "code",
   "execution_count": 27,
   "metadata": {},
   "outputs": [
    {
     "data": {
      "text/plain": [
       "user_id    int64\n",
       "book_id    int64\n",
       "rating     int64\n",
       "dtype: object"
      ]
     },
     "execution_count": 27,
     "metadata": {},
     "output_type": "execute_result"
    }
   ],
   "source": [
    "# Displays the data types of each column in the Ratings DataFrame.\n",
    "df_ratings.dtypes"
   ]
  },
  {
   "cell_type": "code",
   "execution_count": 28,
   "metadata": {},
   "outputs": [
    {
     "name": "stdout",
     "output_type": "stream",
     "text": [
      "The number of values for feature user_id :48277\n",
      "The number of values for feature book_id :167\n",
      "The number of values for feature rating :5 -- [1 2 3 4 5]\n"
     ]
    }
   ],
   "source": [
    "# Iterates through each column of the Ratings DataFrame and prints the number of unique values.\n",
    "for column in df_ratings:\n",
    "  unique_vals = np.unique(df_ratings[column])\n",
    "  nr_values = len(unique_vals)\n",
    "  if nr_values < 36:\n",
    "    print('The number of values for feature {} :{} -- {}'.format(column, nr_values, unique_vals))\n",
    "  else:\n",
    "    print('The number of values for feature {} :{}'.format(column, nr_values))"
   ]
  },
  {
   "cell_type": "markdown",
   "metadata": {},
   "source": [
    "### Distribution of Ratings"
   ]
  },
  {
   "cell_type": "code",
   "execution_count": 29,
   "metadata": {},
   "outputs": [
    {
     "data": {
      "image/png": "[encoded data removed]",
      "text/plain": [
       "<Figure size 300x300 with 1 Axes>"
      ]
     },
     "metadata": {},
     "output_type": "display_data"
    }
   ],
   "source": [
    "plt.figure(figsize=(3, 3))\n",
    "sns.histplot(df_ratings['rating'], bins=5, color=\"#bae1ff\")\n",
    "plt.title('Distribution of Ratings')\n",
    "plt.xlabel('Rating')\n",
    "plt.ylabel('Frequency')\n",
    "plt.grid(True, linestyle='--', alpha=0.5)\n",
    "plt.show()"
   ]
  },
  {
   "cell_type": "markdown",
   "metadata": {},
   "source": [
    "### Correlation Matrix"
   ]
  },
  {
   "cell_type": "code",
   "execution_count": 30,
   "metadata": {},
   "outputs": [
    {
     "data": {
      "image/png": "[encoded data removed]",
      "text/plain": [
       "<Figure size 300x200 with 2 Axes>"
      ]
     },
     "metadata": {},
     "output_type": "display_data"
    }
   ],
   "source": [
    "numerical_cols_ratings = df_ratings.select_dtypes(include=np.number).columns\n",
    "plt.figure(figsize=(3, 2))\n",
    "sns.heatmap(df_ratings[numerical_cols_ratings].corr(), annot=True, cmap='Purples')\n",
    "plt.title('Correlation Matrix for Ratings Dataset')\n",
    "plt.show()"
   ]
  },
  {
   "cell_type": "markdown",
   "metadata": {},
   "source": [
    "## Book Tags (Merged) Dataset"
   ]
  },
  {
   "cell_type": "code",
   "execution_count": 31,
   "metadata": {},
   "outputs": [
    {
     "data": {
      "text/plain": [
       "goodreads_book_id     int64\n",
       "tag_id                int64\n",
       "count                 int64\n",
       "tag_name             object\n",
       "dtype: object"
      ]
     },
     "execution_count": 31,
     "metadata": {},
     "output_type": "execute_result"
    }
   ],
   "source": [
    "# Displays the data types of each column in the Book Tags Merged DataFrame.\n",
    "df_book_tags_merged.dtypes"
   ]
  },
  {
   "cell_type": "code",
   "execution_count": 32,
   "metadata": {},
   "outputs": [
    {
     "name": "stdout",
     "output_type": "stream",
     "text": [
      "The number of values for feature goodreads_book_id :9151\n",
      "The number of values for feature tag_id :32017\n",
      "The number of values for feature count :8970\n",
      "The number of values for feature tag_name :32017\n"
     ]
    }
   ],
   "source": [
    "# Iterates through each column of the Book Tags Merged DataFrame and prints the number of unique values.\n",
    "for column in df_book_tags_merged:\n",
    "  unique_vals = np.unique(df_book_tags_merged[column])\n",
    "  nr_values = len(unique_vals)\n",
    "  if nr_values < 36:\n",
    "    print('The number of values for feature {} :{} -- {}'.format(column, nr_values, unique_vals))\n",
    "  else:\n",
    "    print('The number of values for feature {} :{}'.format(column, nr_values))"
   ]
  },
  {
   "cell_type": "markdown",
   "metadata": {},
   "source": [
    "### Top 10 Most Frequent Tags"
   ]
  },
  {
   "cell_type": "code",
   "execution_count": 33,
   "metadata": {},
   "outputs": [
    {
     "data": {
      "image/png": "[encoded data removed]",
      "text/plain": [
       "<Figure size 500x300 with 1 Axes>"
      ]
     },
     "metadata": {},
     "output_type": "display_data"
    }
   ],
   "source": [
    "top_10_tags = df_book_tags_merged['tag_name'].value_counts().head(10)\n",
    "\n",
    "plt.figure(figsize=(5, 3))\n",
    "sns.barplot(x=top_10_tags.index, y=top_10_tags.values, palette=\"pastel\", hue=top_10_tags.index)\n",
    "plt.title(\"Top 10 Most Frequent Tags\", fontsize=16)\n",
    "plt.xlabel(\"Tag Name\", fontsize=12)\n",
    "plt.ylabel(\"Frequency\", fontsize=12)\n",
    "plt.xticks(rotation=45, ha='right', fontsize=10)\n",
    "plt.tight_layout()\n",
    "plt.show()"
   ]
  },
  {
   "cell_type": "markdown",
   "metadata": {},
   "source": [
    "### Correlation Matrix"
   ]
  },
  {
   "cell_type": "code",
   "execution_count": 34,
   "metadata": {},
   "outputs": [
    {
     "data": {
      "image/png": "[encoded data removed]",
      "text/plain": [
       "<Figure size 500x400 with 2 Axes>"
      ]
     },
     "metadata": {},
     "output_type": "display_data"
    }
   ],
   "source": [
    "numerical_cols_book_tags = df_book_tags_merged.select_dtypes(include=np.number).columns\n",
    "\n",
    "plt.figure(figsize=(5, 4))\n",
    "sns.heatmap(df_book_tags_merged[numerical_cols_book_tags].corr(), annot=True, cmap='Purples')\n",
    "plt.title('Correlation Matrix for Book Tags Dataset')\n",
    "plt.show()"
   ]
  },
  {
   "cell_type": "markdown",
   "metadata": {},
   "source": [
    "## Export Preprocessed Dataset"
   ]
  },
  {
   "cell_type": "code",
   "execution_count": 35,
   "metadata": {},
   "outputs": [],
   "source": [
    "df_books.to_csv(\"cleaned_books.csv\", index=False)\n",
    "df_ratings.to_csv(\"cleaned_ratings.csv\", index=False)"
   ]
  },
  {
   "cell_type": "markdown",
   "metadata": {},
   "source": [
    "# Collaborative Filtering"
   ]
  },
  {
   "cell_type": "code",
   "execution_count": 36,
   "metadata": {},
   "outputs": [],
   "source": [
    "df_books = pd.read_csv(\"cleaned_books.csv\")\n",
    "df_ratings = pd.read_csv(\"cleaned_ratings.csv\")"
   ]
  },
  {
   "cell_type": "markdown",
   "metadata": {},
   "source": [
    "## Item-to-Item"
   ]
  },
  {
   "cell_type": "code",
   "execution_count": 37,
   "metadata": {},
   "outputs": [],
   "source": [
    "# Due to the large size of the dataset and computational limit, \n",
    "# the data is being sampled for in-memory processing.\n",
    "def sampling(max_users=1000):\n",
    "    sampled_books = df_books\n",
    "    \n",
    "    # limit the ratings per book to max 1000\n",
    "    sampled_ratings = df_ratings[df_ratings[\"book_id\"].isin(sampled_books.index)]\n",
    "    sampled_ratings = (\n",
    "        sampled_ratings.groupby(\"book_id\")\n",
    "        .apply(lambda x: x.sample(min(max_users, len(x))))\n",
    "        .reset_index(drop=True)\n",
    "    )\n",
    "    return sampled_ratings, sampled_books"
   ]
  },
  {
   "cell_type": "code",
   "execution_count": 38,
   "metadata": {},
   "outputs": [],
   "source": [
    "# Call the sampling function to get the sampled data\n",
    "ratings_df, books_df = sampling()\n",
    "books_df = books_df.reset_index(drop=True)"
   ]
  },
  {
   "cell_type": "markdown",
   "metadata": {},
   "source": [
    "Provide suggestions if the book title user entered is not found in the dataframe using difflib.get_close_matches() which is used to find the best \"good enough\" matches for a given word from a list of possibilities. It is particularly useful for applications like spell checking or suggesting corrections."
   ]
  },
  {
   "cell_type": "code",
   "execution_count": 39,
   "metadata": {},
   "outputs": [],
   "source": [
    "# If the user enters a book title, this function will return the corresponding book ID.\n",
    "# If the book title is not found, it will suggest similar titles from the dataset.\n",
    "def get_book_id_item(book_title):\n",
    "    book_row = books_df[books_df['original_title'] == book_title]\n",
    "    \n",
    "    if not book_row.empty:\n",
    "        return book_row['book_id'].iloc[0]\n",
    "    else:\n",
    "        # Find closest matches\n",
    "        titles_lexicon = books_df['original_title'].dropna().unique()\n",
    "        suggestions = get_close_matches(book_title, titles_lexicon, n=5, cutoff=0.3)\n",
    "        \n",
    "        if suggestions:\n",
    "            print(f\"Book with title '{book_title}' not found. Did you mean:\")\n",
    "            \n",
    "            for suggestion in suggestions:\n",
    "                print(f\"- {suggestion}\")\n",
    "        else:\n",
    "            print(f\"No close matches found for '{book_title}'.\")\n",
    "        return None"
   ]
  },
  {
   "cell_type": "code",
   "execution_count": 40,
   "metadata": {},
   "outputs": [
    {
     "name": "stdout",
     "output_type": "stream",
     "text": [
      "Book  Light found\n",
      "Books Recommendation for book Light is:\n"
     ]
    }
   ],
   "source": [
    "# Prompt the user to enter a book title until a valid book ID is found.\n",
    "book_id = None\n",
    "index = None\n",
    "\n",
    "while True:\n",
    "    book_title = input(\"Enter the book name: \")\n",
    "    book_id = get_book_id_item(book_title)\n",
    "    # If a book_id is found, print confirmation and recommendations, then exit the loop.\n",
    "    if book_id is not None:\n",
    "        print(\"Book \", book_title, \"found\")\n",
    "        print(\"Books Recommendation for book\", book_title, \"is:\")\n",
    "        # Exit the loop if a valid book ID is found\n",
    "        break  \n",
    "    # If no book_id is found, prompt the user to try again.\n",
    "    else:\n",
    "        print(\"Book not found. Please try again.\")"
   ]
  },
  {
   "cell_type": "code",
   "execution_count": 41,
   "metadata": {},
   "outputs": [],
   "source": [
    "# Defines a function to calculate the weighted average rating for a group.\n",
    "def group_weighted_avg(group, weight_key):\n",
    "    weights = group[weight_key]\n",
    "    ratings = group[\"rating\"]\n",
    "    return np.average(ratings, weights=weights)\n",
    "\n",
    "# Defines a function to encode user_id and book_id into ordinal integers.\n",
    "def encoder(ratings_df):\n",
    "    user_encoder, book_encoder = OrdinalEncoder(), OrdinalEncoder()\n",
    "    \n",
    "    # Fit and transform user_id, reshape for encoder, convert to int, and reshape back.\n",
    "    ratings_df[\"user_id_encoded\"] = (user_encoder\n",
    "        .fit_transform(ratings_df.user_id.values.reshape((-1, 1)))\n",
    "        .astype(int)\n",
    "        .reshape(-1)\n",
    "    )\n",
    "    \n",
    "    # Fit and transform book_id, reshape for encoder, convert to int, and reshape back.\n",
    "    ratings_df[\"book_id_encoded\"] = (book_encoder\n",
    "        .fit_transform(ratings_df.book_id.values.reshape((-1, 1)))\n",
    "        .astype(int)\n",
    "        .reshape(-1)\n",
    "    )\n",
    "    return ratings_df, user_encoder, book_encoder\n",
    "\n",
    "# Defines a function to create a sparse user-item rating matrix.\n",
    "def sparse_matrix():\n",
    "    # Encode the user and book IDs in the global ratings_df.\n",
    "    ratings_enc_id, user_encoder, book_encoder = encoder(ratings_df)\n",
    "    \n",
    "    # Create the CSR matrix:\n",
    "    # - ratings_enc_id[\"rating\"] provides the data values.\n",
    "    # - (ratings_enc_id[\"user_id_encoded\"], ratings_enc_id[\"book_id_encoded\"]) provides the row and column indices.\n",
    "    X = csr_matrix(\n",
    "        (\n",
    "            ratings_enc_id[\"rating\"],\n",
    "            (ratings_enc_id[\"user_id_encoded\"], ratings_enc_id[\"book_id_encoded\"]),\n",
    "        )\n",
    "    )\n",
    "    return X, ratings_enc_id, user_encoder, book_encoder\n",
    "\n",
    "# Function to display images in a DataFrame\n",
    "def display_images(df, image_column):\n",
    "    # Create an HTML representation of the DataFrame with images\n",
    "    html = df.to_html(escape=False, formatters={\n",
    "        image_column: lambda url: f'<img src=\"{url}\" width=\"100\">'\n",
    "    })\n",
    "    display(HTML(html))"
   ]
  },
  {
   "cell_type": "code",
   "execution_count": 42,
   "metadata": {},
   "outputs": [],
   "source": [
    "# Call the sparse_matrix function to generate the sparse matrix and related objects.\n",
    "S, ratings_enc_id, user_encoder, book_encoder = sparse_matrix()"
   ]
  },
  {
   "cell_type": "code",
   "execution_count": 43,
   "metadata": {},
   "outputs": [
    {
     "data": {
      "text/html": [
       "<div>\n",
       "<style scoped>\n",
       "    .dataframe tbody tr th:only-of-type {\n",
       "        vertical-align: middle;\n",
       "    }\n",
       "\n",
       "    .dataframe tbody tr th {\n",
       "        vertical-align: top;\n",
       "    }\n",
       "\n",
       "    .dataframe thead th {\n",
       "        text-align: right;\n",
       "    }\n",
       "</style>\n",
       "<table border=\"1\" class=\"dataframe\">\n",
       "  <thead>\n",
       "    <tr style=\"text-align: right;\">\n",
       "      <th></th>\n",
       "      <th>user_id</th>\n",
       "      <th>book_id</th>\n",
       "      <th>rating</th>\n",
       "      <th>user_id_encoded</th>\n",
       "      <th>book_id_encoded</th>\n",
       "    </tr>\n",
       "  </thead>\n",
       "  <tbody>\n",
       "    <tr>\n",
       "      <th>0</th>\n",
       "      <td>22978</td>\n",
       "      <td>87</td>\n",
       "      <td>5</td>\n",
       "      <td>17835</td>\n",
       "      <td>0</td>\n",
       "    </tr>\n",
       "    <tr>\n",
       "      <th>1</th>\n",
       "      <td>8456</td>\n",
       "      <td>87</td>\n",
       "      <td>4</td>\n",
       "      <td>6580</td>\n",
       "      <td>0</td>\n",
       "    </tr>\n",
       "    <tr>\n",
       "      <th>2</th>\n",
       "      <td>28494</td>\n",
       "      <td>87</td>\n",
       "      <td>5</td>\n",
       "      <td>22271</td>\n",
       "      <td>0</td>\n",
       "    </tr>\n",
       "    <tr>\n",
       "      <th>3</th>\n",
       "      <td>37649</td>\n",
       "      <td>87</td>\n",
       "      <td>3</td>\n",
       "      <td>29459</td>\n",
       "      <td>0</td>\n",
       "    </tr>\n",
       "    <tr>\n",
       "      <th>4</th>\n",
       "      <td>12272</td>\n",
       "      <td>87</td>\n",
       "      <td>5</td>\n",
       "      <td>9518</td>\n",
       "      <td>0</td>\n",
       "    </tr>\n",
       "  </tbody>\n",
       "</table>\n",
       "</div>"
      ],
      "text/plain": [
       "   user_id  book_id  rating  user_id_encoded  book_id_encoded\n",
       "0    22978       87       5            17835                0\n",
       "1     8456       87       4             6580                0\n",
       "2    28494       87       5            22271                0\n",
       "3    37649       87       3            29459                0\n",
       "4    12272       87       5             9518                0"
      ]
     },
     "execution_count": 43,
     "metadata": {},
     "output_type": "execute_result"
    }
   ],
   "source": [
    "ratings_enc_id.head()"
   ]
  },
  {
   "cell_type": "code",
   "execution_count": 54,
   "metadata": {},
   "outputs": [
    {
     "name": "stdout",
     "output_type": "stream",
     "text": [
      "Number of unique book_id in df_ratings: 167\n"
     ]
    }
   ],
   "source": [
    "unique_book_ids = df_ratings['book_id'].nunique()\n",
    "print(f\"Number of unique book_id in df_ratings: {unique_book_ids}\")"
   ]
  },
  {
   "cell_type": "code",
   "execution_count": 55,
   "metadata": {},
   "outputs": [
    {
     "name": "stdout",
     "output_type": "stream",
     "text": [
      "Number of unique book_id in df_ratings: 9151\n"
     ]
    }
   ],
   "source": [
    "unique_book_ids = df_books['book_id'].nunique()\n",
    "print(f\"Number of unique book_id in df_ratings: {unique_book_ids}\")"
   ]
  },
  {
   "cell_type": "code",
   "execution_count": null,
   "metadata": {},
   "outputs": [],
   "source": [
    "# Defines a function to recommend items based on item-item similarity.\n",
    "def rcmd_item(ori_book_id, k = 5, similarity_threshold = 0.01, min_rating = 4):\n",
    "    # Get the encoded ID for the input original book ID.\n",
    "    book_id_encoded_series = ratings_enc_id.loc[ratings_enc_id['book_id'] == ori_book_id, 'book_id_encoded']    \n",
    "    book_id_enc = book_id_encoded_series.iloc[0]\n",
    "    \n",
    "    # Calculate cosine similarity between the target book's rating vector (transposed)\n",
    "    # and all other book rating vectors (transposed). S.T gives item vectors.\n",
    "    # S.T[book_id_enc] selects the target item's vector.\n",
    "    V = cosine_similarity(S.T[book_id_enc], S.T)[0]\n",
    "\n",
    "    # Print title of input book\n",
    "    title = books_df.loc[books_df['book_id'] == ori_book_id, 'original_title'].iloc[0]\n",
    "    print(title)\n",
    "\n",
    "    # Find the K most similar books.\n",
    "    similar_indices = np.argsort(V)[::-1]\n",
    "    k_similar = [\n",
    "        i for i in similar_indices \n",
    "        if V[i] > similarity_threshold and i != book_id_enc\n",
    "    ]\n",
    "    \n",
    "    book_id_map = ratings_enc_id[['book_id', 'book_id_encoded']].drop_duplicates().set_index('book_id_encoded')['book_id']\n",
    "    k_similar_original = book_id_map.reindex(k_similar).dropna().astype(int).tolist()\n",
    "    similar_ratings_df = ratings_enc_id[ratings_enc_id['book_id'].isin(k_similar_original)].copy()\n",
    "    \n",
    "    book_id_encoded_map_rev = ratings_enc_id[['book_id', 'book_id_encoded']].drop_duplicates().set_index('book_id')['book_id_encoded']\n",
    "    similar_ratings_df['book_similarity'] = similar_ratings_df['book_id'].map(lambda id: V[book_id_encoded_map_rev.get(id, -1)] if book_id_encoded_map_rev.get(id, -1) != -1 else 0)\n",
    "    \n",
    "    predicted_ratings = similar_ratings_df.groupby(\"book_id\").apply(\n",
    "        func=lambda group: group_weighted_avg(group, \"book_similarity\")\n",
    "    )\n",
    "    \n",
    "    top_rated_similar = predicted_ratings[predicted_ratings >= min_rating].nlargest(k)\n",
    "    \n",
    "    rcmd = books_df[books_df['book_id'].isin(top_rated_similar.index)][\n",
    "        [\"book_id\", \"title\", \"authors\", \"average_rating\", \"image_url\"]\n",
    "        ].set_index('book_id').reindex(top_rated_similar.index)\n",
    "    \n",
    "    rcmd[\"predicted_rating\"] = top_rated_similar.round(decimals=2)\n",
    "    rcmd = rcmd.sort_values(by=\"predicted_rating\", ascending=False)\n",
    "    rcmd = rcmd.reset_index()\n",
    "\n",
    "    return rcmd"
   ]
  },
  {
   "cell_type": "code",
   "execution_count": 53,
   "metadata": {},
   "outputs": [
    {
     "name": "stdout",
     "output_type": "stream",
     "text": [
      "Book ID Encoded:  Series([], Name: book_id_encoded, dtype: int32)\n"
     ]
    },
    {
     "ename": "IndexError",
     "evalue": "single positional indexer is out-of-bounds",
     "output_type": "error",
     "traceback": [
      "\u001b[1;31m---------------------------------------------------------------------------\u001b[0m",
      "\u001b[1;31mIndexError\u001b[0m                                Traceback (most recent call last)",
      "Cell \u001b[1;32mIn[53], line 1\u001b[0m\n\u001b[1;32m----> 1\u001b[0m rcmd_i_i \u001b[38;5;241m=\u001b[39m \u001b[43mrcmd_item\u001b[49m\u001b[43m(\u001b[49m\u001b[43mbook_id\u001b[49m\u001b[43m)\u001b[49m\n\u001b[0;32m      2\u001b[0m display_images(rcmd_i_i, \u001b[38;5;124m'\u001b[39m\u001b[38;5;124mimage_url\u001b[39m\u001b[38;5;124m'\u001b[39m)\n",
      "Cell \u001b[1;32mIn[52], line 6\u001b[0m, in \u001b[0;36mrcmd_item\u001b[1;34m(ori_book_id, k, similarity_threshold, min_rating)\u001b[0m\n\u001b[0;32m      4\u001b[0m book_id_encoded_series \u001b[38;5;241m=\u001b[39m ratings_enc_id\u001b[38;5;241m.\u001b[39mloc[ratings_enc_id[\u001b[38;5;124m'\u001b[39m\u001b[38;5;124mbook_id\u001b[39m\u001b[38;5;124m'\u001b[39m] \u001b[38;5;241m==\u001b[39m ori_book_id, \u001b[38;5;124m'\u001b[39m\u001b[38;5;124mbook_id_encoded\u001b[39m\u001b[38;5;124m'\u001b[39m]    \n\u001b[0;32m      5\u001b[0m \u001b[38;5;28mprint\u001b[39m(\u001b[38;5;124m\"\u001b[39m\u001b[38;5;124mBook ID Encoded: \u001b[39m\u001b[38;5;124m\"\u001b[39m, book_id_encoded_series)\n\u001b[1;32m----> 6\u001b[0m book_id_enc \u001b[38;5;241m=\u001b[39m \u001b[43mbook_id_encoded_series\u001b[49m\u001b[38;5;241;43m.\u001b[39;49m\u001b[43miloc\u001b[49m\u001b[43m[\u001b[49m\u001b[38;5;241;43m0\u001b[39;49m\u001b[43m]\u001b[49m\n\u001b[0;32m      8\u001b[0m \u001b[38;5;66;03m# Calculate cosine similarity between the target book's rating vector (transposed)\u001b[39;00m\n\u001b[0;32m      9\u001b[0m \u001b[38;5;66;03m# and all other book rating vectors (transposed). S.T gives item vectors.\u001b[39;00m\n\u001b[0;32m     10\u001b[0m \u001b[38;5;66;03m# S.T[book_id_enc] selects the target item's vector.\u001b[39;00m\n\u001b[0;32m     11\u001b[0m V \u001b[38;5;241m=\u001b[39m cosine_similarity(S\u001b[38;5;241m.\u001b[39mT[book_id_enc], S\u001b[38;5;241m.\u001b[39mT)[\u001b[38;5;241m0\u001b[39m]\n",
      "File \u001b[1;32mc:\\Users\\hp\\AppData\\Local\\Programs\\Python\\Python38\\lib\\site-packages\\pandas\\core\\indexing.py:1103\u001b[0m, in \u001b[0;36m_LocationIndexer.__getitem__\u001b[1;34m(self, key)\u001b[0m\n\u001b[0;32m   1100\u001b[0m axis \u001b[38;5;241m=\u001b[39m \u001b[38;5;28mself\u001b[39m\u001b[38;5;241m.\u001b[39maxis \u001b[38;5;129;01mor\u001b[39;00m \u001b[38;5;241m0\u001b[39m\n\u001b[0;32m   1102\u001b[0m maybe_callable \u001b[38;5;241m=\u001b[39m com\u001b[38;5;241m.\u001b[39mapply_if_callable(key, \u001b[38;5;28mself\u001b[39m\u001b[38;5;241m.\u001b[39mobj)\n\u001b[1;32m-> 1103\u001b[0m \u001b[38;5;28;01mreturn\u001b[39;00m \u001b[38;5;28;43mself\u001b[39;49m\u001b[38;5;241;43m.\u001b[39;49m\u001b[43m_getitem_axis\u001b[49m\u001b[43m(\u001b[49m\u001b[43mmaybe_callable\u001b[49m\u001b[43m,\u001b[49m\u001b[43m \u001b[49m\u001b[43maxis\u001b[49m\u001b[38;5;241;43m=\u001b[39;49m\u001b[43maxis\u001b[49m\u001b[43m)\u001b[49m\n",
      "File \u001b[1;32mc:\\Users\\hp\\AppData\\Local\\Programs\\Python\\Python38\\lib\\site-packages\\pandas\\core\\indexing.py:1656\u001b[0m, in \u001b[0;36m_iLocIndexer._getitem_axis\u001b[1;34m(self, key, axis)\u001b[0m\n\u001b[0;32m   1653\u001b[0m     \u001b[38;5;28;01mraise\u001b[39;00m \u001b[38;5;167;01mTypeError\u001b[39;00m(\u001b[38;5;124m\"\u001b[39m\u001b[38;5;124mCannot index by location index with a non-integer key\u001b[39m\u001b[38;5;124m\"\u001b[39m)\n\u001b[0;32m   1655\u001b[0m \u001b[38;5;66;03m# validate the location\u001b[39;00m\n\u001b[1;32m-> 1656\u001b[0m \u001b[38;5;28;43mself\u001b[39;49m\u001b[38;5;241;43m.\u001b[39;49m\u001b[43m_validate_integer\u001b[49m\u001b[43m(\u001b[49m\u001b[43mkey\u001b[49m\u001b[43m,\u001b[49m\u001b[43m \u001b[49m\u001b[43maxis\u001b[49m\u001b[43m)\u001b[49m\n\u001b[0;32m   1658\u001b[0m \u001b[38;5;28;01mreturn\u001b[39;00m \u001b[38;5;28mself\u001b[39m\u001b[38;5;241m.\u001b[39mobj\u001b[38;5;241m.\u001b[39m_ixs(key, axis\u001b[38;5;241m=\u001b[39maxis)\n",
      "File \u001b[1;32mc:\\Users\\hp\\AppData\\Local\\Programs\\Python\\Python38\\lib\\site-packages\\pandas\\core\\indexing.py:1589\u001b[0m, in \u001b[0;36m_iLocIndexer._validate_integer\u001b[1;34m(self, key, axis)\u001b[0m\n\u001b[0;32m   1587\u001b[0m len_axis \u001b[38;5;241m=\u001b[39m \u001b[38;5;28mlen\u001b[39m(\u001b[38;5;28mself\u001b[39m\u001b[38;5;241m.\u001b[39mobj\u001b[38;5;241m.\u001b[39m_get_axis(axis))\n\u001b[0;32m   1588\u001b[0m \u001b[38;5;28;01mif\u001b[39;00m key \u001b[38;5;241m>\u001b[39m\u001b[38;5;241m=\u001b[39m len_axis \u001b[38;5;129;01mor\u001b[39;00m key \u001b[38;5;241m<\u001b[39m \u001b[38;5;241m-\u001b[39mlen_axis:\n\u001b[1;32m-> 1589\u001b[0m     \u001b[38;5;28;01mraise\u001b[39;00m \u001b[38;5;167;01mIndexError\u001b[39;00m(\u001b[38;5;124m\"\u001b[39m\u001b[38;5;124msingle positional indexer is out-of-bounds\u001b[39m\u001b[38;5;124m\"\u001b[39m)\n",
      "\u001b[1;31mIndexError\u001b[0m: single positional indexer is out-of-bounds"
     ]
    }
   ],
   "source": [
    "rcmd_i_i = rcmd_item(book_id)\n",
    "display_images(rcmd_i_i, 'image_url')"
   ]
  },
  {
   "cell_type": "markdown",
   "metadata": {},
   "source": [
    "# Content Based"
   ]
  },
  {
   "cell_type": "code",
   "execution_count": null,
   "metadata": {},
   "outputs": [],
   "source": [
    "df_books = pd.read_csv(\"cleaned_books.csv\")"
   ]
  },
  {
   "cell_type": "code",
   "execution_count": null,
   "metadata": {},
   "outputs": [],
   "source": [
    "# If the user enters a book title, this function will return the corresponding book ID.\n",
    "# If the book title is not found, it will suggest similar titles from the dataset.\n",
    "def get_book_id_cb(book_title):\n",
    "    book_row = df_books[df_books['original_title'] == book_title]\n",
    "    \n",
    "    if not book_row.empty:\n",
    "        return book_row['book_id'].iloc[0]\n",
    "    else:\n",
    "        # Find closest matches\n",
    "        titles_lexicon = df_books['original_title'].dropna().unique()\n",
    "        suggestions = get_close_matches(book_title, titles_lexicon, n=5, cutoff=0.3)\n",
    "        \n",
    "        if suggestions:\n",
    "            print(f\"Book with title '{book_title}' not found. Did you mean:\")\n",
    "            \n",
    "            for suggestion in suggestions:\n",
    "                print(f\"- {suggestion}\")\n",
    "        else:\n",
    "            print(f\"No close matches found for '{book_title}'.\")\n",
    "        return None"
   ]
  },
  {
   "cell_type": "code",
   "execution_count": null,
   "metadata": {},
   "outputs": [],
   "source": [
    "# Creates TF-IDF matrix from book titles and authors.\n",
    "def create_tfidf_matrix():\n",
    "    # Combine title and authors, handle potential NaNs\n",
    "    authors_title_df = df_books[['book_id', 'original_title', 'title', 'authors', 'average_rating', 'image_url']].copy()\n",
    "    authors_title_df['content'] = authors_title_df['original_title'].fillna('') + ' ' + authors_title_df['authors'].fillna('')\n",
    "    tfidf = TfidfVectorizer(stop_words='english')\n",
    "    tfidf_matrix = tfidf.fit_transform(authors_title_df['content'])\n",
    "    return tfidf_matrix, authors_title_df # Return df with 'content' column"
   ]
  },
  {
   "cell_type": "code",
   "execution_count": null,
   "metadata": {},
   "outputs": [],
   "source": [
    "def rcmd_content_based(ori_book_id, k=5):\n",
    "    title = df_books.loc[df_books['book_id'] == ori_book_id, 'original_title'].iloc[0]\n",
    "    print(title)\n",
    "    \n",
    "    # Get the index of the book that matches the ID\n",
    "    idx_series = df_books.index[df_books['book_id'] == ori_book_id]\n",
    "    idx = idx_series[0]\n",
    "\n",
    "    tfidf_matrix, authors_title_df = create_tfidf_matrix()\n",
    "    \n",
    "    v = cosine_similarity(tfidf_matrix, tfidf_matrix)\n",
    "    # Get the pairwise similarity scores of all books with that book\n",
    "    sim_scores = list(enumerate(v[idx]))\n",
    "\n",
    "    # Sort the books based on the similarity scores\n",
    "    sim_scores = sorted(sim_scores, key=lambda x: x[1], reverse=True)\n",
    "\n",
    "    # Get the scores of the k most similar books (excluding the book itself)\n",
    "    sim_scores = sim_scores[1:k+1]\n",
    "\n",
    "    # Get the book indices\n",
    "    book_indices = [i[0] for i in sim_scores]\n",
    "\n",
    "    # Get the similarity scores\n",
    "    similarity_values = [i[1] for i in sim_scores]\n",
    "\n",
    "    # Return the top k most similar books\n",
    "    rcmd = authors_title_df.iloc[book_indices][[\"book_id\", \"title\", \"authors\", \"average_rating\", \"image_url\"]].copy()\n",
    "    rcmd['similarity_score'] = similarity_values\n",
    "    rcmd = rcmd.reset_index(drop=True)\n",
    "\n",
    "    return rcmd"
   ]
  },
  {
   "cell_type": "code",
   "execution_count": null,
   "metadata": {},
   "outputs": [],
   "source": [
    "# Prompt the user to enter a book title until a valid book ID is found.\n",
    "book_id = None\n",
    "index = None\n",
    "\n",
    "while True:\n",
    "    book_title = input(\"Enter the book name: \")\n",
    "    book_id = get_book_id_cb(book_title)\n",
    "    # If a book_id is found, print confirmation and recommendations, then exit the loop.\n",
    "    if book_id is not None:\n",
    "        print(\"Book \", book_title, \"found\")\n",
    "        print(\"Books Recommendation for book\", book_title, \"is:\")\n",
    "        # Exit the loop if a valid book ID is found\n",
    "        break  \n",
    "    # If no book_id is found, prompt the user to try again.\n",
    "    else:\n",
    "        print(\"Book not found. Please try again.\")"
   ]
  },
  {
   "cell_type": "code",
   "execution_count": null,
   "metadata": {},
   "outputs": [],
   "source": [
    "rcmd_c_b = rcmd_content_based(book_id)"
   ]
  },
  {
   "cell_type": "code",
   "execution_count": null,
   "metadata": {},
   "outputs": [],
   "source": [
    "# Function to display images in a DataFrame\n",
    "def display_images(df, image_column):\n",
    "    # Create an HTML representation of the DataFrame with images\n",
    "    html = df.to_html(escape=False, formatters={\n",
    "        image_column: lambda url: f'<img src=\"{url}\" width=\"100\">'\n",
    "    })\n",
    "    display(HTML(html))\n",
    "\n",
    "# Display the DataFrame with images\n",
    "display_images(rcmd_c_b, 'image_url')"
   ]
  }
 ],
 "metadata": {
  "kernelspec": {
   "display_name": "Python 3",
   "language": "python",
   "name": "python3"
  },
  "language_info": {
   "codemirror_mode": {
    "name": "ipython",
    "version": 3
   },
   "file_extension": ".py",
   "mimetype": "text/x-python",
   "name": "python",
   "nbconvert_exporter": "python",
   "pygments_lexer": "ipython3",
   "version": "3.8.2"
  }
 },
 "nbformat": 4,
 "nbformat_minor": 2
}
