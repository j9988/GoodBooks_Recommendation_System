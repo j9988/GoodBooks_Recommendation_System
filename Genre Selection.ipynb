{
 "cells": [
  {
   "cell_type": "code",
   "execution_count": 1,
   "id": "76300499",
   "metadata": {},
   "outputs": [],
   "source": [
    "# import libraries\n",
    "import re\n",
    "import numpy as np\n",
    "import pandas as pd\n",
    "import seaborn as sns\n",
    "import requests\n",
    "import matplotlib.pyplot as plt\n",
    "from bs4 import BeautifulSoup\n",
    "from difflib import get_close_matches\n",
    "from scipy.sparse import csr_matrix\n",
    "from IPython.display import Image, display\n",
    "from IPython.core.display import HTML\n",
    "from sklearn.preprocessing import OrdinalEncoder\n",
    "from sklearn.metrics.pairwise import cosine_similarity\n",
    "from sklearn.feature_extraction.text import TfidfVectorizer"
   ]
  },
  {
   "cell_type": "code",
   "execution_count": 15,
   "id": "79a4bbbc",
   "metadata": {},
   "outputs": [],
   "source": [
    "df_book_tags =  pd.read_csv(\"D:/hp/Documents/CDS513/Assignment/goodbooks-10k-master/book_tags.csv\")\n",
    "df_tags =  pd.read_csv(\"D:/hp/Documents/CDS513/Assignment/goodbooks-10k-master/tags.csv\")\n",
    "df_books =  pd.read_csv(\"D:/hp/Documents/CDS513/Assignment/goodbooks-10k-master/books.csv\")\n",
    "df_books_cleaned =  pd.read_csv(\"cleaned_books.csv\")"
   ]
  },
  {
   "cell_type": "code",
   "execution_count": 4,
   "id": "1021793e",
   "metadata": {},
   "outputs": [],
   "source": [
    "# Defines a function to remove punctuation and numbers from a given text string.\n",
    "def remove_punctuation_numbers(text):\n",
    "  text = re.sub(r'[^\\w]', '', text)\n",
    "  text = re.sub(r'\\d+', '', text)\n",
    "  return text.lower()\n"
   ]
  },
  {
   "cell_type": "code",
   "execution_count": 7,
   "id": "ff29b79f",
   "metadata": {},
   "outputs": [],
   "source": [
    "df_book_tags_merged = pd.merge(df_book_tags, df_tags, how = 'left', left_on = 'tag_id'\n",
    "                               , right_on = 'tag_id')\n"
   ]
  },
  {
   "cell_type": "code",
   "execution_count": 8,
   "id": "640bfe5b",
   "metadata": {},
   "outputs": [],
   "source": [
    "# Applies the `remove_punctuation_numbers` function to the 'tag_name' column of the Book Tags Merged DataFrame.\n",
    "df_book_tags_merged['tag_name'] = df_book_tags_merged['tag_name'].apply(remove_punctuation_numbers)"
   ]
  },
  {
   "cell_type": "code",
   "execution_count": 9,
   "id": "3a337aa0",
   "metadata": {},
   "outputs": [
    {
     "data": {
      "text/html": [
       "<div>\n",
       "<style scoped>\n",
       "    .dataframe tbody tr th:only-of-type {\n",
       "        vertical-align: middle;\n",
       "    }\n",
       "\n",
       "    .dataframe tbody tr th {\n",
       "        vertical-align: top;\n",
       "    }\n",
       "\n",
       "    .dataframe thead th {\n",
       "        text-align: right;\n",
       "    }\n",
       "</style>\n",
       "<table border=\"1\" class=\"dataframe\">\n",
       "  <thead>\n",
       "    <tr style=\"text-align: right;\">\n",
       "      <th></th>\n",
       "      <th>goodreads_book_id</th>\n",
       "      <th>tag_id</th>\n",
       "      <th>count</th>\n",
       "      <th>tag_name</th>\n",
       "    </tr>\n",
       "  </thead>\n",
       "  <tbody>\n",
       "    <tr>\n",
       "      <th>0</th>\n",
       "      <td>1</td>\n",
       "      <td>30574</td>\n",
       "      <td>167697</td>\n",
       "      <td>toread</td>\n",
       "    </tr>\n",
       "    <tr>\n",
       "      <th>1</th>\n",
       "      <td>1</td>\n",
       "      <td>11305</td>\n",
       "      <td>37174</td>\n",
       "      <td>fantasy</td>\n",
       "    </tr>\n",
       "    <tr>\n",
       "      <th>2</th>\n",
       "      <td>1</td>\n",
       "      <td>11557</td>\n",
       "      <td>34173</td>\n",
       "      <td>favorites</td>\n",
       "    </tr>\n",
       "    <tr>\n",
       "      <th>3</th>\n",
       "      <td>1</td>\n",
       "      <td>8717</td>\n",
       "      <td>12986</td>\n",
       "      <td>currentlyreading</td>\n",
       "    </tr>\n",
       "    <tr>\n",
       "      <th>4</th>\n",
       "      <td>1</td>\n",
       "      <td>33114</td>\n",
       "      <td>12716</td>\n",
       "      <td>youngadult</td>\n",
       "    </tr>\n",
       "  </tbody>\n",
       "</table>\n",
       "</div>"
      ],
      "text/plain": [
       "   goodreads_book_id  tag_id   count          tag_name\n",
       "0                  1   30574  167697            toread\n",
       "1                  1   11305   37174           fantasy\n",
       "2                  1   11557   34173         favorites\n",
       "3                  1    8717   12986  currentlyreading\n",
       "4                  1   33114   12716        youngadult"
      ]
     },
     "execution_count": 9,
     "metadata": {},
     "output_type": "execute_result"
    }
   ],
   "source": [
    "df_book_tags_merged.head()"
   ]
  },
  {
   "cell_type": "code",
   "execution_count": 10,
   "id": "ca614930",
   "metadata": {},
   "outputs": [
    {
     "name": "stdout",
     "output_type": "stream",
     "text": [
      "['Art', 'Biography', 'Business', 'Chick Lit', \"Children's\", 'Christian', 'Classics', 'Comics', 'Contemporary', 'Cookbooks', 'Crime', 'Ebooks', 'Fantasy', 'Fiction', 'Gay and Lesbian', 'Graphic Novels', 'Historical Fiction', 'History', 'Horror', 'Humor and Comedy', 'Manga', 'Memoir', 'Music', 'Mystery', 'Nonfiction', 'Paranormal', 'Philosophy', 'Poetry', 'Psychology', 'Religion', 'Romance', 'Science', 'Science Fiction', 'Self Help', 'Suspense', 'Spirituality', 'Sports', 'Thriller', 'Travel', 'Young Adult']\n"
     ]
    }
   ],
   "source": [
    "# Retrieve common genres from https://www.goodreads.com/genres?ref=nav_brws_genres\n",
    "url = \"https://www.goodreads.com/genres?ref=nav_brws_genres\"\n",
    "# Set up headers to mimic a browser request\n",
    "# This is important to avoid being blocked by the server for making automated requests.\n",
    "headers = {'User-Agent': 'Mozilla/5.0 (Windows NT 10.0; Win64; x64) AppleWebKit/537.36 (KHTML, like Gecko) Chrome/108.0.0.0 Safari/537.36'}  # Add User-Agent header to mimic a browser request\n",
    "# Pass the headers to the request\n",
    "response = requests.get(url, headers=headers)  \n",
    "# Raise an exception for bad status codes\n",
    "response.raise_for_status()  \n",
    "\n",
    "# Parse the HTML content using BeautifulSoup\n",
    "soup = BeautifulSoup(response.content, \"html.parser\")\n",
    "# Find all genre links in the HTML content\n",
    "# The CSS selector is used to find all anchor tags within the specified div structure.\n",
    "genre_links = soup.select(\"div.bigBoxContent > div.left a.gr-hyperlink\")\n",
    "# Extract the text from each link and strip any leading/trailing whitespace\n",
    "genres = [link.text.strip() for link in genre_links]\n",
    "\n",
    "print(genres)"
   ]
  },
  {
   "cell_type": "code",
   "execution_count": 11,
   "id": "9e9a5058",
   "metadata": {},
   "outputs": [
    {
     "name": "stdout",
     "output_type": "stream",
     "text": [
      "{'romance', 'comics', 'humorandcomedy', 'sports', 'business', 'mystery', 'religion', 'historicalfiction', 'horror', 'history', 'crime', 'nonfiction', 'chicklit', 'selfhelp', 'manga', 'fiction', 'philosophy', 'art', 'cookbooks', 'science', 'travel', 'poetry', 'paranormal', 'youngadult', 'christian', 'childrens', 'fantasy', 'music', 'psychology', 'biography', 'ebooks', 'contemporary', 'graphicnovels', 'suspense', 'sciencefiction', 'spirituality', 'thriller', 'memoir', 'classics', 'gayandlesbian'}\n"
     ]
    }
   ],
   "source": [
    "genre_lexicon = set(genres)\n",
    "genre_lexicon = {remove_punctuation_numbers(genre) for genre in genre_lexicon}\n",
    "print(genre_lexicon)"
   ]
  },
  {
   "cell_type": "code",
   "execution_count": 12,
   "id": "860f6583",
   "metadata": {},
   "outputs": [],
   "source": [
    "# Filters the Book Tags Merged DataFrame to keep only the tags that are present in the retrieved genre list.\n",
    "df_book_tags_cleaned = df_book_tags_merged[df_book_tags_merged['tag_name'].isin([genre for genre in genre_lexicon])]\n"
   ]
  },
  {
   "cell_type": "code",
   "execution_count": 18,
   "id": "dcee3bef",
   "metadata": {},
   "outputs": [
    {
     "data": {
      "text/html": [
       "<div>\n",
       "<style scoped>\n",
       "    .dataframe tbody tr th:only-of-type {\n",
       "        vertical-align: middle;\n",
       "    }\n",
       "\n",
       "    .dataframe tbody tr th {\n",
       "        vertical-align: top;\n",
       "    }\n",
       "\n",
       "    .dataframe thead th {\n",
       "        text-align: right;\n",
       "    }\n",
       "</style>\n",
       "<table border=\"1\" class=\"dataframe\">\n",
       "  <thead>\n",
       "    <tr style=\"text-align: right;\">\n",
       "      <th></th>\n",
       "      <th>tag_id</th>\n",
       "      <th>count</th>\n",
       "      <th>tag_name</th>\n",
       "      <th>book_id</th>\n",
       "    </tr>\n",
       "  </thead>\n",
       "  <tbody>\n",
       "    <tr>\n",
       "      <th>0</th>\n",
       "      <td>11305</td>\n",
       "      <td>37174</td>\n",
       "      <td>fantasy</td>\n",
       "      <td>27</td>\n",
       "    </tr>\n",
       "    <tr>\n",
       "      <th>1</th>\n",
       "      <td>33114</td>\n",
       "      <td>12716</td>\n",
       "      <td>youngadult</td>\n",
       "      <td>27</td>\n",
       "    </tr>\n",
       "    <tr>\n",
       "      <th>2</th>\n",
       "      <td>11743</td>\n",
       "      <td>9954</td>\n",
       "      <td>fiction</td>\n",
       "      <td>27</td>\n",
       "    </tr>\n",
       "    <tr>\n",
       "      <th>3</th>\n",
       "      <td>6953</td>\n",
       "      <td>2408</td>\n",
       "      <td>childrens</td>\n",
       "      <td>27</td>\n",
       "    </tr>\n",
       "    <tr>\n",
       "      <th>4</th>\n",
       "      <td>6888</td>\n",
       "      <td>1095</td>\n",
       "      <td>childrens</td>\n",
       "      <td>27</td>\n",
       "    </tr>\n",
       "  </tbody>\n",
       "</table>\n",
       "</div>"
      ],
      "text/plain": [
       "   tag_id  count    tag_name  book_id\n",
       "0   11305  37174     fantasy       27\n",
       "1   33114  12716  youngadult       27\n",
       "2   11743   9954     fiction       27\n",
       "3    6953   2408   childrens       27\n",
       "4    6888   1095   childrens       27"
      ]
     },
     "execution_count": 18,
     "metadata": {},
     "output_type": "execute_result"
    }
   ],
   "source": [
    "# Merges the cleaned Book Tags DataFrame with the Books DataFrame to replace 'goodreads_book_id' with 'book_id'.\n",
    "df_book_tags = pd.merge(df_book_tags_cleaned, df_books[['book_id', 'goodreads_book_id']], on='goodreads_book_id', how='left')\n",
    "df_book_tags.drop(columns=['goodreads_book_id'], inplace=True)\n",
    "df_book_tags.head()"
   ]
  },
  {
   "cell_type": "code",
   "execution_count": 19,
   "id": "c6881280",
   "metadata": {},
   "outputs": [],
   "source": [
    "df_book_tags = df_book_tags[df_book_tags['book_id'].isin(df_books_cleaned['book_id'])]"
   ]
  },
  {
   "cell_type": "code",
   "execution_count": 25,
   "id": "233e2927",
   "metadata": {},
   "outputs": [],
   "source": [
    "# Group by 'book_id' and join the 'tag_name' strings with a space\n",
    "combined_tags = df_book_tags.groupby('book_id')['tag_name'].apply(lambda tags: ' '.join(tags))"
   ]
  },
  {
   "cell_type": "code",
   "execution_count": 27,
   "id": "d6bac45d",
   "metadata": {},
   "outputs": [
    {
     "data": {
      "text/html": [
       "<div>\n",
       "<style scoped>\n",
       "    .dataframe tbody tr th:only-of-type {\n",
       "        vertical-align: middle;\n",
       "    }\n",
       "\n",
       "    .dataframe tbody tr th {\n",
       "        vertical-align: top;\n",
       "    }\n",
       "\n",
       "    .dataframe thead th {\n",
       "        text-align: right;\n",
       "    }\n",
       "</style>\n",
       "<table border=\"1\" class=\"dataframe\">\n",
       "  <thead>\n",
       "    <tr style=\"text-align: right;\">\n",
       "      <th></th>\n",
       "      <th>book_id</th>\n",
       "      <th>combined_tags</th>\n",
       "    </tr>\n",
       "  </thead>\n",
       "  <tbody>\n",
       "    <tr>\n",
       "      <th>0</th>\n",
       "      <td>1</td>\n",
       "      <td>youngadult fiction fantasy sciencefiction roma...</td>\n",
       "    </tr>\n",
       "    <tr>\n",
       "      <th>1</th>\n",
       "      <td>2</td>\n",
       "      <td>fantasy youngadult fiction childrens classics ...</td>\n",
       "    </tr>\n",
       "    <tr>\n",
       "      <th>2</th>\n",
       "      <td>4</td>\n",
       "      <td>classics historicalfiction youngadult fiction ...</td>\n",
       "    </tr>\n",
       "    <tr>\n",
       "      <th>3</th>\n",
       "      <td>5</td>\n",
       "      <td>classics fiction historicalfiction romance you...</td>\n",
       "    </tr>\n",
       "    <tr>\n",
       "      <th>4</th>\n",
       "      <td>6</td>\n",
       "      <td>youngadult fiction romance contemporary ebooks...</td>\n",
       "    </tr>\n",
       "  </tbody>\n",
       "</table>\n",
       "</div>"
      ],
      "text/plain": [
       "   book_id                                      combined_tags\n",
       "0        1  youngadult fiction fantasy sciencefiction roma...\n",
       "1        2  fantasy youngadult fiction childrens classics ...\n",
       "2        4  classics historicalfiction youngadult fiction ...\n",
       "3        5  classics fiction historicalfiction romance you...\n",
       "4        6  youngadult fiction romance contemporary ebooks..."
      ]
     },
     "execution_count": 27,
     "metadata": {},
     "output_type": "execute_result"
    }
   ],
   "source": [
    "df_combined_tags = combined_tags.reset_index()\n",
    "df_combined_tags.columns = ['book_id', 'combined_tags']\n",
    "df_combined_tags.head()"
   ]
  },
  {
   "cell_type": "code",
   "execution_count": 29,
   "id": "50aaa07e",
   "metadata": {},
   "outputs": [],
   "source": [
    "df_combined_tags.to_csv(\"cleaned_book_tags.csv\", index=False)"
   ]
  }
 ],
 "metadata": {
  "kernelspec": {
   "display_name": "Python 3",
   "language": "python",
   "name": "python3"
  },
  "language_info": {
   "codemirror_mode": {
    "name": "ipython",
    "version": 3
   },
   "file_extension": ".py",
   "mimetype": "text/x-python",
   "name": "python",
   "nbconvert_exporter": "python",
   "pygments_lexer": "ipython3",
   "version": "3.8.2"
  }
 },
 "nbformat": 4,
 "nbformat_minor": 5
}
