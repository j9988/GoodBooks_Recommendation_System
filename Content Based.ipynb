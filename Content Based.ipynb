{
 "cells": [
  {
   "cell_type": "code",
   "execution_count": 12,
   "id": "7cafe47b",
   "metadata": {},
   "outputs": [],
   "source": [
    "# import libraries\n",
    "import re\n",
    "import numpy as np\n",
    "import pandas as pd\n",
    "from difflib import get_close_matches\n",
    "from IPython.display import Image, display\n",
    "from IPython.core.display import HTML\n",
    "from sklearn.metrics.pairwise import cosine_similarity\n",
    "from sklearn.model_selection import train_test_split\n",
    "from sklearn.feature_extraction.text import TfidfVectorizer"
   ]
  },
  {
   "cell_type": "code",
   "execution_count": 13,
   "id": "b050fce1",
   "metadata": {},
   "outputs": [],
   "source": [
    "df_books = pd.read_csv(\"cleaned_books.csv\")"
   ]
  },
  {
   "cell_type": "code",
   "execution_count": 14,
   "id": "aefcaa97",
   "metadata": {},
   "outputs": [],
   "source": [
    "from sklearn.model_selection import train_test_split\n",
    "\n",
    "# Split book data (non-personalized, so no users involved)\n",
    "train_books, test_books = train_test_split(df_books, test_size=0.2, random_state=42)\n",
    "train_books = train_books.reset_index(drop=True)\n",
    "test_books = test_books.reset_index(drop=True)"
   ]
  },
  {
   "cell_type": "code",
   "execution_count": 15,
   "id": "ad83e7c9",
   "metadata": {},
   "outputs": [],
   "source": [
    "# Creates TF-IDF matrix from book titles and authors.\n",
    "def create_tfidf_matrix(book_df):\n",
    "    # Combine title and authors, handle potential NaNs\n",
    "    authors_title_df = book_df[['book_id', 'original_title', 'title', 'authors', 'average_rating', 'image_url']].copy()\n",
    "    authors_title_df['content'] = authors_title_df['original_title'].fillna('') + ' ' + authors_title_df['authors'].fillna('')\n",
    "    tfidf = TfidfVectorizer(stop_words='english')\n",
    "    tfidf_matrix = tfidf.fit_transform(authors_title_df['content'])\n",
    "    return tfidf_matrix, authors_title_df # Return df with 'content' column"
   ]
  },
  {
   "cell_type": "code",
   "execution_count": 16,
   "id": "0c235e3c",
   "metadata": {},
   "outputs": [],
   "source": [
    "tfidf_matrix_train, authors_title_df_train = create_tfidf_matrix(train_books)\n",
    "tfidf_matrix_test, authors_title_df_test = create_tfidf_matrix(test_books)"
   ]
  },
  {
   "cell_type": "code",
   "execution_count": 24,
   "id": "554187ce",
   "metadata": {},
   "outputs": [],
   "source": [
    "def rcmd_content_based(ori_book_id, books_df, k=5):\n",
    "    # Get the index of the book that matches the ID\n",
    "    idx_series = train_books.index[books_df['book_id'] == ori_book_id]\n",
    "    idx = idx_series[0]\n",
    "    \n",
    "    tfidf_matrix, authors_title_df = create_tfidf_matrix(books_df)\n",
    "    \n",
    "    v = cosine_similarity(tfidf_matrix, tfidf_matrix)\n",
    "    # Get the pairwise similarity scores of all books with that book\n",
    "    sim_scores = list(enumerate(v[idx]))\n",
    "\n",
    "    # Sort the books based on the similarity scores\n",
    "    sim_scores = sorted(sim_scores, key=lambda x: x[1], reverse=True)\n",
    "\n",
    "    # Get the scores of the k most similar books (excluding the book itself)\n",
    "    sim_scores = sim_scores[1:k+1]\n",
    "\n",
    "    # Get the book indices\n",
    "    book_indices = [i[0] for i in sim_scores]\n",
    "\n",
    "    # Get the similarity scores\n",
    "    similarity_values = [i[1] for i in sim_scores]\n",
    "\n",
    "    # Return the top k most similar books\n",
    "    rcmd = authors_title_df.iloc[book_indices][[\"book_id\", \"title\", \"authors\", \"average_rating\", \"image_url\"]].copy()\n",
    "    rcmd['similarity_score'] = similarity_values\n",
    "    rcmd = rcmd.reset_index(drop=True)\n",
    "\n",
    "    return rcmd"
   ]
  },
  {
   "cell_type": "code",
   "execution_count": 27,
   "id": "11cf1031",
   "metadata": {},
   "outputs": [
    {
     "name": "stdout",
     "output_type": "stream",
     "text": [
      "Book Title:  To All the Boys I've Loved Before\n"
     ]
    }
   ],
   "source": [
    "book_id = 827\n",
    "title = df_books.loc[df_books['book_id'] == book_id, 'original_title'].iloc[0]\n",
    "print(\"Book Title: \", title)\n",
    "rcmd_c_b = rcmd_content_based(book_id, train_books)"
   ]
  },
  {
   "cell_type": "code",
   "execution_count": 28,
   "id": "5fa14e9c",
   "metadata": {},
   "outputs": [
    {
     "data": {
      "text/html": [
       "<table border=\"1\" class=\"dataframe\">\n",
       "  <thead>\n",
       "    <tr style=\"text-align: right;\">\n",
       "      <th></th>\n",
       "      <th>book_id</th>\n",
       "      <th>title</th>\n",
       "      <th>authors</th>\n",
       "      <th>average_rating</th>\n",
       "      <th>image_url</th>\n",
       "      <th>similarity_score</th>\n",
       "    </tr>\n",
       "  </thead>\n",
       "  <tbody>\n",
       "    <tr>\n",
       "      <th>0</th>\n",
       "      <td>2112</td>\n",
       "      <td>P.S. I Still Love You (To All the Boys I've Loved Before, #2)</td>\n",
       "      <td>Jenny Han</td>\n",
       "      <td>4.17</td>\n",
       "      <td><img src=\"https://images.gr-assets.com/books/1422881430m/20698530.jpg\" width=\"100\"></td>\n",
       "      <td>0.543969</td>\n",
       "    </tr>\n",
       "    <tr>\n",
       "      <th>1</th>\n",
       "      <td>1284</td>\n",
       "      <td>It's Not Summer Without You (Summer, #2)</td>\n",
       "      <td>Jenny Han</td>\n",
       "      <td>4.14</td>\n",
       "      <td><img src=\"https://images.gr-assets.com/books/1479864019m/6584188.jpg\" width=\"100\"></td>\n",
       "      <td>0.514270</td>\n",
       "    </tr>\n",
       "    <tr>\n",
       "      <th>2</th>\n",
       "      <td>1614</td>\n",
       "      <td>We'll Always Have Summer (Summer, #3)</td>\n",
       "      <td>Jenny Han</td>\n",
       "      <td>4.17</td>\n",
       "      <td><img src=\"https://images.gr-assets.com/books/1327054226m/8680278.jpg\" width=\"100\"></td>\n",
       "      <td>0.435687</td>\n",
       "    </tr>\n",
       "    <tr>\n",
       "      <th>3</th>\n",
       "      <td>9769</td>\n",
       "      <td>The Summer I Turned Pretty Trilogy: The Summer I Turned Pretty; It's Not Summer Without You; We'll Always Have Summer</td>\n",
       "      <td>Jenny Han</td>\n",
       "      <td>4.46</td>\n",
       "      <td><img src=\"https://s.gr-assets.com/assets/nophoto/book/111x148-bcc042a9c91a29c1d680899eff700a03.png\" width=\"100\"></td>\n",
       "      <td>0.368802</td>\n",
       "    </tr>\n",
       "    <tr>\n",
       "      <th>4</th>\n",
       "      <td>6470</td>\n",
       "      <td>Burn for Burn (Burn for Burn, #1)</td>\n",
       "      <td>Jenny Han, Siobhan Vivian</td>\n",
       "      <td>3.87</td>\n",
       "      <td><img src=\"https://images.gr-assets.com/books/1332791803m/13406425.jpg\" width=\"100\"></td>\n",
       "      <td>0.271112</td>\n",
       "    </tr>\n",
       "  </tbody>\n",
       "</table>"
      ],
      "text/plain": [
       "<IPython.core.display.HTML object>"
      ]
     },
     "metadata": {},
     "output_type": "display_data"
    }
   ],
   "source": [
    "# Function to display images in a DataFrame\n",
    "def display_images(df, image_column):\n",
    "    # Create an HTML representation of the DataFrame with images\n",
    "    html = df.to_html(escape=False, formatters={\n",
    "        image_column: lambda url: f'<img src=\"{url}\" width=\"100\">'\n",
    "    })\n",
    "    display(HTML(html))\n",
    "\n",
    "# Display the DataFrame with images\n",
    "display_images(rcmd_c_b, 'image_url')"
   ]
  },
  {
   "cell_type": "code",
   "execution_count": null,
   "id": "7ceafbe0",
   "metadata": {},
   "outputs": [],
   "source": []
  }
 ],
 "metadata": {
  "kernelspec": {
   "display_name": "Python 3",
   "language": "python",
   "name": "python3"
  },
  "language_info": {
   "codemirror_mode": {
    "name": "ipython",
    "version": 3
   },
   "file_extension": ".py",
   "mimetype": "text/x-python",
   "name": "python",
   "nbconvert_exporter": "python",
   "pygments_lexer": "ipython3",
   "version": "3.13.3"
  }
 },
 "nbformat": 4,
 "nbformat_minor": 5
}
