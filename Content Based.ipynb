{
 "cells": [
  {
   "cell_type": "markdown",
   "id": "4f3f97af",
   "metadata": {},
   "source": [
    "# Importing Libraries"
   ]
  },
  {
   "cell_type": "code",
   "execution_count": 16,
   "id": "7cafe47b",
   "metadata": {},
   "outputs": [],
   "source": [
    "# import libraries\n",
    "import numpy as np\n",
    "import pandas as pd\n",
    "from IPython.display import display\n",
    "from IPython.core.display import HTML\n",
    "from sklearn.metrics.pairwise import cosine_similarity\n",
    "from sklearn.feature_extraction.text import TfidfVectorizer\n",
    "import matplotlib.pyplot as plt\n",
    "import seaborn as sns"
   ]
  },
  {
   "cell_type": "markdown",
   "id": "fa119daa",
   "metadata": {},
   "source": [
    "# Load Datasets"
   ]
  },
  {
   "cell_type": "code",
   "execution_count": 20,
   "id": "b050fce1",
   "metadata": {},
   "outputs": [],
   "source": [
    "df_books = pd.read_csv(\"cleaned_books.csv\")"
   ]
  },
  {
   "cell_type": "markdown",
   "id": "e1ec1613",
   "metadata": {},
   "source": [
    "# Helper Function"
   ]
  },
  {
   "cell_type": "code",
   "execution_count": null,
   "id": "88e5b6df",
   "metadata": {},
   "outputs": [],
   "source": [
    "# Function to display images in a DataFrame\n",
    "def display_images(df, image_column):\n",
    "    # Create an HTML representation of the DataFrame with images\n",
    "    html = df.to_html(escape=False, formatters={\n",
    "        image_column: lambda url: f'<img src=\"{url}\" width=\"50\">'\n",
    "    })\n",
    "    display(HTML(html))"
   ]
  },
  {
   "cell_type": "markdown",
   "id": "9754da1d",
   "metadata": {},
   "source": [
    "# Content-Based"
   ]
  },
  {
   "cell_type": "markdown",
   "id": "1c667027",
   "metadata": {},
   "source": [
    "## Function to Create TF-IDF Matrix"
   ]
  },
  {
   "cell_type": "code",
   "execution_count": null,
   "id": "ad83e7c9",
   "metadata": {},
   "outputs": [],
   "source": [
    "# Creates TF-IDF matrix from book titles and authors.\n",
    "def create_tfidf_matrix():\n",
    "    # Combine title and authors, handle potential NaNs\n",
    "    authors_title_df = df_books[['book_id', 'original_title', 'title', 'authors', 'average_rating', 'image_url']].copy()\n",
    "    authors_title_df['content'] = authors_title_df['original_title'].fillna('') + ' ' + authors_title_df['authors'].fillna('')\n",
    "    \n",
    "    # Initializes a `TfidfVectorizer` with English stop words.\n",
    "    tfidf = TfidfVectorizer(stop_words='english')\n",
    "    \n",
    "    # Fits and transforms the 'content' column to create a TF-IDF matrix, \n",
    "    # where rows represent books and columns represent TF-IDF scores for terms.\n",
    "    tfidf_matrix = tfidf.fit_transform(authors_title_df['content'])\n",
    "    return tfidf_matrix, authors_title_df "
   ]
  },
  {
   "cell_type": "markdown",
   "id": "293ecd45",
   "metadata": {},
   "source": [
    "## Get Content-Based Recommendations for a Sample Book"
   ]
  },
  {
   "cell_type": "code",
   "execution_count": 22,
   "id": "554187ce",
   "metadata": {},
   "outputs": [],
   "source": [
    "def rcmd_content_based(ori_book_id, k=5):\n",
    "    # Get the index of the book that matches the ID\n",
    "    idx_series = df_books.index[df_books['book_id'] == ori_book_id]\n",
    "    idx = idx_series[0]\n",
    "    \n",
    "    tfidf_matrix, authors_title_df = create_tfidf_matrix()\n",
    "    \n",
    "    v = cosine_similarity(tfidf_matrix, tfidf_matrix)\n",
    "    # Get the pairwise similarity scores of all books with that book\n",
    "    sim_scores = list(enumerate(v[idx]))\n",
    "\n",
    "    # Sort the books based on the similarity scores\n",
    "    sim_scores = sorted(sim_scores, key=lambda x: x[1], reverse=True)\n",
    "\n",
    "    # Get the scores of the k most similar books (excluding the book itself)\n",
    "    sim_scores = sim_scores[1:k+1]\n",
    "\n",
    "    # Get the book indices\n",
    "    book_indices = [i[0] for i in sim_scores]\n",
    "\n",
    "    # Get the similarity scores\n",
    "    similarity_values = [i[1] for i in sim_scores]\n",
    "\n",
    "    # Return the top k most similar books\n",
    "    rcmd = authors_title_df.iloc[book_indices][[\"book_id\", \"title\", \"authors\", \"average_rating\", \"image_url\"]].copy()\n",
    "    rcmd['similarity_score'] = similarity_values\n",
    "    rcmd = rcmd.reset_index(drop=True)\n",
    "\n",
    "    return rcmd"
   ]
  },
  {
   "cell_type": "code",
   "execution_count": 23,
   "id": "11cf1031",
   "metadata": {},
   "outputs": [
    {
     "name": "stdout",
     "output_type": "stream",
     "text": [
      "Book Title:  To All the Boys I've Loved Before\n"
     ]
    }
   ],
   "source": [
    "book_id = 827\n",
    "title = df_books.loc[df_books['book_id'] == book_id, 'original_title'].iloc[0]\n",
    "print(\"Book Title: \", title)\n",
    "rcmd_c_b = rcmd_content_based(book_id)"
   ]
  },
  {
   "cell_type": "code",
   "execution_count": null,
   "id": "5fa14e9c",
   "metadata": {},
   "outputs": [
    {
     "data": {
      "text/html": [
       "<table border=\"1\" class=\"dataframe\">\n",
       "  <thead>\n",
       "    <tr style=\"text-align: right;\">\n",
       "      <th></th>\n",
       "      <th>book_id</th>\n",
       "      <th>title</th>\n",
       "      <th>authors</th>\n",
       "      <th>average_rating</th>\n",
       "      <th>image_url</th>\n",
       "      <th>similarity_score</th>\n",
       "    </tr>\n",
       "  </thead>\n",
       "  <tbody>\n",
       "    <tr>\n",
       "      <th>0</th>\n",
       "      <td>2112</td>\n",
       "      <td>P.S. I Still Love You (To All the Boys I've Loved Before, #2)</td>\n",
       "      <td>Jenny Han</td>\n",
       "      <td>4.17</td>\n",
       "      <td><img src=\"https://images.gr-assets.com/books/1422881430m/20698530.jpg\" width=\"50\"></td>\n",
       "      <td>0.543720</td>\n",
       "    </tr>\n",
       "    <tr>\n",
       "      <th>1</th>\n",
       "      <td>1284</td>\n",
       "      <td>It's Not Summer Without You (Summer, #2)</td>\n",
       "      <td>Jenny Han</td>\n",
       "      <td>4.14</td>\n",
       "      <td><img src=\"https://images.gr-assets.com/books/1479864019m/6584188.jpg\" width=\"50\"></td>\n",
       "      <td>0.520045</td>\n",
       "    </tr>\n",
       "    <tr>\n",
       "      <th>2</th>\n",
       "      <td>1614</td>\n",
       "      <td>We'll Always Have Summer (Summer, #3)</td>\n",
       "      <td>Jenny Han</td>\n",
       "      <td>4.17</td>\n",
       "      <td><img src=\"https://images.gr-assets.com/books/1327054226m/8680278.jpg\" width=\"50\"></td>\n",
       "      <td>0.438682</td>\n",
       "    </tr>\n",
       "    <tr>\n",
       "      <th>3</th>\n",
       "      <td>1066</td>\n",
       "      <td>The Summer I Turned Pretty (Summer, #1)</td>\n",
       "      <td>Jenny Han</td>\n",
       "      <td>3.96</td>\n",
       "      <td><img src=\"https://images.gr-assets.com/books/1361666855m/5821978.jpg\" width=\"50\"></td>\n",
       "      <td>0.379573</td>\n",
       "    </tr>\n",
       "    <tr>\n",
       "      <th>4</th>\n",
       "      <td>9769</td>\n",
       "      <td>The Summer I Turned Pretty Trilogy: The Summer I Turned Pretty; It's Not Summer Without You; We'll Always Have Summer</td>\n",
       "      <td>Jenny Han</td>\n",
       "      <td>4.46</td>\n",
       "      <td><img src=\"https://s.gr-assets.com/assets/nophoto/book/111x148-bcc042a9c91a29c1d680899eff700a03.png\" width=\"50\"></td>\n",
       "      <td>0.379573</td>\n",
       "    </tr>\n",
       "  </tbody>\n",
       "</table>"
      ],
      "text/plain": [
       "<IPython.core.display.HTML object>"
      ]
     },
     "metadata": {},
     "output_type": "display_data"
    }
   ],
   "source": [
    "# Display the DataFrame with images\n",
    "display_images(rcmd_c_b, 'image_url')"
   ]
  },
  {
   "cell_type": "markdown",
   "id": "477b7a5d",
   "metadata": {},
   "source": [
    "# Evaluation"
   ]
  },
  {
   "cell_type": "markdown",
   "id": "df8a45cd",
   "metadata": {},
   "source": [
    "## Load Book Tags Dataset"
   ]
  },
  {
   "cell_type": "code",
   "execution_count": 25,
   "id": "17c3b957",
   "metadata": {},
   "outputs": [],
   "source": [
    "df_tags = pd.read_csv(\"cleaned_book_tags.csv\")"
   ]
  },
  {
   "cell_type": "markdown",
   "id": "a93f123c",
   "metadata": {},
   "source": [
    "## Prepare Data for Evaluation"
   ]
  },
  {
   "cell_type": "code",
   "execution_count": 26,
   "id": "689e1528",
   "metadata": {},
   "outputs": [],
   "source": [
    "df_merged = df_books.merge(df_tags, on='book_id', how='inner')\n",
    "df_merged['tag_set'] = df_merged['combined_tags'].apply(lambda x: set(x.split()))\n",
    "tfidf_matrix, authors_title_df = create_tfidf_matrix()"
   ]
  },
  {
   "cell_type": "markdown",
   "id": "73c68fef",
   "metadata": {},
   "source": [
    "## Function to Define Ground Truth for Evaluation\n"
   ]
  },
  {
   "cell_type": "code",
   "execution_count": null,
   "id": "c8e3a6b0",
   "metadata": {},
   "outputs": [],
   "source": [
    "def get_ground_truth(df_merged, min_shared_tags=2):\n",
    "    # Creates a dictionary `tag_sets` mapping each `book_id` to its set of tags.\n",
    "    tag_sets = dict(zip(df_merged['book_id'], df_merged['tag_set']))\n",
    "    ground_truth = {}\n",
    "    \n",
    "    # For each book, identifies other books as \"ground truth\" relevant items \n",
    "    # if they share at least `min_shared_tags`.\n",
    "    for bid, tags in tag_sets.items():\n",
    "        ground_truth[bid] = [\n",
    "            other_id for other_id, other_tags in tag_sets.items()\n",
    "            if other_id != bid and len(tags & other_tags) >= min_shared_tags\n",
    "        ]\n",
    "    return ground_truth"
   ]
  },
  {
   "cell_type": "markdown",
   "id": "dcdad081",
   "metadata": {},
   "source": [
    "## Calculate Similarity Matrix and Ground Truth"
   ]
  },
  {
   "cell_type": "code",
   "execution_count": 28,
   "id": "fbeed54f",
   "metadata": {},
   "outputs": [],
   "source": [
    "v = cosine_similarity(tfidf_matrix, tfidf_matrix)\n",
    "ground_truth = get_ground_truth(df_merged)"
   ]
  },
  {
   "cell_type": "markdown",
   "id": "e57aba36",
   "metadata": {},
   "source": [
    "## Function to Calculate Evaluation Metrics @K\n"
   ]
  },
  {
   "cell_type": "code",
   "execution_count": null,
   "id": "d6fb6de6",
   "metadata": {},
   "outputs": [],
   "source": [
    "book_ids = authors_title_df['book_id'].tolist()\n",
    "id_to_index = {bid: idx for idx, bid in enumerate(book_ids)}\n",
    "\n",
    "def evaluation(query_id, k):\n",
    "    idx = id_to_index[query_id]\n",
    "    sims = v[idx].copy()\n",
    "    sims[idx] = -1  # exclude self\n",
    "    top_k_indices = sims.argsort()[-k:][::-1]\n",
    "    top_k_ids = [book_ids[i] for i in top_k_indices]\n",
    "    relevant = set(ground_truth.get(query_id, []))\n",
    "    \n",
    "    if not relevant:\n",
    "        return 0.0, 0.0, 0.0, 0.0, 0.0\n",
    "    \n",
    "    # Precision: Proportion of the top `k` recommended items that are relevant.\n",
    "    true_positives = len(set(top_k_ids) & relevant)\n",
    "    pre = true_positives / k\n",
    "    \n",
    "    # Recall: Proportion of all relevant items for the user that are in the top `k` recommendations.\n",
    "    recall = true_positives / len(relevant)\n",
    "    \n",
    "    # F1@K: The harmonic mean of Precision@k and Recall@k.\n",
    "    if pre + recall == 0:\n",
    "        f1 = 0.0\n",
    "    else:\n",
    "        f1 = (2 * pre * recall) / (pre + recall)\n",
    "    \n",
    "    # MAP@K: Sum of precision values at each rank where a relevant item is found \n",
    "    # in the top k, divided by min(number of relevant items, k).\n",
    "    hits = 0\n",
    "    sum_precisions = 0.0\n",
    "    for i, book_id in enumerate(top_k_ids):\n",
    "        if book_id in relevant:\n",
    "            hits += 1\n",
    "            sum_precisions += hits / (i + 1)\n",
    "    map = sum_precisions / min(len(relevant), k)\n",
    "    \n",
    "    # MRR@K: The reciprocal of the rank of the first relevant item in the top k.\n",
    "    mrr = 0.0\n",
    "    for i, book_id in enumerate(top_k_ids):\n",
    "        if book_id in relevant:\n",
    "            mrr = 1 / (i + 1)\n",
    "    \n",
    "    return pre, recall, f1, map, mrr"
   ]
  },
  {
   "cell_type": "markdown",
   "id": "095ffbb7",
   "metadata": {},
   "source": [
    "## Evaluate Model for K=5 and Print Average Metrics"
   ]
  },
  {
   "cell_type": "code",
   "execution_count": 30,
   "id": "bb0a0860",
   "metadata": {},
   "outputs": [
    {
     "name": "stdout",
     "output_type": "stream",
     "text": [
      "Precision@5: 0.9099\n",
      "Recall@5: 0.0007\n",
      "F1@5: 0.0014\n",
      "MAP@5: 0.8887\n",
      "MRR@5: 0.2141\n"
     ]
    }
   ],
   "source": [
    "eval = [evaluation(bid, k=5) for bid in book_ids if bid in ground_truth and ground_truth[bid]]\n",
    "precisions, recall, f1, maps, mrrs = zip(*eval)\n",
    "\n",
    "print(f\"Precision@5: {np.mean(precisions):.4f}\")\n",
    "print(f\"Recall@5: {np.mean(recall):.4f}\")\n",
    "print(f\"F1@5: {np.mean(f1):.4f}\")\n",
    "print(f\"MAP@5: {np.mean(maps):.4f}\")\n",
    "print(f\"MRR@5: {np.mean(mrrs):.4f}\")"
   ]
  },
  {
   "cell_type": "markdown",
   "id": "7f6a2b69",
   "metadata": {},
   "source": [
    "## Evaluate Model with Various Ranking Metrics for K=1 to 5\n"
   ]
  },
  {
   "cell_type": "code",
   "execution_count": 31,
   "id": "1200dfd1",
   "metadata": {},
   "outputs": [
    {
     "data": {
      "text/html": [
       "<div>\n",
       "<style scoped>\n",
       "    .dataframe tbody tr th:only-of-type {\n",
       "        vertical-align: middle;\n",
       "    }\n",
       "\n",
       "    .dataframe tbody tr th {\n",
       "        vertical-align: top;\n",
       "    }\n",
       "\n",
       "    .dataframe thead th {\n",
       "        text-align: right;\n",
       "    }\n",
       "</style>\n",
       "<table border=\"1\" class=\"dataframe\">\n",
       "  <thead>\n",
       "    <tr style=\"text-align: right;\">\n",
       "      <th></th>\n",
       "      <th>num_recommendations</th>\n",
       "      <th>precision@k</th>\n",
       "      <th>recall@k</th>\n",
       "      <th>f1-score@k</th>\n",
       "      <th>mAP@k</th>\n",
       "      <th>MRR@k</th>\n",
       "    </tr>\n",
       "  </thead>\n",
       "  <tbody>\n",
       "    <tr>\n",
       "      <th>0</th>\n",
       "      <td>1</td>\n",
       "      <td>0.942514</td>\n",
       "      <td>0.000153</td>\n",
       "      <td>0.000307</td>\n",
       "      <td>0.942514</td>\n",
       "      <td>0.942514</td>\n",
       "    </tr>\n",
       "    <tr>\n",
       "      <th>1</th>\n",
       "      <td>2</td>\n",
       "      <td>0.929508</td>\n",
       "      <td>0.000294</td>\n",
       "      <td>0.000588</td>\n",
       "      <td>0.922131</td>\n",
       "      <td>0.513770</td>\n",
       "    </tr>\n",
       "    <tr>\n",
       "      <th>2</th>\n",
       "      <td>3</td>\n",
       "      <td>0.920401</td>\n",
       "      <td>0.000430</td>\n",
       "      <td>0.000857</td>\n",
       "      <td>0.907505</td>\n",
       "      <td>0.351876</td>\n",
       "    </tr>\n",
       "    <tr>\n",
       "      <th>3</th>\n",
       "      <td>4</td>\n",
       "      <td>0.914399</td>\n",
       "      <td>0.000565</td>\n",
       "      <td>0.001126</td>\n",
       "      <td>0.896749</td>\n",
       "      <td>0.266393</td>\n",
       "    </tr>\n",
       "    <tr>\n",
       "      <th>4</th>\n",
       "      <td>5</td>\n",
       "      <td>0.909923</td>\n",
       "      <td>0.000696</td>\n",
       "      <td>0.001387</td>\n",
       "      <td>0.888748</td>\n",
       "      <td>0.214097</td>\n",
       "    </tr>\n",
       "  </tbody>\n",
       "</table>\n",
       "</div>"
      ],
      "text/plain": [
       "   num_recommendations  precision@k  recall@k  f1-score@k     mAP@k     MRR@k\n",
       "0                    1     0.942514  0.000153    0.000307  0.942514  0.942514\n",
       "1                    2     0.929508  0.000294    0.000588  0.922131  0.513770\n",
       "2                    3     0.920401  0.000430    0.000857  0.907505  0.351876\n",
       "3                    4     0.914399  0.000565    0.001126  0.896749  0.266393\n",
       "4                    5     0.909923  0.000696    0.001387  0.888748  0.214097"
      ]
     },
     "execution_count": 31,
     "metadata": {},
     "output_type": "execute_result"
    }
   ],
   "source": [
    "results = []\n",
    "\n",
    "for k in range(1, 6):  \n",
    "    eval = [evaluation(bid, k) for bid in book_ids if bid in ground_truth and ground_truth[bid]]\n",
    "    precision, recall, f1, map_score, mrr = zip(*eval)\n",
    "    results.append({\n",
    "        'num_recommendations': k,\n",
    "        'precision@k': np.mean(precision),\n",
    "        'recall@k': np.mean(recall),\n",
    "        'f1-score@k': np.mean(f1),\n",
    "        'mAP@k': np.mean(map_score),\n",
    "        'MRR@k': np.mean(mrr)\n",
    "    })\n",
    "\n",
    "df_evaluation = pd.DataFrame(results)\n",
    "df_evaluation"
   ]
  },
  {
   "cell_type": "markdown",
   "id": "ec961248",
   "metadata": {},
   "source": [
    "## Convert Precision and Recall to Percentage"
   ]
  },
  {
   "cell_type": "code",
   "execution_count": 32,
   "id": "b053399c",
   "metadata": {},
   "outputs": [],
   "source": [
    "df_evaluation['precision@k'] = df_evaluation['precision@k'] * 100\n",
    "df_evaluation['recall@k'] = df_evaluation['recall@k'] * 100"
   ]
  },
  {
   "cell_type": "markdown",
   "id": "6ff9c9ee",
   "metadata": {},
   "source": [
    "## Plot Precision@k and Recall@k vs. Number of Recommendations"
   ]
  },
  {
   "cell_type": "code",
   "execution_count": 33,
   "id": "4f05ee0f",
   "metadata": {},
   "outputs": [
    {
     "data": {
      "image/png": "[encoded data removed]",
      "text/plain": [
       "<Figure size 500x300 with 1 Axes>"
      ]
     },
     "metadata": {},
     "output_type": "display_data"
    }
   ],
   "source": [
    "plt.figure(figsize=(5, 3))\n",
    "sns.lineplot(\n",
    "    data=df_evaluation,\n",
    "    x='num_recommendations',\n",
    "    y='precision@k',\n",
    "    marker='o',\n",
    "    label='Precision@k',\n",
    "    color='skyblue'\n",
    ")\n",
    "sns.lineplot(\n",
    "    data=df_evaluation,\n",
    "    x='num_recommendations',\n",
    "    y='recall@k',\n",
    "    marker='o',\n",
    "    label='Recall@k',\n",
    "    color='plum'\n",
    ")\n",
    "\n",
    "plt.xlabel('Number of Recommendations (k)')\n",
    "plt.ylabel('Score')\n",
    "range_k = [1, 2, 3, 4, 5]\n",
    "plt.xticks(np.arange(min(range_k), max(range_k)+1, 1.0))\n",
    "plt.legend()\n",
    "plt.grid(alpha=0.3)\n",
    "plt.show()"
   ]
  }
 ],
 "metadata": {
  "kernelspec": {
   "display_name": "Python 3",
   "language": "python",
   "name": "python3"
  },
  "language_info": {
   "codemirror_mode": {
    "name": "ipython",
    "version": 3
   },
   "file_extension": ".py",
   "mimetype": "text/x-python",
   "name": "python",
   "nbconvert_exporter": "python",
   "pygments_lexer": "ipython3",
   "version": "3.13.3"
  }
 },
 "nbformat": 4,
 "nbformat_minor": 5
}
